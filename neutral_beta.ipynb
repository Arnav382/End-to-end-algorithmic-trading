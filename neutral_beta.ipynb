{
 "cells": [
  {
   "cell_type": "code",
   "execution_count": 1,
   "id": "f265987d-145f-46bf-aed6-d314ca64f892",
   "metadata": {},
   "outputs": [],
   "source": [
    "import numpy as np\n",
    "import pandas as pd\n",
    "import yfinance as yf\n",
    "import statsmodels.api as sm\n",
    "import plotly.express as px\n",
    "import math"
   ]
  },
  {
   "cell_type": "markdown",
   "id": "37915fad-b59e-4853-befd-46c78bdcf63d",
   "metadata": {},
   "source": [
    "#### beta=relation of a stock with nifty\n",
    "#### purpose :- build a portfolio such that there is a fixed return regardless of the direction of the market"
   ]
  },
  {
   "cell_type": "code",
   "execution_count": 122,
   "id": "7b240a3c-6185-4521-a966-5430ad11e9eb",
   "metadata": {},
   "outputs": [],
   "source": [
    "# Define stock symbols and time period \"SUNDARMHLD.NS\"\n",
    "stocks = [\"AARTIIND.NS\", \"ABFRL.NS\", \"ACC.NS\", \"ADANIENT.NS\", \"ADANIPORTS.NS\", \"ADANITRANS.NS\", \"ADVANIHOTR.NS\", \n",
    "          \"ADSL.NS\", \"AJANTPETRO.NS\", \"APOLLOHOSP.NS\", \"APOLLOTYRE.NS\", \"APOLLUVAS.NS\", \"ASHOKLEY.NS\", \"ASIANPAINT.NS\", \n",
    "          \"AUROPHARMA.NS\", \"AXISBANK.NS\", \"BAJAJHIND.NS\", \"BAJAJFINSV.NS\", \"BALKRISIND.NS\", \"BANDHANBNK.NS\", \"BANKBARODA.NS\",\n",
    "          \"BANKINDIA.NS\", \"BATAINDIA.NS\", \"BEL.NS\", \"BHEL.NS\", \"BPCL.NS\", \"BRITANNIA.NS\", \"BSL.NS\", \"CADILAHC.NS\", \n",
    "          \"CENTURYTEX.NS\", \"CHOLAFIN.NS\", \"CIPLA.NS\", \"COALINDIA.NS\", \"CONCOR.NS\", \"CROMPTON.NS\", \"CUB.NS\", \"DABUR.NS\",\n",
    "          \"DEEPAKFERT.NS\", \"DIVISLAB.NS\", \"DLF.NS\", \"DRREDDY.NS\", \"EICHERMOT.NS\", \"EIDMKTG.NS\", \"ENGINERSIN.NS\", \"ESCORTS.NS\", \n",
    "          \"EXIDEIND.NS\", \"FEDERALBNK.NS\", \"FINOSERV.NS\", \"GAIL.NS\", \"GLANDPHARMA.NS\", \"GODREJCP.NS\", \"GODREJPROP.NS\", \n",
    "          \"GRASIM.NS\", \"HDFC.NS\", \"HDFCBANK.NS\", \"HEROMOTOCO.NS\", \"HINDALCO.NS\", \"HINDUNILVR.NS\", \"HDFCLIFE.NS\", \n",
    "          \"HDFCAMC.NS\", \"HCLTECH.NS\", \"ICICIGI.NS\", \"ICICIBANK.NS\", \"ICICINFRA.NS\", \"IDFCFIRSTB.NS\", \"INDUSINDBK.NS\", \n",
    "          \"INFY.NS\", \"IOC.NS\", \"ITC.NS\", \"JINDALSTEL.NS\", \"JSWSTEEL.NS\", \"KOTAKBANK.NS\", \"L&TFH.NS\", \"LT.NS\", \"M&M.NS\",\n",
    "          \"MARUTI.NS\", \"MOTHERSUMI.NS\", \"MUTHOOTFIN.NS\", \"NATIONALUM.NS\", \"NIITTECH.NS\", \"NMDC.NS\", \"NTPC.NS\", \"ONGC.NS\", \n",
    "          \"ORIENTBANK.NS\", \"PEL.NS\", \"PNB.NS\", \"POWERGRID.NS\", \"PVR.NS\", \"RELIANCE.NS\", \"SBI.NS\", \"SBIN.NS\", \"SUNPHARMA.NS\", \n",
    "          \"TCS.NS\", \"TATAMOTORS.NS\", \"TATAPOWER.NS\", \"TATASTEEL.NS\", \"TECHM.NS\", \"TITAN.NS\", \"TORNTPOWER.NS\", \"UPL.NS\", \n",
    "          \"VEDL.NS\", \"WIPRO.NS\"]\n",
    "market_symbol = \"^NSEI\"  # NSE Nifty 50 index symbol\n",
    "risk_free_rate = 0.05  # Adjust this value based on the current risk-free rate\n",
    "market_risk_premium = 0.06  # Adjust this value based on historical data\n",
    "\n",
    "\n",
    "start_date = \"2022-12-31\"\n",
    "end_date = \"2023-08-09\""
   ]
  },
  {
   "cell_type": "code",
   "execution_count": 123,
   "id": "97541108-94a7-478f-989b-55f57009fb8b",
   "metadata": {},
   "outputs": [
    {
     "name": "stdout",
     "output_type": "stream",
     "text": [
      "[*********************100%***********************]  103 of 103 completed"
     ]
    },
    {
     "name": "stderr",
     "output_type": "stream",
     "text": [
      "\n",
      "13 Failed downloads:\n",
      "['CADILAHC.NS', 'ORIENTBANK.NS', 'APOLLUVAS.NS', 'PVR.NS', 'MOTHERSUMI.NS', 'NIITTECH.NS', 'AJANTPETRO.NS', 'FINOSERV.NS', 'ICICINFRA.NS', 'GLANDPHARMA.NS', 'EIDMKTG.NS']: Exception('%ticker%: No timezone found, symbol may be delisted')\n",
      "['HDFC.NS', 'SBI.NS']: Exception('%ticker%: No price data found, symbol may be delisted (1d 2022-12-31 -> 2023-08-09)')\n"
     ]
    },
    {
     "name": "stdout",
     "output_type": "stream",
     "text": [
      "\n"
     ]
    }
   ],
   "source": [
    "# Download historical data for stocks and market\n",
    "\n",
    "data = yf.download(stocks + [market_symbol],start=start_date, end=end_date )[\"Adj Close\"]\n",
    "# data = yf.download(stocks + [market_symbol],period='1wk',interval='1m' )[\"Adj Close\"]\n"
   ]
  },
  {
   "cell_type": "code",
   "execution_count": 124,
   "id": "1616a5a0-edda-443f-8c38-849001f0557a",
   "metadata": {},
   "outputs": [],
   "source": [
    "data=data.dropna(axis=1)\n",
    "stocks=np.array(data.columns)\n",
    "stocks=np.delete(stocks,-1)"
   ]
  },
  {
   "cell_type": "code",
   "execution_count": 125,
   "id": "7485e67f-7e23-4a44-8dd0-70cf7d512ea2",
   "metadata": {},
   "outputs": [
    {
     "data": {
      "text/html": [
       "<div>\n",
       "<style scoped>\n",
       "    .dataframe tbody tr th:only-of-type {\n",
       "        vertical-align: middle;\n",
       "    }\n",
       "\n",
       "    .dataframe tbody tr th {\n",
       "        vertical-align: top;\n",
       "    }\n",
       "\n",
       "    .dataframe thead th {\n",
       "        text-align: right;\n",
       "    }\n",
       "</style>\n",
       "<table border=\"1\" class=\"dataframe\">\n",
       "  <thead>\n",
       "    <tr style=\"text-align: right;\">\n",
       "      <th></th>\n",
       "      <th>AARTIIND.NS</th>\n",
       "      <th>ABFRL.NS</th>\n",
       "      <th>ACC.NS</th>\n",
       "      <th>ADANIENT.NS</th>\n",
       "      <th>ADANIPORTS.NS</th>\n",
       "      <th>ADANITRANS.NS</th>\n",
       "      <th>ADSL.NS</th>\n",
       "      <th>APOLLOHOSP.NS</th>\n",
       "      <th>APOLLOTYRE.NS</th>\n",
       "      <th>ASHOKLEY.NS</th>\n",
       "      <th>...</th>\n",
       "      <th>TATAMOTORS.NS</th>\n",
       "      <th>TATAPOWER.NS</th>\n",
       "      <th>TATASTEEL.NS</th>\n",
       "      <th>TCS.NS</th>\n",
       "      <th>TECHM.NS</th>\n",
       "      <th>TITAN.NS</th>\n",
       "      <th>TORNTPOWER.NS</th>\n",
       "      <th>UPL.NS</th>\n",
       "      <th>VEDL.NS</th>\n",
       "      <th>WIPRO.NS</th>\n",
       "    </tr>\n",
       "    <tr>\n",
       "      <th>Date</th>\n",
       "      <th></th>\n",
       "      <th></th>\n",
       "      <th></th>\n",
       "      <th></th>\n",
       "      <th></th>\n",
       "      <th></th>\n",
       "      <th></th>\n",
       "      <th></th>\n",
       "      <th></th>\n",
       "      <th></th>\n",
       "      <th></th>\n",
       "      <th></th>\n",
       "      <th></th>\n",
       "      <th></th>\n",
       "      <th></th>\n",
       "      <th></th>\n",
       "      <th></th>\n",
       "      <th></th>\n",
       "      <th></th>\n",
       "      <th></th>\n",
       "      <th></th>\n",
       "    </tr>\n",
       "  </thead>\n",
       "  <tbody>\n",
       "    <tr>\n",
       "      <th>2023-01-03</th>\n",
       "      <td>0.009823</td>\n",
       "      <td>-0.004358</td>\n",
       "      <td>0.001209</td>\n",
       "      <td>-0.002668</td>\n",
       "      <td>-0.002250</td>\n",
       "      <td>0.010610</td>\n",
       "      <td>0.015516</td>\n",
       "      <td>0.008205</td>\n",
       "      <td>-0.008682</td>\n",
       "      <td>-0.008409</td>\n",
       "      <td>...</td>\n",
       "      <td>-0.002280</td>\n",
       "      <td>-0.002360</td>\n",
       "      <td>-0.006709</td>\n",
       "      <td>0.015300</td>\n",
       "      <td>0.014165</td>\n",
       "      <td>0.018650</td>\n",
       "      <td>-0.002297</td>\n",
       "      <td>-0.003670</td>\n",
       "      <td>0.010914</td>\n",
       "      <td>0.010177</td>\n",
       "    </tr>\n",
       "    <tr>\n",
       "      <th>2023-01-04</th>\n",
       "      <td>-0.014429</td>\n",
       "      <td>-0.019611</td>\n",
       "      <td>-0.013673</td>\n",
       "      <td>-0.001018</td>\n",
       "      <td>-0.012737</td>\n",
       "      <td>-0.024781</td>\n",
       "      <td>-0.014752</td>\n",
       "      <td>-0.012826</td>\n",
       "      <td>-0.016441</td>\n",
       "      <td>-0.010855</td>\n",
       "      <td>...</td>\n",
       "      <td>-0.021071</td>\n",
       "      <td>-0.015377</td>\n",
       "      <td>-0.022794</td>\n",
       "      <td>0.000997</td>\n",
       "      <td>-0.003419</td>\n",
       "      <td>-0.006141</td>\n",
       "      <td>-0.030133</td>\n",
       "      <td>-0.005143</td>\n",
       "      <td>-0.035206</td>\n",
       "      <td>-0.018511</td>\n",
       "    </tr>\n",
       "    <tr>\n",
       "      <th>2023-01-05</th>\n",
       "      <td>-0.002467</td>\n",
       "      <td>-0.001072</td>\n",
       "      <td>0.012825</td>\n",
       "      <td>0.000719</td>\n",
       "      <td>0.011852</td>\n",
       "      <td>0.016496</td>\n",
       "      <td>0.002674</td>\n",
       "      <td>-0.000959</td>\n",
       "      <td>0.056866</td>\n",
       "      <td>0.018175</td>\n",
       "      <td>...</td>\n",
       "      <td>0.003371</td>\n",
       "      <td>-0.002403</td>\n",
       "      <td>0.006911</td>\n",
       "      <td>-0.001071</td>\n",
       "      <td>-0.008478</td>\n",
       "      <td>-0.013647</td>\n",
       "      <td>0.000413</td>\n",
       "      <td>0.006497</td>\n",
       "      <td>0.009893</td>\n",
       "      <td>-0.007185</td>\n",
       "    </tr>\n",
       "    <tr>\n",
       "      <th>2023-01-06</th>\n",
       "      <td>-0.012121</td>\n",
       "      <td>-0.007509</td>\n",
       "      <td>-0.009938</td>\n",
       "      <td>-0.001449</td>\n",
       "      <td>-0.016471</td>\n",
       "      <td>-0.012059</td>\n",
       "      <td>-0.009067</td>\n",
       "      <td>-0.009392</td>\n",
       "      <td>-0.031042</td>\n",
       "      <td>-0.004715</td>\n",
       "      <td>...</td>\n",
       "      <td>-0.012665</td>\n",
       "      <td>-0.010597</td>\n",
       "      <td>-0.007722</td>\n",
       "      <td>-0.030065</td>\n",
       "      <td>-0.025206</td>\n",
       "      <td>-0.009367</td>\n",
       "      <td>-0.007532</td>\n",
       "      <td>-0.002985</td>\n",
       "      <td>-0.005460</td>\n",
       "      <td>-0.012665</td>\n",
       "    </tr>\n",
       "    <tr>\n",
       "      <th>2023-01-09</th>\n",
       "      <td>0.001669</td>\n",
       "      <td>-0.013871</td>\n",
       "      <td>0.020158</td>\n",
       "      <td>0.008119</td>\n",
       "      <td>0.013088</td>\n",
       "      <td>0.036123</td>\n",
       "      <td>0.003767</td>\n",
       "      <td>0.004615</td>\n",
       "      <td>-0.001678</td>\n",
       "      <td>0.024366</td>\n",
       "      <td>...</td>\n",
       "      <td>0.019503</td>\n",
       "      <td>0.003895</td>\n",
       "      <td>0.016429</td>\n",
       "      <td>0.033753</td>\n",
       "      <td>0.029509</td>\n",
       "      <td>-0.021059</td>\n",
       "      <td>0.012163</td>\n",
       "      <td>0.022349</td>\n",
       "      <td>0.018892</td>\n",
       "      <td>0.025654</td>\n",
       "    </tr>\n",
       "    <tr>\n",
       "      <th>...</th>\n",
       "      <td>...</td>\n",
       "      <td>...</td>\n",
       "      <td>...</td>\n",
       "      <td>...</td>\n",
       "      <td>...</td>\n",
       "      <td>...</td>\n",
       "      <td>...</td>\n",
       "      <td>...</td>\n",
       "      <td>...</td>\n",
       "      <td>...</td>\n",
       "      <td>...</td>\n",
       "      <td>...</td>\n",
       "      <td>...</td>\n",
       "      <td>...</td>\n",
       "      <td>...</td>\n",
       "      <td>...</td>\n",
       "      <td>...</td>\n",
       "      <td>...</td>\n",
       "      <td>...</td>\n",
       "      <td>...</td>\n",
       "      <td>...</td>\n",
       "    </tr>\n",
       "    <tr>\n",
       "      <th>2023-08-02</th>\n",
       "      <td>-0.011427</td>\n",
       "      <td>-0.015794</td>\n",
       "      <td>-0.019571</td>\n",
       "      <td>-0.003043</td>\n",
       "      <td>-0.005096</td>\n",
       "      <td>-0.018223</td>\n",
       "      <td>-0.001478</td>\n",
       "      <td>-0.007084</td>\n",
       "      <td>-0.005851</td>\n",
       "      <td>-0.020901</td>\n",
       "      <td>...</td>\n",
       "      <td>-0.032626</td>\n",
       "      <td>-0.035393</td>\n",
       "      <td>-0.034497</td>\n",
       "      <td>-0.003302</td>\n",
       "      <td>0.001880</td>\n",
       "      <td>-0.008245</td>\n",
       "      <td>-0.020139</td>\n",
       "      <td>-0.010468</td>\n",
       "      <td>-0.017154</td>\n",
       "      <td>-0.010198</td>\n",
       "    </tr>\n",
       "    <tr>\n",
       "      <th>2023-08-03</th>\n",
       "      <td>0.004666</td>\n",
       "      <td>0.013067</td>\n",
       "      <td>0.028865</td>\n",
       "      <td>0.023873</td>\n",
       "      <td>0.015628</td>\n",
       "      <td>0.009375</td>\n",
       "      <td>0.002220</td>\n",
       "      <td>-0.000090</td>\n",
       "      <td>0.016009</td>\n",
       "      <td>0.003604</td>\n",
       "      <td>...</td>\n",
       "      <td>-0.005942</td>\n",
       "      <td>-0.001273</td>\n",
       "      <td>-0.006305</td>\n",
       "      <td>-0.011829</td>\n",
       "      <td>-0.002488</td>\n",
       "      <td>-0.025209</td>\n",
       "      <td>0.006851</td>\n",
       "      <td>-0.014282</td>\n",
       "      <td>-0.066507</td>\n",
       "      <td>-0.007820</td>\n",
       "    </tr>\n",
       "    <tr>\n",
       "      <th>2023-08-04</th>\n",
       "      <td>-0.002111</td>\n",
       "      <td>-0.050464</td>\n",
       "      <td>0.007199</td>\n",
       "      <td>0.003633</td>\n",
       "      <td>0.002457</td>\n",
       "      <td>-0.000063</td>\n",
       "      <td>0.070875</td>\n",
       "      <td>-0.003202</td>\n",
       "      <td>0.013324</td>\n",
       "      <td>0.008287</td>\n",
       "      <td>...</td>\n",
       "      <td>-0.006382</td>\n",
       "      <td>0.000849</td>\n",
       "      <td>0.006768</td>\n",
       "      <td>0.012824</td>\n",
       "      <td>0.028351</td>\n",
       "      <td>0.000792</td>\n",
       "      <td>-0.004038</td>\n",
       "      <td>0.004830</td>\n",
       "      <td>-0.027554</td>\n",
       "      <td>0.023020</td>\n",
       "    </tr>\n",
       "    <tr>\n",
       "      <th>2023-08-07</th>\n",
       "      <td>0.004548</td>\n",
       "      <td>-0.049333</td>\n",
       "      <td>-0.005728</td>\n",
       "      <td>0.003423</td>\n",
       "      <td>0.020832</td>\n",
       "      <td>0.045252</td>\n",
       "      <td>-0.006205</td>\n",
       "      <td>0.006847</td>\n",
       "      <td>-0.005603</td>\n",
       "      <td>0.003014</td>\n",
       "      <td>...</td>\n",
       "      <td>-0.008943</td>\n",
       "      <td>-0.012094</td>\n",
       "      <td>-0.001261</td>\n",
       "      <td>0.011761</td>\n",
       "      <td>0.007190</td>\n",
       "      <td>0.000069</td>\n",
       "      <td>-0.008859</td>\n",
       "      <td>0.005718</td>\n",
       "      <td>-0.036835</td>\n",
       "      <td>0.005626</td>\n",
       "    </tr>\n",
       "    <tr>\n",
       "      <th>2023-08-08</th>\n",
       "      <td>-0.002422</td>\n",
       "      <td>0.012284</td>\n",
       "      <td>-0.014820</td>\n",
       "      <td>-0.029778</td>\n",
       "      <td>-0.009098</td>\n",
       "      <td>-0.010928</td>\n",
       "      <td>-0.014568</td>\n",
       "      <td>0.001785</td>\n",
       "      <td>0.007474</td>\n",
       "      <td>0.003551</td>\n",
       "      <td>...</td>\n",
       "      <td>-0.003610</td>\n",
       "      <td>0.004725</td>\n",
       "      <td>-0.005890</td>\n",
       "      <td>-0.003860</td>\n",
       "      <td>0.018375</td>\n",
       "      <td>0.005732</td>\n",
       "      <td>-0.003863</td>\n",
       "      <td>-0.004038</td>\n",
       "      <td>0.008825</td>\n",
       "      <td>0.012647</td>\n",
       "    </tr>\n",
       "  </tbody>\n",
       "</table>\n",
       "<p>148 rows × 86 columns</p>\n",
       "</div>"
      ],
      "text/plain": [
       "            AARTIIND.NS  ABFRL.NS    ACC.NS  ADANIENT.NS  ADANIPORTS.NS  \\\n",
       "Date                                                                      \n",
       "2023-01-03     0.009823 -0.004358  0.001209    -0.002668      -0.002250   \n",
       "2023-01-04    -0.014429 -0.019611 -0.013673    -0.001018      -0.012737   \n",
       "2023-01-05    -0.002467 -0.001072  0.012825     0.000719       0.011852   \n",
       "2023-01-06    -0.012121 -0.007509 -0.009938    -0.001449      -0.016471   \n",
       "2023-01-09     0.001669 -0.013871  0.020158     0.008119       0.013088   \n",
       "...                 ...       ...       ...          ...            ...   \n",
       "2023-08-02    -0.011427 -0.015794 -0.019571    -0.003043      -0.005096   \n",
       "2023-08-03     0.004666  0.013067  0.028865     0.023873       0.015628   \n",
       "2023-08-04    -0.002111 -0.050464  0.007199     0.003633       0.002457   \n",
       "2023-08-07     0.004548 -0.049333 -0.005728     0.003423       0.020832   \n",
       "2023-08-08    -0.002422  0.012284 -0.014820    -0.029778      -0.009098   \n",
       "\n",
       "            ADANITRANS.NS   ADSL.NS  APOLLOHOSP.NS  APOLLOTYRE.NS  \\\n",
       "Date                                                                \n",
       "2023-01-03       0.010610  0.015516       0.008205      -0.008682   \n",
       "2023-01-04      -0.024781 -0.014752      -0.012826      -0.016441   \n",
       "2023-01-05       0.016496  0.002674      -0.000959       0.056866   \n",
       "2023-01-06      -0.012059 -0.009067      -0.009392      -0.031042   \n",
       "2023-01-09       0.036123  0.003767       0.004615      -0.001678   \n",
       "...                   ...       ...            ...            ...   \n",
       "2023-08-02      -0.018223 -0.001478      -0.007084      -0.005851   \n",
       "2023-08-03       0.009375  0.002220      -0.000090       0.016009   \n",
       "2023-08-04      -0.000063  0.070875      -0.003202       0.013324   \n",
       "2023-08-07       0.045252 -0.006205       0.006847      -0.005603   \n",
       "2023-08-08      -0.010928 -0.014568       0.001785       0.007474   \n",
       "\n",
       "            ASHOKLEY.NS  ...  TATAMOTORS.NS  TATAPOWER.NS  TATASTEEL.NS  \\\n",
       "Date                     ...                                              \n",
       "2023-01-03    -0.008409  ...      -0.002280     -0.002360     -0.006709   \n",
       "2023-01-04    -0.010855  ...      -0.021071     -0.015377     -0.022794   \n",
       "2023-01-05     0.018175  ...       0.003371     -0.002403      0.006911   \n",
       "2023-01-06    -0.004715  ...      -0.012665     -0.010597     -0.007722   \n",
       "2023-01-09     0.024366  ...       0.019503      0.003895      0.016429   \n",
       "...                 ...  ...            ...           ...           ...   \n",
       "2023-08-02    -0.020901  ...      -0.032626     -0.035393     -0.034497   \n",
       "2023-08-03     0.003604  ...      -0.005942     -0.001273     -0.006305   \n",
       "2023-08-04     0.008287  ...      -0.006382      0.000849      0.006768   \n",
       "2023-08-07     0.003014  ...      -0.008943     -0.012094     -0.001261   \n",
       "2023-08-08     0.003551  ...      -0.003610      0.004725     -0.005890   \n",
       "\n",
       "              TCS.NS  TECHM.NS  TITAN.NS  TORNTPOWER.NS    UPL.NS   VEDL.NS  \\\n",
       "Date                                                                          \n",
       "2023-01-03  0.015300  0.014165  0.018650      -0.002297 -0.003670  0.010914   \n",
       "2023-01-04  0.000997 -0.003419 -0.006141      -0.030133 -0.005143 -0.035206   \n",
       "2023-01-05 -0.001071 -0.008478 -0.013647       0.000413  0.006497  0.009893   \n",
       "2023-01-06 -0.030065 -0.025206 -0.009367      -0.007532 -0.002985 -0.005460   \n",
       "2023-01-09  0.033753  0.029509 -0.021059       0.012163  0.022349  0.018892   \n",
       "...              ...       ...       ...            ...       ...       ...   \n",
       "2023-08-02 -0.003302  0.001880 -0.008245      -0.020139 -0.010468 -0.017154   \n",
       "2023-08-03 -0.011829 -0.002488 -0.025209       0.006851 -0.014282 -0.066507   \n",
       "2023-08-04  0.012824  0.028351  0.000792      -0.004038  0.004830 -0.027554   \n",
       "2023-08-07  0.011761  0.007190  0.000069      -0.008859  0.005718 -0.036835   \n",
       "2023-08-08 -0.003860  0.018375  0.005732      -0.003863 -0.004038  0.008825   \n",
       "\n",
       "            WIPRO.NS  \n",
       "Date                  \n",
       "2023-01-03  0.010177  \n",
       "2023-01-04 -0.018511  \n",
       "2023-01-05 -0.007185  \n",
       "2023-01-06 -0.012665  \n",
       "2023-01-09  0.025654  \n",
       "...              ...  \n",
       "2023-08-02 -0.010198  \n",
       "2023-08-03 -0.007820  \n",
       "2023-08-04  0.023020  \n",
       "2023-08-07  0.005626  \n",
       "2023-08-08  0.012647  \n",
       "\n",
       "[148 rows x 86 columns]"
      ]
     },
     "execution_count": 125,
     "metadata": {},
     "output_type": "execute_result"
    }
   ],
   "source": [
    "# Calculate daily returns for stocks and market\n",
    "returns = data.pct_change().dropna()\n",
    "\n",
    "# Separate the market returns from the returns dataframe\n",
    "market_returns = returns[market_symbol]\n",
    "stock_returns = returns.drop(columns=[market_symbol])\n",
    "stock_returns"
   ]
  },
  {
   "cell_type": "code",
   "execution_count": 128,
   "id": "2173b7ec-814a-4015-803d-09ac2f7d0ce0",
   "metadata": {},
   "outputs": [
    {
     "data": {
      "text/plain": [
       "Date\n",
       "2023-01-03    0.001929\n",
       "2023-01-04   -0.010399\n",
       "2023-01-05   -0.002815\n",
       "2023-01-06   -0.007376\n",
       "2023-01-09    0.013536\n",
       "                ...   \n",
       "2023-08-02   -0.010490\n",
       "2023-08-03   -0.007421\n",
       "2023-08-04    0.006983\n",
       "2023-08-07    0.004114\n",
       "2023-08-08   -0.001350\n",
       "Name: ^NSEI, Length: 148, dtype: float64"
      ]
     },
     "execution_count": 128,
     "metadata": {},
     "output_type": "execute_result"
    }
   ],
   "source": [
    "# Calculate the excess market returns (market risk premium)\n",
    "excess_market_returns = market_returns - risk_free_rate\n",
    "market_returns"
   ]
  },
  {
   "cell_type": "code",
   "execution_count": 127,
   "id": "57c40e2c-c3cc-4ece-90b2-101c9da14ef3",
   "metadata": {},
   "outputs": [],
   "source": [
    "# Perform linear regression to calculate betas\n",
    "betas = []\n",
    "for stock in stocks:\n",
    "    X = sm.add_constant(excess_market_returns)\n",
    "    y = stock_returns[stock]\n",
    "    model = sm.OLS(y, X).fit()\n",
    "    beta = model.params[1]  # Slope coefficient (beta)\n",
    "    betas.append(beta)"
   ]
  },
  {
   "cell_type": "code",
   "execution_count": 86,
   "id": "6ddcd9a5-bbbd-441b-93bf-9cff8cdfe030",
   "metadata": {},
   "outputs": [
    {
     "name": "stdout",
     "output_type": "stream",
     "text": [
      "Adjusted Beta of AARTIIND.NS: 0.9819793499901477\n",
      "Adjusted Beta of ABFRL.NS: 0.8596083792912271\n",
      "Adjusted Beta of ACC.NS: 1.8929838799539052\n",
      "Adjusted Beta of ADANIENT.NS: 3.692221815232921\n",
      "Adjusted Beta of ADANIPORTS.NS: 2.3918261333498836\n",
      "Adjusted Beta of ADANITRANS.NS: 1.3575985672002508\n",
      "Adjusted Beta of ADSL.NS: 1.387242577638401\n",
      "Adjusted Beta of APOLLOHOSP.NS: 0.45445136050823637\n",
      "Adjusted Beta of APOLLOTYRE.NS: 0.590159371216597\n",
      "Adjusted Beta of ASHOKLEY.NS: 0.5765510543748911\n",
      "Adjusted Beta of ASIANPAINT.NS: 0.4412490981054455\n",
      "Adjusted Beta of AUROPHARMA.NS: 0.25965556050568656\n",
      "Adjusted Beta of AXISBANK.NS: 1.0152915166009728\n",
      "Adjusted Beta of BAJAJFINSV.NS: 1.3021294753682997\n",
      "Adjusted Beta of BAJAJHIND.NS: 1.366447011489755\n",
      "Adjusted Beta of BANDHANBNK.NS: 1.0099085050429994\n",
      "Adjusted Beta of BANKBARODA.NS: 1.6777780332209835\n",
      "Adjusted Beta of BANKINDIA.NS: 1.4874321522008989\n",
      "Adjusted Beta of BATAINDIA.NS: 0.6097237939712513\n",
      "Adjusted Beta of BEL.NS: 1.1816020260199456\n",
      "Adjusted Beta of BHEL.NS: 0.9831553953199367\n",
      "Adjusted Beta of BPCL.NS: 0.42629617390184493\n",
      "Adjusted Beta of BRITANNIA.NS: 0.40314783975988727\n",
      "Adjusted Beta of CENTURYTEX.NS: 1.163618315145976\n",
      "Adjusted Beta of CHOLAFIN.NS: 1.0900594864501503\n",
      "Adjusted Beta of CIPLA.NS: 0.4073062904309994\n",
      "Adjusted Beta of COALINDIA.NS: 0.6442717927889524\n",
      "Adjusted Beta of CONCOR.NS: 1.017556359925857\n",
      "Adjusted Beta of CROMPTON.NS: 0.5097273698387136\n",
      "Adjusted Beta of CUB.NS: 1.0593047656422105\n",
      "Adjusted Beta of DABUR.NS: 0.462951810443534\n",
      "Adjusted Beta of DEEPAKFERT.NS: 0.8725190347094044\n",
      "Adjusted Beta of DIVISLAB.NS: 0.1041579579667812\n",
      "Adjusted Beta of DLF.NS: 1.1283034825942175\n",
      "Adjusted Beta of DRREDDY.NS: 0.40300621119482394\n",
      "Adjusted Beta of EICHERMOT.NS: 0.7723129190752164\n",
      "Adjusted Beta of ENGINERSIN.NS: 0.3626929462832028\n",
      "Adjusted Beta of ESCORTS.NS: 0.703797035868933\n",
      "Adjusted Beta of EXIDEIND.NS: 0.5982006591768129\n",
      "Adjusted Beta of FEDERALBNK.NS: 1.104087002287236\n",
      "Adjusted Beta of GAIL.NS: 0.39049906448809785\n",
      "Adjusted Beta of GODREJCP.NS: 0.24344683673266063\n",
      "Adjusted Beta of GODREJPROP.NS: 1.133006673506544\n",
      "Adjusted Beta of GRASIM.NS: 0.8912077588768254\n",
      "Adjusted Beta of HCLTECH.NS: 1.1127127031299686\n",
      "Adjusted Beta of HDFCAMC.NS: 1.4249652221899847\n",
      "Adjusted Beta of HDFCBANK.NS: 1.2645506506377924\n",
      "Adjusted Beta of HDFCLIFE.NS: 1.0465488855426048\n",
      "Adjusted Beta of HEROMOTOCO.NS: 0.6597781711413206\n",
      "Adjusted Beta of HINDALCO.NS: 1.274018659923124\n",
      "Adjusted Beta of HINDUNILVR.NS: 0.6035090186912605\n",
      "Adjusted Beta of ICICIBANK.NS: 1.013471186000165\n",
      "Adjusted Beta of ICICIGI.NS: 0.6717146794661929\n",
      "Adjusted Beta of IDFCFIRSTB.NS: 1.1192495916413367\n",
      "Adjusted Beta of INDUSINDBK.NS: 1.4877158595321383\n",
      "Adjusted Beta of INFY.NS: 1.5328807891691447\n",
      "Adjusted Beta of IOC.NS: 0.4684937790382508\n",
      "Adjusted Beta of ITC.NS: 0.637124640801449\n",
      "Adjusted Beta of JINDALSTEL.NS: 1.283895854382617\n",
      "Adjusted Beta of JSWSTEEL.NS: 1.0527587045786557\n",
      "Adjusted Beta of KOTAKBANK.NS: 0.973462116308672\n",
      "Adjusted Beta of L&TFH.NS: 1.4800255692490067\n",
      "Adjusted Beta of LT.NS: 0.739336640414365\n",
      "Adjusted Beta of M&M.NS: 1.159866938244776\n",
      "Adjusted Beta of MARUTI.NS: 0.47291872811231067\n",
      "Adjusted Beta of MUTHOOTFIN.NS: 0.6045681855973096\n",
      "Adjusted Beta of NATIONALUM.NS: 1.000194271523423\n",
      "Adjusted Beta of NMDC.NS: 0.8295222576073917\n",
      "Adjusted Beta of NTPC.NS: 0.586611588620005\n",
      "Adjusted Beta of ONGC.NS: 0.5674604060094317\n",
      "Adjusted Beta of PEL.NS: 1.701576583420001\n",
      "Adjusted Beta of PNB.NS: 1.7101459295161965\n",
      "Adjusted Beta of POWERGRID.NS: 0.37179585799232734\n",
      "Adjusted Beta of RELIANCE.NS: 1.406104099151672\n",
      "Adjusted Beta of SBIN.NS: 1.4179882016224343\n",
      "Adjusted Beta of SUNPHARMA.NS: 0.4123174450260154\n",
      "Adjusted Beta of TATAMOTORS.NS: 0.8116279536331734\n",
      "Adjusted Beta of TATAPOWER.NS: 0.8783043191273582\n",
      "Adjusted Beta of TATASTEEL.NS: 1.0408858268074972\n",
      "Adjusted Beta of TCS.NS: 1.0536856433961796\n",
      "Adjusted Beta of TECHM.NS: 0.9800551049583401\n",
      "Adjusted Beta of TITAN.NS: 0.6874827677906233\n",
      "Adjusted Beta of TORNTPOWER.NS: 0.8241117897809385\n",
      "Adjusted Beta of UPL.NS: 1.0074050900129874\n",
      "Adjusted Beta of VEDL.NS: 1.1740245751290845\n",
      "Adjusted Beta of WIPRO.NS: 1.0821921534746988\n"
     ]
    }
   ],
   "source": [
    "# Adjust beta for market risk premium\n",
    "adj_betas = [beta * (1 + market_risk_premium) for beta in betas]\n",
    "\n",
    "# Display the calculated adjusted betas\n",
    "for i, stock in enumerate(stocks):\n",
    "    print(f\"Adjusted Beta of {stock}: {adj_betas[i]}\")"
   ]
  },
  {
   "cell_type": "code",
   "execution_count": 87,
   "id": "bb8c9442-f1a7-43db-a538-b7721476d39b",
   "metadata": {},
   "outputs": [
    {
     "data": {
      "text/plain": [
       "array([ 607.67797852,  286.79998779, 2415.02124023, 3837.36132812,\n",
       "        816.80883789, 2549.5       ,   92.62212372, 4448.34179688,\n",
       "        327.86340332,  144.00775146, 3027.09155273,  432.0819397 ,\n",
       "        939.66687012, 1550.86938477,   17.20000076,  238.57559204,\n",
       "        180.88537598,   89.06487274, 1640.84484863,   98.97312164,\n",
       "         79.82891846,  333.8500061 , 4219.79833984,  723.2779541 ,\n",
       "        730.20825195, 1053.61633301,  219.37931824,  730.58294678,\n",
       "        337.30487061,  176.90623474,  558.92913818,  708.09997559,\n",
       "       3345.58007812,  377.1730957 , 4202.18798828, 3228.85009766,\n",
       "         77.83084869, 2133.79003906,  179.94647217,  136.67391968,\n",
       "         93.08087158,  893.5       , 1236.34997559, 1731.30004883,\n",
       "       1004.15606689, 2137.32128906, 1610.23400879,  568.42578125,\n",
       "       2617.40283203,  487.04998779, 2537.67382812,  887.74285889,\n",
       "       1235.73303223,   61.15000153, 1213.0423584 , 1483.82543945,\n",
       "         75.62677765,  325.67565918,  594.65002441,  772.04803467,\n",
       "       1823.54858398,   88.47981262, 2066.08862305, 1236.8248291 ,\n",
       "       8324.95800781, 1068.80114746,   80.10772705,  122.01165771,\n",
       "        161.46270752,  146.55863953,  805.22351074,   56.42161942,\n",
       "        206.0667572 , 2575.89990234,  600.5302124 ,  986.0824585 ,\n",
       "        393.57333374,  209.8952179 ,  115.48090363, 3164.86694336,\n",
       "        958.42718506, 2548.76269531,  485.05944824,  710.33886719,\n",
       "        264.86114502,  392.08425903])"
      ]
     },
     "execution_count": 87,
     "metadata": {},
     "output_type": "execute_result"
    }
   ],
   "source": [
    "initial_value=[]\n",
    "sum=0\n",
    "for stock in stocks:\n",
    "    initial_value.append(data[stock][0])\n",
    "    sum+=data[stock][0]\n",
    "initial_value=np.array(initial_value)\n",
    "initial_value"
   ]
  },
  {
   "cell_type": "code",
   "execution_count": 88,
   "id": "a97b9f85-e747-41b3-b364-2f55142ca847",
   "metadata": {},
   "outputs": [
    {
     "data": {
      "text/plain": [
       "array([  596.72722635,   246.53567269,  4571.59627751, 14168.38920863,\n",
       "        1953.66472442,  3461.19754708,   128.48935365,  2021.5549816 ,\n",
       "         193.49165995,    83.02782095,  1335.70141753,   112.19247824,\n",
       "         954.03580166,  2019.43273835,    23.50288964,   240.9395195 ,\n",
       "         303.48551034,   132.47795535,  1000.46214643,   116.94684105,\n",
       "          78.48423188,   142.31898026,  1701.20258493,   841.61947433,\n",
       "         795.97043213,   429.14456013,   141.33990666,   743.40932395,\n",
       "         171.93352453,   187.39761753,   258.75725643,   617.83070718,\n",
       "         348.46878915,   425.56571742,  1693.50785989,  2493.68264418,\n",
       "          28.22869982,  1501.75510466,   107.64409827,   150.89989827,\n",
       "          36.34799327,   217.51974862,  1400.79277313,  1542.94803646,\n",
       "        1117.33721156,  3045.60850556,  2036.22246349,   594.88536788,\n",
       "        1726.90525366,   620.51077276,  1531.50904177,   899.70180806,\n",
       "         830.06001765,    68.44211424,  1804.66235487,  2274.52751062,\n",
       "          35.43067486,   207.49598737,   763.46870115,   812.78028885,\n",
       "        1775.15546376,   130.95238504,  1527.53502136,  1434.55222768,\n",
       "        3937.02855264,   646.16317048,    80.1232897 ,   101.21138576,\n",
       "          94.71589536,    83.16622509,  1370.1494703 ,    96.48920278,\n",
       "          76.6147668 ,  3621.98341169,   851.5447559 ,   406.57899987,\n",
       "         319.43511947,   184.35187644,   120.20243585,  3334.77486148,\n",
       "         939.31145545,  1752.23043221,   399.74321004,   715.59899044,\n",
       "         310.95349325,   424.31050863])"
      ]
     },
     "execution_count": 88,
     "metadata": {},
     "output_type": "execute_result"
    }
   ],
   "source": [
    "# aim :- portfolio.T @ adj_beta/sum(portfolio) less than mod(0.05)\n",
    "initial_value* adj_betas"
   ]
  },
  {
   "cell_type": "code",
   "execution_count": 89,
   "id": "b196b7c7-90a7-472c-aac2-b3a2af0ce4af",
   "metadata": {},
   "outputs": [],
   "source": [
    "q=[]\n",
    "for stock in stocks:\n",
    "    q.append(data[stock])\n",
    "q=np.array(q)\n",
    "data['portfolio']=np.matmul(np.ones(q.shape[0]),q)"
   ]
  },
  {
   "cell_type": "code",
   "execution_count": 90,
   "id": "cba6bc85-1aad-4ee0-bbc4-dd4b07f59ec8",
   "metadata": {},
   "outputs": [
    {
     "data": {
      "text/plain": [
       "Date\n",
       "2023-01-02     98453.477905\n",
       "2023-01-03     98623.834705\n",
       "2023-01-04     97941.484896\n",
       "2023-01-05     98394.286808\n",
       "2023-01-06     97561.889212\n",
       "                  ...      \n",
       "2023-08-02    106004.204094\n",
       "2023-08-03    105548.352724\n",
       "2023-08-04    105863.395277\n",
       "2023-08-07    106410.180027\n",
       "2023-08-08    106473.275051\n",
       "Name: portfolio, Length: 149, dtype: float64"
      ]
     },
     "execution_count": 90,
     "metadata": {},
     "output_type": "execute_result"
    }
   ],
   "source": [
    "data[\"portfolio\"]"
   ]
  },
  {
   "cell_type": "code",
   "execution_count": 79,
   "id": "5ff2772b-532a-4419-8764-1660e6f7df27",
   "metadata": {},
   "outputs": [
    {
     "data": {
      "application/vnd.plotly.v1+json": {
       "config": {
        "plotlyServerURL": "https://plot.ly"
       },
       "data": [
        {
         "hovertemplate": "Index=Portfolio Returns (in %)<br>Date=%{x}<br>Returns (%)=%{y}<extra></extra>",
         "legendgroup": "Portfolio Returns (in %)",
         "line": {
          "color": "#636efa",
          "dash": "solid"
         },
         "marker": {
          "symbol": "circle"
         },
         "mode": "lines",
         "name": "Portfolio Returns (in %)",
         "orientation": "v",
         "showlegend": true,
         "type": "scatter",
         "x": [
          "2022-07-11T00:00:00",
          "2022-07-12T00:00:00",
          "2022-07-13T00:00:00",
          "2022-07-14T00:00:00",
          "2022-07-15T00:00:00",
          "2022-07-18T00:00:00",
          "2022-07-19T00:00:00",
          "2022-07-20T00:00:00",
          "2022-07-21T00:00:00",
          "2022-07-22T00:00:00",
          "2022-07-25T00:00:00",
          "2022-07-26T00:00:00",
          "2022-07-27T00:00:00",
          "2022-07-28T00:00:00",
          "2022-07-29T00:00:00",
          "2022-08-01T00:00:00",
          "2022-08-02T00:00:00",
          "2022-08-03T00:00:00",
          "2022-08-04T00:00:00",
          "2022-08-05T00:00:00",
          "2022-08-08T00:00:00",
          "2022-08-10T00:00:00",
          "2022-08-11T00:00:00",
          "2022-08-12T00:00:00",
          "2022-08-16T00:00:00",
          "2022-08-17T00:00:00",
          "2022-08-18T00:00:00",
          "2022-08-19T00:00:00",
          "2022-08-22T00:00:00",
          "2022-08-23T00:00:00",
          "2022-08-24T00:00:00",
          "2022-08-25T00:00:00",
          "2022-08-26T00:00:00",
          "2022-08-29T00:00:00",
          "2022-08-30T00:00:00",
          "2022-09-01T00:00:00",
          "2022-09-02T00:00:00",
          "2022-09-05T00:00:00",
          "2022-09-06T00:00:00",
          "2022-09-07T00:00:00",
          "2022-09-08T00:00:00",
          "2022-09-09T00:00:00",
          "2022-09-12T00:00:00",
          "2022-09-13T00:00:00",
          "2022-09-14T00:00:00",
          "2022-09-15T00:00:00",
          "2022-09-16T00:00:00",
          "2022-09-19T00:00:00",
          "2022-09-20T00:00:00",
          "2022-09-21T00:00:00",
          "2022-09-22T00:00:00",
          "2022-09-23T00:00:00",
          "2022-09-26T00:00:00",
          "2022-09-27T00:00:00",
          "2022-09-28T00:00:00",
          "2022-09-29T00:00:00",
          "2022-09-30T00:00:00",
          "2022-10-03T00:00:00",
          "2022-10-04T00:00:00",
          "2022-10-06T00:00:00",
          "2022-10-07T00:00:00",
          "2022-10-10T00:00:00",
          "2022-10-11T00:00:00",
          "2022-10-12T00:00:00",
          "2022-10-13T00:00:00",
          "2022-10-14T00:00:00",
          "2022-10-17T00:00:00",
          "2022-10-18T00:00:00",
          "2022-10-19T00:00:00",
          "2022-10-20T00:00:00",
          "2022-10-21T00:00:00",
          "2022-10-24T00:00:00",
          "2022-10-25T00:00:00",
          "2022-10-27T00:00:00",
          "2022-10-28T00:00:00",
          "2022-10-31T00:00:00",
          "2022-11-01T00:00:00",
          "2022-11-02T00:00:00",
          "2022-11-03T00:00:00",
          "2022-11-04T00:00:00",
          "2022-11-07T00:00:00",
          "2022-11-09T00:00:00",
          "2022-11-10T00:00:00",
          "2022-11-11T00:00:00",
          "2022-11-14T00:00:00",
          "2022-11-15T00:00:00",
          "2022-11-16T00:00:00",
          "2022-11-17T00:00:00",
          "2022-11-18T00:00:00",
          "2022-11-21T00:00:00",
          "2022-11-22T00:00:00",
          "2022-11-23T00:00:00",
          "2022-11-24T00:00:00",
          "2022-11-25T00:00:00",
          "2022-11-28T00:00:00",
          "2022-11-29T00:00:00",
          "2022-11-30T00:00:00",
          "2022-12-01T00:00:00",
          "2022-12-02T00:00:00",
          "2022-12-05T00:00:00",
          "2022-12-06T00:00:00",
          "2022-12-07T00:00:00",
          "2022-12-08T00:00:00",
          "2022-12-09T00:00:00",
          "2022-12-12T00:00:00",
          "2022-12-13T00:00:00",
          "2022-12-14T00:00:00",
          "2022-12-15T00:00:00",
          "2022-12-16T00:00:00",
          "2022-12-19T00:00:00",
          "2022-12-20T00:00:00",
          "2022-12-21T00:00:00",
          "2022-12-22T00:00:00",
          "2022-12-23T00:00:00",
          "2022-12-26T00:00:00",
          "2022-12-27T00:00:00",
          "2022-12-28T00:00:00",
          "2022-12-29T00:00:00",
          "2022-12-30T00:00:00",
          "2023-01-02T00:00:00",
          "2023-01-03T00:00:00",
          "2023-01-04T00:00:00",
          "2023-01-05T00:00:00",
          "2023-01-06T00:00:00",
          "2023-01-09T00:00:00",
          "2023-01-10T00:00:00",
          "2023-01-11T00:00:00",
          "2023-01-12T00:00:00",
          "2023-01-13T00:00:00",
          "2023-01-16T00:00:00",
          "2023-01-17T00:00:00",
          "2023-01-18T00:00:00",
          "2023-01-19T00:00:00",
          "2023-01-20T00:00:00",
          "2023-01-23T00:00:00",
          "2023-01-24T00:00:00",
          "2023-01-25T00:00:00",
          "2023-01-27T00:00:00",
          "2023-01-30T00:00:00",
          "2023-01-31T00:00:00",
          "2023-02-01T00:00:00",
          "2023-02-02T00:00:00",
          "2023-02-03T00:00:00",
          "2023-02-06T00:00:00",
          "2023-02-07T00:00:00",
          "2023-02-08T00:00:00",
          "2023-02-09T00:00:00",
          "2023-02-10T00:00:00",
          "2023-02-13T00:00:00",
          "2023-02-14T00:00:00",
          "2023-02-15T00:00:00",
          "2023-02-16T00:00:00",
          "2023-02-17T00:00:00",
          "2023-02-20T00:00:00",
          "2023-02-21T00:00:00",
          "2023-02-22T00:00:00",
          "2023-02-23T00:00:00",
          "2023-02-24T00:00:00",
          "2023-02-27T00:00:00",
          "2023-02-28T00:00:00",
          "2023-03-01T00:00:00",
          "2023-03-02T00:00:00",
          "2023-03-03T00:00:00",
          "2023-03-06T00:00:00",
          "2023-03-08T00:00:00",
          "2023-03-09T00:00:00",
          "2023-03-10T00:00:00",
          "2023-03-13T00:00:00",
          "2023-03-14T00:00:00",
          "2023-03-15T00:00:00",
          "2023-03-16T00:00:00",
          "2023-03-17T00:00:00",
          "2023-03-20T00:00:00",
          "2023-03-21T00:00:00",
          "2023-03-22T00:00:00",
          "2023-03-23T00:00:00",
          "2023-03-24T00:00:00",
          "2023-03-27T00:00:00",
          "2023-03-28T00:00:00",
          "2023-03-29T00:00:00",
          "2023-03-31T00:00:00",
          "2023-04-03T00:00:00",
          "2023-04-05T00:00:00",
          "2023-04-06T00:00:00",
          "2023-04-10T00:00:00",
          "2023-04-11T00:00:00",
          "2023-04-12T00:00:00",
          "2023-04-13T00:00:00",
          "2023-04-17T00:00:00",
          "2023-04-18T00:00:00",
          "2023-04-19T00:00:00",
          "2023-04-20T00:00:00",
          "2023-04-21T00:00:00",
          "2023-04-24T00:00:00",
          "2023-04-25T00:00:00",
          "2023-04-26T00:00:00",
          "2023-04-27T00:00:00",
          "2023-04-28T00:00:00",
          "2023-05-02T00:00:00",
          "2023-05-03T00:00:00",
          "2023-05-04T00:00:00",
          "2023-05-05T00:00:00",
          "2023-05-08T00:00:00",
          "2023-05-09T00:00:00",
          "2023-05-10T00:00:00",
          "2023-05-11T00:00:00",
          "2023-05-12T00:00:00",
          "2023-05-15T00:00:00",
          "2023-05-16T00:00:00",
          "2023-05-17T00:00:00",
          "2023-05-18T00:00:00",
          "2023-05-19T00:00:00",
          "2023-05-22T00:00:00",
          "2023-05-23T00:00:00",
          "2023-05-24T00:00:00",
          "2023-05-25T00:00:00",
          "2023-05-26T00:00:00",
          "2023-05-29T00:00:00",
          "2023-05-30T00:00:00",
          "2023-05-31T00:00:00",
          "2023-06-01T00:00:00",
          "2023-06-02T00:00:00",
          "2023-06-05T00:00:00",
          "2023-06-06T00:00:00",
          "2023-06-07T00:00:00",
          "2023-06-08T00:00:00",
          "2023-06-09T00:00:00",
          "2023-06-12T00:00:00",
          "2023-06-13T00:00:00",
          "2023-06-14T00:00:00",
          "2023-06-15T00:00:00",
          "2023-06-16T00:00:00",
          "2023-06-19T00:00:00",
          "2023-06-20T00:00:00",
          "2023-06-21T00:00:00",
          "2023-06-22T00:00:00",
          "2023-06-23T00:00:00",
          "2023-06-26T00:00:00",
          "2023-06-27T00:00:00",
          "2023-06-28T00:00:00",
          "2023-06-30T00:00:00",
          "2023-07-03T00:00:00",
          "2023-07-04T00:00:00",
          "2023-07-05T00:00:00",
          "2023-07-06T00:00:00",
          "2023-07-07T00:00:00",
          "2023-07-10T00:00:00",
          "2023-07-11T00:00:00",
          "2023-07-12T00:00:00",
          "2023-07-13T00:00:00",
          "2023-07-14T00:00:00",
          "2023-07-17T00:00:00",
          "2023-07-18T00:00:00",
          "2023-07-19T00:00:00",
          "2023-07-20T00:00:00",
          "2023-07-21T00:00:00",
          "2023-07-24T00:00:00",
          "2023-07-25T00:00:00",
          "2023-07-26T00:00:00",
          "2023-07-27T00:00:00",
          "2023-07-28T00:00:00",
          "2023-07-31T00:00:00",
          "2023-08-01T00:00:00",
          "2023-08-02T00:00:00",
          "2023-08-03T00:00:00",
          "2023-08-04T00:00:00",
          "2023-08-07T00:00:00",
          "2023-08-08T00:00:00"
         ],
         "xaxis": "x",
         "y": [
          null,
          -0.9271929103746412,
          0.05115533803925487,
          0.3211919245004635,
          0.8628404177307036,
          0.9241386572860444,
          0.5294968278315659,
          0.5180452995875662,
          0.7911919352943775,
          0.2885852132244793,
          -0.5816442600653171,
          -1.1620739357123933,
          1.2480829893218859,
          1.268617048286269,
          1.010996298361655,
          1.1187987320313564,
          0.44945372452214194,
          -0.03290100290892495,
          0.20830724272966616,
          -0.43446622281019254,
          0.7613023341867642,
          0.2601082061020277,
          0.5188895481919698,
          -0.2770075288583973,
          1.6182782177579513,
          0.6255444286549894,
          0.08320733063085228,
          -1.1155312825738783,
          -1.8973298524609716,
          0.8615006610779963,
          0.4004021189491169,
          0.011697030769997063,
          0.35382417799769694,
          -0.41308715275764074,
          1.238127700983327,
          -0.5880061292570016,
          -0.16513130619504324,
          0.2530437698782917,
          0.1613999723279358,
          0.17948395439404408,
          0.48364481513010205,
          0.1998714467581708,
          0.9552611506180586,
          0.5737422609301435,
          -0.20493642369662224,
          -0.06446142380316378,
          -2.0441020366963825,
          0.5266422708065654,
          1.467712174383995,
          -0.9964632678007845,
          0.6303757637759588,
          -1.635946004800093,
          -2.4988532229315963,
          -0.036015060387728504,
          -0.09333982707143695,
          -0.38247432244744584,
          0.8906984917314897,
          -2.0476791947085293,
          2.259707170991243,
          0.20653613911714164,
          -0.049613249419910854,
          -0.5344123157944747,
          -1.7010580788804242,
          0.6714107818462267,
          -0.5736777159565332,
          0.1011374652252428,
          0.6792654271264853,
          0.9923645034605189,
          -0.2530665641975238,
          0.5745866688943613,
          -0.2015923014058396,
          0.44976865001364885,
          0.07011851087306287,
          0.8363460838782144,
          0.5218204650167868,
          0.9184046889942676,
          0.8585519382714457,
          -0.6999113042647442,
          0.03267422788066909,
          0.33854172493756884,
          0.36861111327539664,
          -0.41704756971125967,
          -0.9223542352594483,
          0.37029580599552414,
          0.16179390189192677,
          0.4314274712393429,
          -0.48834191082595124,
          -0.8062537579319518,
          -0.3704941292201447,
          -0.22522765749574125,
          0.3786926976090621,
          0.18372755397955132,
          0.7121302264538665,
          0.4954460331695332,
          0.15192055325250475,
          0.2551397715376158,
          1.0755472394622156,
          0.38941058494987857,
          -0.3321725796674002,
          -0.09265330042034225,
          -0.292425795325868,
          -0.4403963208455375,
          0.11252064356657154,
          -0.5357435356110662,
          0.16050815548667163,
          0.1573905827206401,
          0.39244176597386105,
          -0.8166606816247035,
          -1.2113543707593988,
          1.0951759735662314,
          -0.4654197113788672,
          -0.8750471347191091,
          -0.8352468068719365,
          -2.574525251375537,
          1.2840331629593749,
          0.7370740108848306,
          0.2714986410743636,
          0.14399695448397143,
          -0.23911096896204187,
          0.09433757625543215,
          0.17303243362745135,
          -0.6918709460634664,
          0.4623185969024224,
          -0.8459814199341387,
          0.9831091613168974,
          -0.8263086224062022,
          -0.5180523125778658,
          -0.005504108418374898,
          0.5489460640489385,
          -0.45358877733363556,
          0.6295429527192864,
          0.25046073671710634,
          -0.45269851539841977,
          -0.7712482822461841,
          0.41404352541387635,
          0.043222700416611914,
          -1.3614404189296825,
          -2.350739371476862,
          -0.07719430869411736,
          0.6780979054959113,
          -1.5726434486975749,
          -0.6296168181184725,
          0.44686240935798427,
          -0.27934248170258247,
          -0.10875112125129371,
          1.0467266892173033,
          -0.2953758293489317,
          -0.023395690367655764,
          -0.7059582061414105,
          -0.09140013480652964,
          0.8188490034586771,
          0.2818047892593656,
          -0.613397973605001,
          -0.6224175338048865,
          -0.49308676304332666,
          -1.3329423256047024,
          -0.5222244399409659,
          -0.19920123251836452,
          -0.9607396659579215,
          0.004380140442528102,
          1.0764438415516109,
          -0.4791373338363214,
          1.2192405390942795,
          0.48141539849677617,
          0.3346131017104792,
          -0.991360862874846,
          -0.5298393655870703,
          -1.3321039236517618,
          -0.8296678276810687,
          0.10475518534891481,
          0.4164917797266465,
          0.37921168667989225,
          -0.7625419305823611,
          0.15384973600036655,
          0.2863681358827419,
          -0.2198062558957714,
          -0.9615055144235218,
          0.05333198895924873,
          -0.6045211751321777,
          1.227601839599557,
          0.8726089325723496,
          0.6110794352485183,
          0.19949239812766528,
          0.5443515283972022,
          0.6826237563241966,
          0.610383645484136,
          0.8580612341474447,
          0.33593226445884916,
          0.07240108810144807,
          0.20348089743351672,
          -0.32629792228259236,
          -0.1849915145220149,
          -0.24302542310817854,
          0.1609575064293267,
          0.29705291232775544,
          0.22618701847259004,
          0.3752727853344018,
          1.0259961374204485,
          0.45917023768007326,
          -0.13251468215911277,
          0.8589079862843851,
          -0.049151290290982974,
          0.7609392784731828,
          0.07643160192647436,
          0.13896443072487497,
          -0.002136757182880089,
          0.09045112686245638,
          0.3888994686918057,
          -0.4213899511969932,
          -0.4058842148999986,
          -0.9048557702077575,
          0.05627280419069347,
          1.4750482380147867,
          0.6182466309026191,
          -0.09203980288396973,
          0.36868297490819657,
          0.9405879996356781,
          0.40360268545978073,
          0.015699093626042604,
          0.035454388085565114,
          0.5346881947170479,
          0.6067455416028933,
          0.19337085416768485,
          0.5017197369688198,
          0.9366924437526292,
          -0.8396402501050004,
          -0.464324004891159,
          0.24875805068471646,
          0.667726152413417,
          0.1434482232736345,
          0.3342024921340059,
          0.6271088191639684,
          -0.3984682984040866,
          0.595204714973363,
          0.09681207433684946,
          -0.7284388320994872,
          -0.8137253695566504,
          0.7221064981845826,
          0.45210266335966587,
          0,
          2.0824118272016356,
          -0.019310289292440164,
          0.05445338058636118,
          1.0696880544704745,
          0.4602718826185903,
          -0.9209991977705556,
          -0.33138666512165793,
          0.813703907307195,
          -0.006390618723972619,
          -0.3748813110720839,
          0.9417039196916388,
          0.4684753259545982,
          -0.3081629700670385,
          0.2537301251752,
          0.5138019885290168,
          -0.5818647080724659,
          -0.02496471237085629,
          0.285336832841665,
          0.4234377099980202,
          -0.08919954290186327,
          0.5610641443067665,
          0.3270404295379503,
          -0.3550337195719844,
          -0.9581989871349617,
          -0.4300314062934518,
          0.29848167555419636,
          0.5165002960219711,
          0.059294161604528384
         ],
         "yaxis": "y"
        },
        {
         "hovertemplate": "Index=NSE Nifty 50 Returns (in %)<br>Date=%{x}<br>Returns (%)=%{y}<extra></extra>",
         "legendgroup": "NSE Nifty 50 Returns (in %)",
         "line": {
          "color": "#EF553B",
          "dash": "solid"
         },
         "marker": {
          "symbol": "circle"
         },
         "mode": "lines",
         "name": "NSE Nifty 50 Returns (in %)",
         "orientation": "v",
         "showlegend": true,
         "type": "scatter",
         "x": [
          "2022-07-11T00:00:00",
          "2022-07-12T00:00:00",
          "2022-07-13T00:00:00",
          "2022-07-14T00:00:00",
          "2022-07-15T00:00:00",
          "2022-07-18T00:00:00",
          "2022-07-19T00:00:00",
          "2022-07-20T00:00:00",
          "2022-07-21T00:00:00",
          "2022-07-22T00:00:00",
          "2022-07-25T00:00:00",
          "2022-07-26T00:00:00",
          "2022-07-27T00:00:00",
          "2022-07-28T00:00:00",
          "2022-07-29T00:00:00",
          "2022-08-01T00:00:00",
          "2022-08-02T00:00:00",
          "2022-08-03T00:00:00",
          "2022-08-04T00:00:00",
          "2022-08-05T00:00:00",
          "2022-08-08T00:00:00",
          "2022-08-10T00:00:00",
          "2022-08-11T00:00:00",
          "2022-08-12T00:00:00",
          "2022-08-16T00:00:00",
          "2022-08-17T00:00:00",
          "2022-08-18T00:00:00",
          "2022-08-19T00:00:00",
          "2022-08-22T00:00:00",
          "2022-08-23T00:00:00",
          "2022-08-24T00:00:00",
          "2022-08-25T00:00:00",
          "2022-08-26T00:00:00",
          "2022-08-29T00:00:00",
          "2022-08-30T00:00:00",
          "2022-09-01T00:00:00",
          "2022-09-02T00:00:00",
          "2022-09-05T00:00:00",
          "2022-09-06T00:00:00",
          "2022-09-07T00:00:00",
          "2022-09-08T00:00:00",
          "2022-09-09T00:00:00",
          "2022-09-12T00:00:00",
          "2022-09-13T00:00:00",
          "2022-09-14T00:00:00",
          "2022-09-15T00:00:00",
          "2022-09-16T00:00:00",
          "2022-09-19T00:00:00",
          "2022-09-20T00:00:00",
          "2022-09-21T00:00:00",
          "2022-09-22T00:00:00",
          "2022-09-23T00:00:00",
          "2022-09-26T00:00:00",
          "2022-09-27T00:00:00",
          "2022-09-28T00:00:00",
          "2022-09-29T00:00:00",
          "2022-09-30T00:00:00",
          "2022-10-03T00:00:00",
          "2022-10-04T00:00:00",
          "2022-10-06T00:00:00",
          "2022-10-07T00:00:00",
          "2022-10-10T00:00:00",
          "2022-10-11T00:00:00",
          "2022-10-12T00:00:00",
          "2022-10-13T00:00:00",
          "2022-10-14T00:00:00",
          "2022-10-17T00:00:00",
          "2022-10-18T00:00:00",
          "2022-10-19T00:00:00",
          "2022-10-20T00:00:00",
          "2022-10-21T00:00:00",
          "2022-10-24T00:00:00",
          "2022-10-25T00:00:00",
          "2022-10-27T00:00:00",
          "2022-10-28T00:00:00",
          "2022-10-31T00:00:00",
          "2022-11-01T00:00:00",
          "2022-11-02T00:00:00",
          "2022-11-03T00:00:00",
          "2022-11-04T00:00:00",
          "2022-11-07T00:00:00",
          "2022-11-09T00:00:00",
          "2022-11-10T00:00:00",
          "2022-11-11T00:00:00",
          "2022-11-14T00:00:00",
          "2022-11-15T00:00:00",
          "2022-11-16T00:00:00",
          "2022-11-17T00:00:00",
          "2022-11-18T00:00:00",
          "2022-11-21T00:00:00",
          "2022-11-22T00:00:00",
          "2022-11-23T00:00:00",
          "2022-11-24T00:00:00",
          "2022-11-25T00:00:00",
          "2022-11-28T00:00:00",
          "2022-11-29T00:00:00",
          "2022-11-30T00:00:00",
          "2022-12-01T00:00:00",
          "2022-12-02T00:00:00",
          "2022-12-05T00:00:00",
          "2022-12-06T00:00:00",
          "2022-12-07T00:00:00",
          "2022-12-08T00:00:00",
          "2022-12-09T00:00:00",
          "2022-12-12T00:00:00",
          "2022-12-13T00:00:00",
          "2022-12-14T00:00:00",
          "2022-12-15T00:00:00",
          "2022-12-16T00:00:00",
          "2022-12-19T00:00:00",
          "2022-12-20T00:00:00",
          "2022-12-21T00:00:00",
          "2022-12-22T00:00:00",
          "2022-12-23T00:00:00",
          "2022-12-26T00:00:00",
          "2022-12-27T00:00:00",
          "2022-12-28T00:00:00",
          "2022-12-29T00:00:00",
          "2022-12-30T00:00:00",
          "2023-01-02T00:00:00",
          "2023-01-03T00:00:00",
          "2023-01-04T00:00:00",
          "2023-01-05T00:00:00",
          "2023-01-06T00:00:00",
          "2023-01-09T00:00:00",
          "2023-01-10T00:00:00",
          "2023-01-11T00:00:00",
          "2023-01-12T00:00:00",
          "2023-01-13T00:00:00",
          "2023-01-16T00:00:00",
          "2023-01-17T00:00:00",
          "2023-01-18T00:00:00",
          "2023-01-19T00:00:00",
          "2023-01-20T00:00:00",
          "2023-01-23T00:00:00",
          "2023-01-24T00:00:00",
          "2023-01-25T00:00:00",
          "2023-01-27T00:00:00",
          "2023-01-30T00:00:00",
          "2023-01-31T00:00:00",
          "2023-02-01T00:00:00",
          "2023-02-02T00:00:00",
          "2023-02-03T00:00:00",
          "2023-02-06T00:00:00",
          "2023-02-07T00:00:00",
          "2023-02-08T00:00:00",
          "2023-02-09T00:00:00",
          "2023-02-10T00:00:00",
          "2023-02-13T00:00:00",
          "2023-02-14T00:00:00",
          "2023-02-15T00:00:00",
          "2023-02-16T00:00:00",
          "2023-02-17T00:00:00",
          "2023-02-20T00:00:00",
          "2023-02-21T00:00:00",
          "2023-02-22T00:00:00",
          "2023-02-23T00:00:00",
          "2023-02-24T00:00:00",
          "2023-02-27T00:00:00",
          "2023-02-28T00:00:00",
          "2023-03-01T00:00:00",
          "2023-03-02T00:00:00",
          "2023-03-03T00:00:00",
          "2023-03-06T00:00:00",
          "2023-03-08T00:00:00",
          "2023-03-09T00:00:00",
          "2023-03-10T00:00:00",
          "2023-03-13T00:00:00",
          "2023-03-14T00:00:00",
          "2023-03-15T00:00:00",
          "2023-03-16T00:00:00",
          "2023-03-17T00:00:00",
          "2023-03-20T00:00:00",
          "2023-03-21T00:00:00",
          "2023-03-22T00:00:00",
          "2023-03-23T00:00:00",
          "2023-03-24T00:00:00",
          "2023-03-27T00:00:00",
          "2023-03-28T00:00:00",
          "2023-03-29T00:00:00",
          "2023-03-31T00:00:00",
          "2023-04-03T00:00:00",
          "2023-04-05T00:00:00",
          "2023-04-06T00:00:00",
          "2023-04-10T00:00:00",
          "2023-04-11T00:00:00",
          "2023-04-12T00:00:00",
          "2023-04-13T00:00:00",
          "2023-04-17T00:00:00",
          "2023-04-18T00:00:00",
          "2023-04-19T00:00:00",
          "2023-04-20T00:00:00",
          "2023-04-21T00:00:00",
          "2023-04-24T00:00:00",
          "2023-04-25T00:00:00",
          "2023-04-26T00:00:00",
          "2023-04-27T00:00:00",
          "2023-04-28T00:00:00",
          "2023-05-02T00:00:00",
          "2023-05-03T00:00:00",
          "2023-05-04T00:00:00",
          "2023-05-05T00:00:00",
          "2023-05-08T00:00:00",
          "2023-05-09T00:00:00",
          "2023-05-10T00:00:00",
          "2023-05-11T00:00:00",
          "2023-05-12T00:00:00",
          "2023-05-15T00:00:00",
          "2023-05-16T00:00:00",
          "2023-05-17T00:00:00",
          "2023-05-18T00:00:00",
          "2023-05-19T00:00:00",
          "2023-05-22T00:00:00",
          "2023-05-23T00:00:00",
          "2023-05-24T00:00:00",
          "2023-05-25T00:00:00",
          "2023-05-26T00:00:00",
          "2023-05-29T00:00:00",
          "2023-05-30T00:00:00",
          "2023-05-31T00:00:00",
          "2023-06-01T00:00:00",
          "2023-06-02T00:00:00",
          "2023-06-05T00:00:00",
          "2023-06-06T00:00:00",
          "2023-06-07T00:00:00",
          "2023-06-08T00:00:00",
          "2023-06-09T00:00:00",
          "2023-06-12T00:00:00",
          "2023-06-13T00:00:00",
          "2023-06-14T00:00:00",
          "2023-06-15T00:00:00",
          "2023-06-16T00:00:00",
          "2023-06-19T00:00:00",
          "2023-06-20T00:00:00",
          "2023-06-21T00:00:00",
          "2023-06-22T00:00:00",
          "2023-06-23T00:00:00",
          "2023-06-26T00:00:00",
          "2023-06-27T00:00:00",
          "2023-06-28T00:00:00",
          "2023-06-30T00:00:00",
          "2023-07-03T00:00:00",
          "2023-07-04T00:00:00",
          "2023-07-05T00:00:00",
          "2023-07-06T00:00:00",
          "2023-07-07T00:00:00",
          "2023-07-10T00:00:00",
          "2023-07-11T00:00:00",
          "2023-07-12T00:00:00",
          "2023-07-13T00:00:00",
          "2023-07-14T00:00:00",
          "2023-07-17T00:00:00",
          "2023-07-18T00:00:00",
          "2023-07-19T00:00:00",
          "2023-07-20T00:00:00",
          "2023-07-21T00:00:00",
          "2023-07-24T00:00:00",
          "2023-07-25T00:00:00",
          "2023-07-26T00:00:00",
          "2023-07-27T00:00:00",
          "2023-07-28T00:00:00",
          "2023-07-31T00:00:00",
          "2023-08-01T00:00:00",
          "2023-08-02T00:00:00",
          "2023-08-03T00:00:00",
          "2023-08-04T00:00:00",
          "2023-08-07T00:00:00",
          "2023-08-08T00:00:00"
         ],
         "xaxis": "x",
         "y": [
          null,
          -0.97249750439381,
          -0.5707292501522909,
          -0.1753655232310969,
          0.6935957686387662,
          1.4287304158276504,
          0.3811764271124396,
          1.103388850696918,
          0.5108719746296009,
          0.6877295960614926,
          -0.5290199311757782,
          -0.884795806776506,
          0.9582177441437301,
          1.7293731123692924,
          1.3505953826479233,
          1.0595531668439406,
          0.0311327663805816,
          0.24618083588656692,
          -0.03537116074355806,
          0.08917270739845495,
          0.7334364671648164,
          0.05506610997998429,
          0.7085929368824795,
          0.22170219505635025,
          0.7181519343531395,
          0.6675923198833145,
          0.06826699360520383,
          -1.1029475746944017,
          -1.50773300473388,
          0.49626821755044404,
          0.1561611079505143,
          -0.46861822192667546,
          0.2080255529346653,
          -1.4009988924553851,
          2.578426378902554,
          -1.2190795272107646,
          -0.01910505934481499,
          0.7203850071011875,
          -0.05774531254664206,
          -0.17671004916441913,
          0.9892512965589573,
          0.19439347917691308,
          0.5775695663245095,
          0.7454201929980142,
          -0.3669097671756161,
          -0.7017960667916379,
          -1.9384853148544656,
          0.521368859248672,
          1.1008809885230342,
          -0.5495005437451739,
          -0.4997577656902563,
          -1.7155677232420508,
          -1.7951321762256445,
          -0.052305085220449854,
          -0.874917846539458,
          -0.24023347691036756,
          1.642575596626905,
          -1.2109264448790458,
          2.291367093271912,
          0.33286441360573793,
          -0.09895331040011834,
          -0.425364584114718,
          -1.49323831999304,
          0.8246145339619648,
          -0.6380083772817624,
          1.0070888003887335,
          0.7337586960815656,
          1.0117285874136073,
          0.14468379208691928,
          0.2952174549244013,
          0.07032337856462956,
          0.8787356376761757,
          -0.41961220267050514,
          0.45649078749665506,
          0.2810605244745412,
          1.26722303955642,
          0.7395053222392978,
          -0.3447197631545107,
          -0.16673473084335422,
          0.3570168155688336,
          0.4727586225111935,
          -0.2516139235956394,
          -0.7093725904609771,
          1.7833173247033374,
          -0.11198455015547504,
          0.40509242609507723,
          0.03396111515991951,
          -0.357149639481924,
          -0.19761337135545398,
          -0.8067729540576885,
          0.463933015368867,
          0.12634580983039712,
          1.1870949889830174,
          0.15500019600884762,
          0.27008413120686026,
          0.297912654375021,
          0.7535634625419174,
          0.2886735334004964,
          -0.6187396179402005,
          0.026482378562620035,
          -0.3117513659096294,
          -0.4411902750398933,
          0.2631912360927746,
          -0.6058782405979346,
          0.002977743269738653,
          0.599279386467999,
          0.2810661073194387,
          -1.3150934355333654,
          -0.792295301794177,
          0.8289956688926514,
          -0.19081205394395617,
          -1.012771964355863,
          -0.39425027358517273,
          -1.768316025411787,
          1.1669632893506865,
          0.6533654614990558,
          -0.05405150382313817,
          0.377983170092433,
          -0.471107793689185,
          0.5089583355357918,
          0.192892762485819,
          -1.0399069487028845,
          -0.28154392892826285,
          -0.7375503705446151,
          1.3536251708490266,
          -1.033350475095851,
          -0.10299775022909463,
          -0.209547554088918,
          0.5510095918388247,
          -0.3438847072569362,
          0.8854568511824201,
          0.6206556323560042,
          -0.3165367099256078,
          -0.44289753051891534,
          0.5042276095628795,
          -0.0013798013043020418,
          -1.249297962501228,
          -1.6074246906178757,
          0.25334426073457816,
          0.07479862801675896,
          -0.25959245256645946,
          -0.03349392530399564,
          1.3835596307890219,
          -0.5010133160870178,
          -0.24261514654264627,
          0.8475536424681795,
          0.12170079483646568,
          -0.20649578680046465,
          -0.479375070002519,
          0.89443537049958,
          0.4796470794436125,
          0.11101336008929596,
          -0.5081567689351307,
          -0.5550518480140765,
          -0.10031264929920569,
          -1.5280363131582653,
          -0.2452434977984641,
          -0.2595429723749043,
          -0.41854114458053093,
          -0.5102715736285734,
          0.8492348770636093,
          -0.7392168719804415,
          1.5728598629827895,
          0.6655523618366965,
          0.24250512391459367,
          -0.9282249899975281,
          -1.0045664635585094,
          -1.4851035931626178,
          -0.6470680525861194,
          -0.41746837386849034,
          0.07924286811309411,
          0.6738129621978839,
          -0.6529243219992265,
          0.7010642946744028,
          0.25953757489405316,
          -0.43726933046436267,
          -0.7720933328590696,
          0.23988383407489433,
          -0.20016838613549082,
          0.7609856589321451,
          1.6337198944623932,
          0.2206297973761151,
          0.9138954817361267,
          0.23978747854371818,
          0.14148632219350699,
          0.5574768321964241,
          0.5083967961446945,
          0.08757724412713497,
          -0.6795512150830185,
          -0.26373533282438855,
          -0.2344283016240789,
          0.03234746363958152,
          -0.002260708945023282,
          0.6771973756565242,
          0.14568576938982503,
          0.24958627615121465,
          0.5695152810193838,
          0.8370013603697934,
          0.4575166931912511,
          -0.318502836487633,
          0.9173717607303677,
          -1.0232406865540389,
          1.0814123118324304,
          0.00848003817193188,
          0.26908205008338015,
          -0.09882342854272697,
          0.09728797753729701,
          0.45891205221868514,
          -0.6106338807060685,
          -0.5728269488420423,
          -0.2849053652701161,
          0.40513721791914925,
          0.6097761825706316,
          0.1834600568861644,
          -0.34117947119577385,
          0.19551116867164708,
          0.9726420827874671,
          0.5367798508963517,
          0.18925684396833287,
          -0.533701950132548,
          -0.25169624936233204,
          0.2507044360454902,
          0.3223787573137793,
          0.027699431442118616,
          0.6849851638528914,
          -0.49048192636628185,
          -0.381819725413457,
          0.20524046550352004,
          0.6163502439319402,
          0.21238341844009856,
          -0.36149041015322014,
          0.7379048352023077,
          -0.37475183921172883,
          0.3265717567498605,
          0.21337637466720683,
          -0.4539443817404343,
          -0.5633615236065759,
          0.13768299134766515,
          0.675190341711196,
          0.822107281232487,
          1.143527476356887,
          0.695709243369369,
          0.3438946519135566,
          0.04899685388621844,
          0.509321758125636,
          -0.848835445771845,
          0.12466303397029588,
          0.43139300324381846,
          -0.2834429471475497,
          0.1519230385574888,
          0.7765114931427508,
          0.7511013251041421,
          0.1917706853032497,
          0.4248282371482448,
          0.7361412439498949,
          -1.1719737128305097,
          -0.3679432292985618,
          0.04193703428323481,
          0.4964339187534694,
          -0.598637830087223,
          -0.07044597937843067,
          0.5484562836559181,
          -0.10251191770254131,
          -1.0489749274959825,
          -0.7420685416911321,
          0.6983389270114548,
          0.41144018676027017,
          -0.13497354646058168
         ],
         "yaxis": "y"
        }
       ],
       "layout": {
        "autosize": true,
        "legend": {
         "title": {
          "text": "Index"
         },
         "tracegroupgap": 0
        },
        "template": {
         "data": {
          "bar": [
           {
            "error_x": {
             "color": "#2a3f5f"
            },
            "error_y": {
             "color": "#2a3f5f"
            },
            "marker": {
             "line": {
              "color": "#E5ECF6",
              "width": 0.5
             },
             "pattern": {
              "fillmode": "overlay",
              "size": 10,
              "solidity": 0.2
             }
            },
            "type": "bar"
           }
          ],
          "barpolar": [
           {
            "marker": {
             "line": {
              "color": "#E5ECF6",
              "width": 0.5
             },
             "pattern": {
              "fillmode": "overlay",
              "size": 10,
              "solidity": 0.2
             }
            },
            "type": "barpolar"
           }
          ],
          "carpet": [
           {
            "aaxis": {
             "endlinecolor": "#2a3f5f",
             "gridcolor": "white",
             "linecolor": "white",
             "minorgridcolor": "white",
             "startlinecolor": "#2a3f5f"
            },
            "baxis": {
             "endlinecolor": "#2a3f5f",
             "gridcolor": "white",
             "linecolor": "white",
             "minorgridcolor": "white",
             "startlinecolor": "#2a3f5f"
            },
            "type": "carpet"
           }
          ],
          "choropleth": [
           {
            "colorbar": {
             "outlinewidth": 0,
             "ticks": ""
            },
            "type": "choropleth"
           }
          ],
          "contour": [
           {
            "colorbar": {
             "outlinewidth": 0,
             "ticks": ""
            },
            "colorscale": [
             [
              0,
              "#0d0887"
             ],
             [
              0.1111111111111111,
              "#46039f"
             ],
             [
              0.2222222222222222,
              "#7201a8"
             ],
             [
              0.3333333333333333,
              "#9c179e"
             ],
             [
              0.4444444444444444,
              "#bd3786"
             ],
             [
              0.5555555555555556,
              "#d8576b"
             ],
             [
              0.6666666666666666,
              "#ed7953"
             ],
             [
              0.7777777777777778,
              "#fb9f3a"
             ],
             [
              0.8888888888888888,
              "#fdca26"
             ],
             [
              1,
              "#f0f921"
             ]
            ],
            "type": "contour"
           }
          ],
          "contourcarpet": [
           {
            "colorbar": {
             "outlinewidth": 0,
             "ticks": ""
            },
            "type": "contourcarpet"
           }
          ],
          "heatmap": [
           {
            "colorbar": {
             "outlinewidth": 0,
             "ticks": ""
            },
            "colorscale": [
             [
              0,
              "#0d0887"
             ],
             [
              0.1111111111111111,
              "#46039f"
             ],
             [
              0.2222222222222222,
              "#7201a8"
             ],
             [
              0.3333333333333333,
              "#9c179e"
             ],
             [
              0.4444444444444444,
              "#bd3786"
             ],
             [
              0.5555555555555556,
              "#d8576b"
             ],
             [
              0.6666666666666666,
              "#ed7953"
             ],
             [
              0.7777777777777778,
              "#fb9f3a"
             ],
             [
              0.8888888888888888,
              "#fdca26"
             ],
             [
              1,
              "#f0f921"
             ]
            ],
            "type": "heatmap"
           }
          ],
          "heatmapgl": [
           {
            "colorbar": {
             "outlinewidth": 0,
             "ticks": ""
            },
            "colorscale": [
             [
              0,
              "#0d0887"
             ],
             [
              0.1111111111111111,
              "#46039f"
             ],
             [
              0.2222222222222222,
              "#7201a8"
             ],
             [
              0.3333333333333333,
              "#9c179e"
             ],
             [
              0.4444444444444444,
              "#bd3786"
             ],
             [
              0.5555555555555556,
              "#d8576b"
             ],
             [
              0.6666666666666666,
              "#ed7953"
             ],
             [
              0.7777777777777778,
              "#fb9f3a"
             ],
             [
              0.8888888888888888,
              "#fdca26"
             ],
             [
              1,
              "#f0f921"
             ]
            ],
            "type": "heatmapgl"
           }
          ],
          "histogram": [
           {
            "marker": {
             "pattern": {
              "fillmode": "overlay",
              "size": 10,
              "solidity": 0.2
             }
            },
            "type": "histogram"
           }
          ],
          "histogram2d": [
           {
            "colorbar": {
             "outlinewidth": 0,
             "ticks": ""
            },
            "colorscale": [
             [
              0,
              "#0d0887"
             ],
             [
              0.1111111111111111,
              "#46039f"
             ],
             [
              0.2222222222222222,
              "#7201a8"
             ],
             [
              0.3333333333333333,
              "#9c179e"
             ],
             [
              0.4444444444444444,
              "#bd3786"
             ],
             [
              0.5555555555555556,
              "#d8576b"
             ],
             [
              0.6666666666666666,
              "#ed7953"
             ],
             [
              0.7777777777777778,
              "#fb9f3a"
             ],
             [
              0.8888888888888888,
              "#fdca26"
             ],
             [
              1,
              "#f0f921"
             ]
            ],
            "type": "histogram2d"
           }
          ],
          "histogram2dcontour": [
           {
            "colorbar": {
             "outlinewidth": 0,
             "ticks": ""
            },
            "colorscale": [
             [
              0,
              "#0d0887"
             ],
             [
              0.1111111111111111,
              "#46039f"
             ],
             [
              0.2222222222222222,
              "#7201a8"
             ],
             [
              0.3333333333333333,
              "#9c179e"
             ],
             [
              0.4444444444444444,
              "#bd3786"
             ],
             [
              0.5555555555555556,
              "#d8576b"
             ],
             [
              0.6666666666666666,
              "#ed7953"
             ],
             [
              0.7777777777777778,
              "#fb9f3a"
             ],
             [
              0.8888888888888888,
              "#fdca26"
             ],
             [
              1,
              "#f0f921"
             ]
            ],
            "type": "histogram2dcontour"
           }
          ],
          "mesh3d": [
           {
            "colorbar": {
             "outlinewidth": 0,
             "ticks": ""
            },
            "type": "mesh3d"
           }
          ],
          "parcoords": [
           {
            "line": {
             "colorbar": {
              "outlinewidth": 0,
              "ticks": ""
             }
            },
            "type": "parcoords"
           }
          ],
          "pie": [
           {
            "automargin": true,
            "type": "pie"
           }
          ],
          "scatter": [
           {
            "fillpattern": {
             "fillmode": "overlay",
             "size": 10,
             "solidity": 0.2
            },
            "type": "scatter"
           }
          ],
          "scatter3d": [
           {
            "line": {
             "colorbar": {
              "outlinewidth": 0,
              "ticks": ""
             }
            },
            "marker": {
             "colorbar": {
              "outlinewidth": 0,
              "ticks": ""
             }
            },
            "type": "scatter3d"
           }
          ],
          "scattercarpet": [
           {
            "marker": {
             "colorbar": {
              "outlinewidth": 0,
              "ticks": ""
             }
            },
            "type": "scattercarpet"
           }
          ],
          "scattergeo": [
           {
            "marker": {
             "colorbar": {
              "outlinewidth": 0,
              "ticks": ""
             }
            },
            "type": "scattergeo"
           }
          ],
          "scattergl": [
           {
            "marker": {
             "colorbar": {
              "outlinewidth": 0,
              "ticks": ""
             }
            },
            "type": "scattergl"
           }
          ],
          "scattermapbox": [
           {
            "marker": {
             "colorbar": {
              "outlinewidth": 0,
              "ticks": ""
             }
            },
            "type": "scattermapbox"
           }
          ],
          "scatterpolar": [
           {
            "marker": {
             "colorbar": {
              "outlinewidth": 0,
              "ticks": ""
             }
            },
            "type": "scatterpolar"
           }
          ],
          "scatterpolargl": [
           {
            "marker": {
             "colorbar": {
              "outlinewidth": 0,
              "ticks": ""
             }
            },
            "type": "scatterpolargl"
           }
          ],
          "scatterternary": [
           {
            "marker": {
             "colorbar": {
              "outlinewidth": 0,
              "ticks": ""
             }
            },
            "type": "scatterternary"
           }
          ],
          "surface": [
           {
            "colorbar": {
             "outlinewidth": 0,
             "ticks": ""
            },
            "colorscale": [
             [
              0,
              "#0d0887"
             ],
             [
              0.1111111111111111,
              "#46039f"
             ],
             [
              0.2222222222222222,
              "#7201a8"
             ],
             [
              0.3333333333333333,
              "#9c179e"
             ],
             [
              0.4444444444444444,
              "#bd3786"
             ],
             [
              0.5555555555555556,
              "#d8576b"
             ],
             [
              0.6666666666666666,
              "#ed7953"
             ],
             [
              0.7777777777777778,
              "#fb9f3a"
             ],
             [
              0.8888888888888888,
              "#fdca26"
             ],
             [
              1,
              "#f0f921"
             ]
            ],
            "type": "surface"
           }
          ],
          "table": [
           {
            "cells": {
             "fill": {
              "color": "#EBF0F8"
             },
             "line": {
              "color": "white"
             }
            },
            "header": {
             "fill": {
              "color": "#C8D4E3"
             },
             "line": {
              "color": "white"
             }
            },
            "type": "table"
           }
          ]
         },
         "layout": {
          "annotationdefaults": {
           "arrowcolor": "#2a3f5f",
           "arrowhead": 0,
           "arrowwidth": 1
          },
          "autotypenumbers": "strict",
          "coloraxis": {
           "colorbar": {
            "outlinewidth": 0,
            "ticks": ""
           }
          },
          "colorscale": {
           "diverging": [
            [
             0,
             "#8e0152"
            ],
            [
             0.1,
             "#c51b7d"
            ],
            [
             0.2,
             "#de77ae"
            ],
            [
             0.3,
             "#f1b6da"
            ],
            [
             0.4,
             "#fde0ef"
            ],
            [
             0.5,
             "#f7f7f7"
            ],
            [
             0.6,
             "#e6f5d0"
            ],
            [
             0.7,
             "#b8e186"
            ],
            [
             0.8,
             "#7fbc41"
            ],
            [
             0.9,
             "#4d9221"
            ],
            [
             1,
             "#276419"
            ]
           ],
           "sequential": [
            [
             0,
             "#0d0887"
            ],
            [
             0.1111111111111111,
             "#46039f"
            ],
            [
             0.2222222222222222,
             "#7201a8"
            ],
            [
             0.3333333333333333,
             "#9c179e"
            ],
            [
             0.4444444444444444,
             "#bd3786"
            ],
            [
             0.5555555555555556,
             "#d8576b"
            ],
            [
             0.6666666666666666,
             "#ed7953"
            ],
            [
             0.7777777777777778,
             "#fb9f3a"
            ],
            [
             0.8888888888888888,
             "#fdca26"
            ],
            [
             1,
             "#f0f921"
            ]
           ],
           "sequentialminus": [
            [
             0,
             "#0d0887"
            ],
            [
             0.1111111111111111,
             "#46039f"
            ],
            [
             0.2222222222222222,
             "#7201a8"
            ],
            [
             0.3333333333333333,
             "#9c179e"
            ],
            [
             0.4444444444444444,
             "#bd3786"
            ],
            [
             0.5555555555555556,
             "#d8576b"
            ],
            [
             0.6666666666666666,
             "#ed7953"
            ],
            [
             0.7777777777777778,
             "#fb9f3a"
            ],
            [
             0.8888888888888888,
             "#fdca26"
            ],
            [
             1,
             "#f0f921"
            ]
           ]
          },
          "colorway": [
           "#636efa",
           "#EF553B",
           "#00cc96",
           "#ab63fa",
           "#FFA15A",
           "#19d3f3",
           "#FF6692",
           "#B6E880",
           "#FF97FF",
           "#FECB52"
          ],
          "font": {
           "color": "#2a3f5f"
          },
          "geo": {
           "bgcolor": "white",
           "lakecolor": "white",
           "landcolor": "#E5ECF6",
           "showlakes": true,
           "showland": true,
           "subunitcolor": "white"
          },
          "hoverlabel": {
           "align": "left"
          },
          "hovermode": "closest",
          "mapbox": {
           "style": "light"
          },
          "paper_bgcolor": "white",
          "plot_bgcolor": "#E5ECF6",
          "polar": {
           "angularaxis": {
            "gridcolor": "white",
            "linecolor": "white",
            "ticks": ""
           },
           "bgcolor": "#E5ECF6",
           "radialaxis": {
            "gridcolor": "white",
            "linecolor": "white",
            "ticks": ""
           }
          },
          "scene": {
           "xaxis": {
            "backgroundcolor": "#E5ECF6",
            "gridcolor": "white",
            "gridwidth": 2,
            "linecolor": "white",
            "showbackground": true,
            "ticks": "",
            "zerolinecolor": "white"
           },
           "yaxis": {
            "backgroundcolor": "#E5ECF6",
            "gridcolor": "white",
            "gridwidth": 2,
            "linecolor": "white",
            "showbackground": true,
            "ticks": "",
            "zerolinecolor": "white"
           },
           "zaxis": {
            "backgroundcolor": "#E5ECF6",
            "gridcolor": "white",
            "gridwidth": 2,
            "linecolor": "white",
            "showbackground": true,
            "ticks": "",
            "zerolinecolor": "white"
           }
          },
          "shapedefaults": {
           "line": {
            "color": "#2a3f5f"
           }
          },
          "ternary": {
           "aaxis": {
            "gridcolor": "white",
            "linecolor": "white",
            "ticks": ""
           },
           "baxis": {
            "gridcolor": "white",
            "linecolor": "white",
            "ticks": ""
           },
           "bgcolor": "#E5ECF6",
           "caxis": {
            "gridcolor": "white",
            "linecolor": "white",
            "ticks": ""
           }
          },
          "title": {
           "x": 0.05
          },
          "xaxis": {
           "automargin": true,
           "gridcolor": "white",
           "linecolor": "white",
           "ticks": "",
           "title": {
            "standoff": 15
           },
           "zerolinecolor": "white",
           "zerolinewidth": 2
          },
          "yaxis": {
           "automargin": true,
           "gridcolor": "white",
           "linecolor": "white",
           "ticks": "",
           "title": {
            "standoff": 15
           },
           "zerolinecolor": "white",
           "zerolinewidth": 2
          }
         }
        },
        "title": {
         "text": "Portfolio Returns vs. NSE Nifty 50 Returns"
        },
        "xaxis": {
         "anchor": "y",
         "autorange": true,
         "domain": [
          0,
          1
         ],
         "range": [
          "2022-07-11",
          "2023-08-08"
         ],
         "title": {
          "text": "Date"
         },
         "type": "date"
        },
        "yaxis": {
         "anchor": "x",
         "autorange": true,
         "domain": [
          0,
          1
         ],
         "range": [
          -2.860800341946542,
          2.8647014694735593
         ],
         "title": {
          "text": "Returns (%)"
         },
         "type": "linear"
        }
       }
      },
      "image/png": "[encoded data removed]",
      "text/html": [
       "<div>                            <div id=\"dfbe5f00-b64b-4a29-888b-f99b65bef3a6\" class=\"plotly-graph-div\" style=\"height:525px; width:100%;\"></div>            <script type=\"text/javascript\">                require([\"plotly\"], function(Plotly) {                    window.PLOTLYENV=window.PLOTLYENV || {};                                    if (document.getElementById(\"dfbe5f00-b64b-4a29-888b-f99b65bef3a6\")) {                    Plotly.newPlot(                        \"dfbe5f00-b64b-4a29-888b-f99b65bef3a6\",                        [{\"hovertemplate\":\"Index=Portfolio Returns (in %)<br>Date=%{x}<br>Returns (%)=%{y}<extra></extra>\",\"legendgroup\":\"Portfolio Returns (in %)\",\"line\":{\"color\":\"#636efa\",\"dash\":\"solid\"},\"marker\":{\"symbol\":\"circle\"},\"mode\":\"lines\",\"name\":\"Portfolio Returns (in %)\",\"orientation\":\"v\",\"showlegend\":true,\"x\":[\"2022-07-11T00:00:00\",\"2022-07-12T00:00:00\",\"2022-07-13T00:00:00\",\"2022-07-14T00:00:00\",\"2022-07-15T00:00:00\",\"2022-07-18T00:00:00\",\"2022-07-19T00:00:00\",\"2022-07-20T00:00:00\",\"2022-07-21T00:00:00\",\"2022-07-22T00:00:00\",\"2022-07-25T00:00:00\",\"2022-07-26T00:00:00\",\"2022-07-27T00:00:00\",\"2022-07-28T00:00:00\",\"2022-07-29T00:00:00\",\"2022-08-01T00:00:00\",\"2022-08-02T00:00:00\",\"2022-08-03T00:00:00\",\"2022-08-04T00:00:00\",\"2022-08-05T00:00:00\",\"2022-08-08T00:00:00\",\"2022-08-10T00:00:00\",\"2022-08-11T00:00:00\",\"2022-08-12T00:00:00\",\"2022-08-16T00:00:00\",\"2022-08-17T00:00:00\",\"2022-08-18T00:00:00\",\"2022-08-19T00:00:00\",\"2022-08-22T00:00:00\",\"2022-08-23T00:00:00\",\"2022-08-24T00:00:00\",\"2022-08-25T00:00:00\",\"2022-08-26T00:00:00\",\"2022-08-29T00:00:00\",\"2022-08-30T00:00:00\",\"2022-09-01T00:00:00\",\"2022-09-02T00:00:00\",\"2022-09-05T00:00:00\",\"2022-09-06T00:00:00\",\"2022-09-07T00:00:00\",\"2022-09-08T00:00:00\",\"2022-09-09T00:00:00\",\"2022-09-12T00:00:00\",\"2022-09-13T00:00:00\",\"2022-09-14T00:00:00\",\"2022-09-15T00:00:00\",\"2022-09-16T00:00:00\",\"2022-09-19T00:00:00\",\"2022-09-20T00:00:00\",\"2022-09-21T00:00:00\",\"2022-09-22T00:00:00\",\"2022-09-23T00:00:00\",\"2022-09-26T00:00:00\",\"2022-09-27T00:00:00\",\"2022-09-28T00:00:00\",\"2022-09-29T00:00:00\",\"2022-09-30T00:00:00\",\"2022-10-03T00:00:00\",\"2022-10-04T00:00:00\",\"2022-10-06T00:00:00\",\"2022-10-07T00:00:00\",\"2022-10-10T00:00:00\",\"2022-10-11T00:00:00\",\"2022-10-12T00:00:00\",\"2022-10-13T00:00:00\",\"2022-10-14T00:00:00\",\"2022-10-17T00:00:00\",\"2022-10-18T00:00:00\",\"2022-10-19T00:00:00\",\"2022-10-20T00:00:00\",\"2022-10-21T00:00:00\",\"2022-10-24T00:00:00\",\"2022-10-25T00:00:00\",\"2022-10-27T00:00:00\",\"2022-10-28T00:00:00\",\"2022-10-31T00:00:00\",\"2022-11-01T00:00:00\",\"2022-11-02T00:00:00\",\"2022-11-03T00:00:00\",\"2022-11-04T00:00:00\",\"2022-11-07T00:00:00\",\"2022-11-09T00:00:00\",\"2022-11-10T00:00:00\",\"2022-11-11T00:00:00\",\"2022-11-14T00:00:00\",\"2022-11-15T00:00:00\",\"2022-11-16T00:00:00\",\"2022-11-17T00:00:00\",\"2022-11-18T00:00:00\",\"2022-11-21T00:00:00\",\"2022-11-22T00:00:00\",\"2022-11-23T00:00:00\",\"2022-11-24T00:00:00\",\"2022-11-25T00:00:00\",\"2022-11-28T00:00:00\",\"2022-11-29T00:00:00\",\"2022-11-30T00:00:00\",\"2022-12-01T00:00:00\",\"2022-12-02T00:00:00\",\"2022-12-05T00:00:00\",\"2022-12-06T00:00:00\",\"2022-12-07T00:00:00\",\"2022-12-08T00:00:00\",\"2022-12-09T00:00:00\",\"2022-12-12T00:00:00\",\"2022-12-13T00:00:00\",\"2022-12-14T00:00:00\",\"2022-12-15T00:00:00\",\"2022-12-16T00:00:00\",\"2022-12-19T00:00:00\",\"2022-12-20T00:00:00\",\"2022-12-21T00:00:00\",\"2022-12-22T00:00:00\",\"2022-12-23T00:00:00\",\"2022-12-26T00:00:00\",\"2022-12-27T00:00:00\",\"2022-12-28T00:00:00\",\"2022-12-29T00:00:00\",\"2022-12-30T00:00:00\",\"2023-01-02T00:00:00\",\"2023-01-03T00:00:00\",\"2023-01-04T00:00:00\",\"2023-01-05T00:00:00\",\"2023-01-06T00:00:00\",\"2023-01-09T00:00:00\",\"2023-01-10T00:00:00\",\"2023-01-11T00:00:00\",\"2023-01-12T00:00:00\",\"2023-01-13T00:00:00\",\"2023-01-16T00:00:00\",\"2023-01-17T00:00:00\",\"2023-01-18T00:00:00\",\"2023-01-19T00:00:00\",\"2023-01-20T00:00:00\",\"2023-01-23T00:00:00\",\"2023-01-24T00:00:00\",\"2023-01-25T00:00:00\",\"2023-01-27T00:00:00\",\"2023-01-30T00:00:00\",\"2023-01-31T00:00:00\",\"2023-02-01T00:00:00\",\"2023-02-02T00:00:00\",\"2023-02-03T00:00:00\",\"2023-02-06T00:00:00\",\"2023-02-07T00:00:00\",\"2023-02-08T00:00:00\",\"2023-02-09T00:00:00\",\"2023-02-10T00:00:00\",\"2023-02-13T00:00:00\",\"2023-02-14T00:00:00\",\"2023-02-15T00:00:00\",\"2023-02-16T00:00:00\",\"2023-02-17T00:00:00\",\"2023-02-20T00:00:00\",\"2023-02-21T00:00:00\",\"2023-02-22T00:00:00\",\"2023-02-23T00:00:00\",\"2023-02-24T00:00:00\",\"2023-02-27T00:00:00\",\"2023-02-28T00:00:00\",\"2023-03-01T00:00:00\",\"2023-03-02T00:00:00\",\"2023-03-03T00:00:00\",\"2023-03-06T00:00:00\",\"2023-03-08T00:00:00\",\"2023-03-09T00:00:00\",\"2023-03-10T00:00:00\",\"2023-03-13T00:00:00\",\"2023-03-14T00:00:00\",\"2023-03-15T00:00:00\",\"2023-03-16T00:00:00\",\"2023-03-17T00:00:00\",\"2023-03-20T00:00:00\",\"2023-03-21T00:00:00\",\"2023-03-22T00:00:00\",\"2023-03-23T00:00:00\",\"2023-03-24T00:00:00\",\"2023-03-27T00:00:00\",\"2023-03-28T00:00:00\",\"2023-03-29T00:00:00\",\"2023-03-31T00:00:00\",\"2023-04-03T00:00:00\",\"2023-04-05T00:00:00\",\"2023-04-06T00:00:00\",\"2023-04-10T00:00:00\",\"2023-04-11T00:00:00\",\"2023-04-12T00:00:00\",\"2023-04-13T00:00:00\",\"2023-04-17T00:00:00\",\"2023-04-18T00:00:00\",\"2023-04-19T00:00:00\",\"2023-04-20T00:00:00\",\"2023-04-21T00:00:00\",\"2023-04-24T00:00:00\",\"2023-04-25T00:00:00\",\"2023-04-26T00:00:00\",\"2023-04-27T00:00:00\",\"2023-04-28T00:00:00\",\"2023-05-02T00:00:00\",\"2023-05-03T00:00:00\",\"2023-05-04T00:00:00\",\"2023-05-05T00:00:00\",\"2023-05-08T00:00:00\",\"2023-05-09T00:00:00\",\"2023-05-10T00:00:00\",\"2023-05-11T00:00:00\",\"2023-05-12T00:00:00\",\"2023-05-15T00:00:00\",\"2023-05-16T00:00:00\",\"2023-05-17T00:00:00\",\"2023-05-18T00:00:00\",\"2023-05-19T00:00:00\",\"2023-05-22T00:00:00\",\"2023-05-23T00:00:00\",\"2023-05-24T00:00:00\",\"2023-05-25T00:00:00\",\"2023-05-26T00:00:00\",\"2023-05-29T00:00:00\",\"2023-05-30T00:00:00\",\"2023-05-31T00:00:00\",\"2023-06-01T00:00:00\",\"2023-06-02T00:00:00\",\"2023-06-05T00:00:00\",\"2023-06-06T00:00:00\",\"2023-06-07T00:00:00\",\"2023-06-08T00:00:00\",\"2023-06-09T00:00:00\",\"2023-06-12T00:00:00\",\"2023-06-13T00:00:00\",\"2023-06-14T00:00:00\",\"2023-06-15T00:00:00\",\"2023-06-16T00:00:00\",\"2023-06-19T00:00:00\",\"2023-06-20T00:00:00\",\"2023-06-21T00:00:00\",\"2023-06-22T00:00:00\",\"2023-06-23T00:00:00\",\"2023-06-26T00:00:00\",\"2023-06-27T00:00:00\",\"2023-06-28T00:00:00\",\"2023-06-30T00:00:00\",\"2023-07-03T00:00:00\",\"2023-07-04T00:00:00\",\"2023-07-05T00:00:00\",\"2023-07-06T00:00:00\",\"2023-07-07T00:00:00\",\"2023-07-10T00:00:00\",\"2023-07-11T00:00:00\",\"2023-07-12T00:00:00\",\"2023-07-13T00:00:00\",\"2023-07-14T00:00:00\",\"2023-07-17T00:00:00\",\"2023-07-18T00:00:00\",\"2023-07-19T00:00:00\",\"2023-07-20T00:00:00\",\"2023-07-21T00:00:00\",\"2023-07-24T00:00:00\",\"2023-07-25T00:00:00\",\"2023-07-26T00:00:00\",\"2023-07-27T00:00:00\",\"2023-07-28T00:00:00\",\"2023-07-31T00:00:00\",\"2023-08-01T00:00:00\",\"2023-08-02T00:00:00\",\"2023-08-03T00:00:00\",\"2023-08-04T00:00:00\",\"2023-08-07T00:00:00\",\"2023-08-08T00:00:00\"],\"xaxis\":\"x\",\"y\":[null,-0.9271929103746412,0.05115533803925487,0.3211919245004635,0.8628404177307036,0.9241386572860444,0.5294968278315659,0.5180452995875662,0.7911919352943775,0.2885852132244793,-0.5816442600653171,-1.1620739357123933,1.2480829893218859,1.268617048286269,1.010996298361655,1.1187987320313564,0.44945372452214194,-0.03290100290892495,0.20830724272966616,-0.43446622281019254,0.7613023341867642,0.2601082061020277,0.5188895481919698,-0.2770075288583973,1.6182782177579513,0.6255444286549894,0.08320733063085228,-1.1155312825738783,-1.8973298524609716,0.8615006610779963,0.4004021189491169,0.011697030769997063,0.35382417799769694,-0.41308715275764074,1.238127700983327,-0.5880061292570016,-0.16513130619504324,0.2530437698782917,0.1613999723279358,0.17948395439404408,0.48364481513010205,0.1998714467581708,0.9552611506180586,0.5737422609301435,-0.20493642369662224,-0.06446142380316378,-2.0441020366963825,0.5266422708065654,1.467712174383995,-0.9964632678007845,0.6303757637759588,-1.635946004800093,-2.4988532229315963,-0.036015060387728504,-0.09333982707143695,-0.38247432244744584,0.8906984917314897,-2.0476791947085293,2.259707170991243,0.20653613911714164,-0.049613249419910854,-0.5344123157944747,-1.7010580788804242,0.6714107818462267,-0.5736777159565332,0.1011374652252428,0.6792654271264853,0.9923645034605189,-0.2530665641975238,0.5745866688943613,-0.2015923014058396,0.44976865001364885,0.07011851087306287,0.8363460838782144,0.5218204650167868,0.9184046889942676,0.8585519382714457,-0.6999113042647442,0.03267422788066909,0.33854172493756884,0.36861111327539664,-0.41704756971125967,-0.9223542352594483,0.37029580599552414,0.16179390189192677,0.4314274712393429,-0.48834191082595124,-0.8062537579319518,-0.3704941292201447,-0.22522765749574125,0.3786926976090621,0.18372755397955132,0.7121302264538665,0.4954460331695332,0.15192055325250475,0.2551397715376158,1.0755472394622156,0.38941058494987857,-0.3321725796674002,-0.09265330042034225,-0.292425795325868,-0.4403963208455375,0.11252064356657154,-0.5357435356110662,0.16050815548667163,0.1573905827206401,0.39244176597386105,-0.8166606816247035,-1.2113543707593988,1.0951759735662314,-0.4654197113788672,-0.8750471347191091,-0.8352468068719365,-2.574525251375537,1.2840331629593749,0.7370740108848306,0.2714986410743636,0.14399695448397143,-0.23911096896204187,0.09433757625543215,0.17303243362745135,-0.6918709460634664,0.4623185969024224,-0.8459814199341387,0.9831091613168974,-0.8263086224062022,-0.5180523125778658,-0.005504108418374898,0.5489460640489385,-0.45358877733363556,0.6295429527192864,0.25046073671710634,-0.45269851539841977,-0.7712482822461841,0.41404352541387635,0.043222700416611914,-1.3614404189296825,-2.350739371476862,-0.07719430869411736,0.6780979054959113,-1.5726434486975749,-0.6296168181184725,0.44686240935798427,-0.27934248170258247,-0.10875112125129371,1.0467266892173033,-0.2953758293489317,-0.023395690367655764,-0.7059582061414105,-0.09140013480652964,0.8188490034586771,0.2818047892593656,-0.613397973605001,-0.6224175338048865,-0.49308676304332666,-1.3329423256047024,-0.5222244399409659,-0.19920123251836452,-0.9607396659579215,0.004380140442528102,1.0764438415516109,-0.4791373338363214,1.2192405390942795,0.48141539849677617,0.3346131017104792,-0.991360862874846,-0.5298393655870703,-1.3321039236517618,-0.8296678276810687,0.10475518534891481,0.4164917797266465,0.37921168667989225,-0.7625419305823611,0.15384973600036655,0.2863681358827419,-0.2198062558957714,-0.9615055144235218,0.05333198895924873,-0.6045211751321777,1.227601839599557,0.8726089325723496,0.6110794352485183,0.19949239812766528,0.5443515283972022,0.6826237563241966,0.610383645484136,0.8580612341474447,0.33593226445884916,0.07240108810144807,0.20348089743351672,-0.32629792228259236,-0.1849915145220149,-0.24302542310817854,0.1609575064293267,0.29705291232775544,0.22618701847259004,0.3752727853344018,1.0259961374204485,0.45917023768007326,-0.13251468215911277,0.8589079862843851,-0.049151290290982974,0.7609392784731828,0.07643160192647436,0.13896443072487497,-0.002136757182880089,0.09045112686245638,0.3888994686918057,-0.4213899511969932,-0.4058842148999986,-0.9048557702077575,0.05627280419069347,1.4750482380147867,0.6182466309026191,-0.09203980288396973,0.36868297490819657,0.9405879996356781,0.40360268545978073,0.015699093626042604,0.035454388085565114,0.5346881947170479,0.6067455416028933,0.19337085416768485,0.5017197369688198,0.9366924437526292,-0.8396402501050004,-0.464324004891159,0.24875805068471646,0.667726152413417,0.1434482232736345,0.3342024921340059,0.6271088191639684,-0.3984682984040866,0.595204714973363,0.09681207433684946,-0.7284388320994872,-0.8137253695566504,0.7221064981845826,0.45210266335966587,0.0,2.0824118272016356,-0.019310289292440164,0.05445338058636118,1.0696880544704745,0.4602718826185903,-0.9209991977705556,-0.33138666512165793,0.813703907307195,-0.006390618723972619,-0.3748813110720839,0.9417039196916388,0.4684753259545982,-0.3081629700670385,0.2537301251752,0.5138019885290168,-0.5818647080724659,-0.02496471237085629,0.285336832841665,0.4234377099980202,-0.08919954290186327,0.5610641443067665,0.3270404295379503,-0.3550337195719844,-0.9581989871349617,-0.4300314062934518,0.29848167555419636,0.5165002960219711,0.059294161604528384],\"yaxis\":\"y\",\"type\":\"scatter\"},{\"hovertemplate\":\"Index=NSE Nifty 50 Returns (in %)<br>Date=%{x}<br>Returns (%)=%{y}<extra></extra>\",\"legendgroup\":\"NSE Nifty 50 Returns (in %)\",\"line\":{\"color\":\"#EF553B\",\"dash\":\"solid\"},\"marker\":{\"symbol\":\"circle\"},\"mode\":\"lines\",\"name\":\"NSE Nifty 50 Returns (in %)\",\"orientation\":\"v\",\"showlegend\":true,\"x\":[\"2022-07-11T00:00:00\",\"2022-07-12T00:00:00\",\"2022-07-13T00:00:00\",\"2022-07-14T00:00:00\",\"2022-07-15T00:00:00\",\"2022-07-18T00:00:00\",\"2022-07-19T00:00:00\",\"2022-07-20T00:00:00\",\"2022-07-21T00:00:00\",\"2022-07-22T00:00:00\",\"2022-07-25T00:00:00\",\"2022-07-26T00:00:00\",\"2022-07-27T00:00:00\",\"2022-07-28T00:00:00\",\"2022-07-29T00:00:00\",\"2022-08-01T00:00:00\",\"2022-08-02T00:00:00\",\"2022-08-03T00:00:00\",\"2022-08-04T00:00:00\",\"2022-08-05T00:00:00\",\"2022-08-08T00:00:00\",\"2022-08-10T00:00:00\",\"2022-08-11T00:00:00\",\"2022-08-12T00:00:00\",\"2022-08-16T00:00:00\",\"2022-08-17T00:00:00\",\"2022-08-18T00:00:00\",\"2022-08-19T00:00:00\",\"2022-08-22T00:00:00\",\"2022-08-23T00:00:00\",\"2022-08-24T00:00:00\",\"2022-08-25T00:00:00\",\"2022-08-26T00:00:00\",\"2022-08-29T00:00:00\",\"2022-08-30T00:00:00\",\"2022-09-01T00:00:00\",\"2022-09-02T00:00:00\",\"2022-09-05T00:00:00\",\"2022-09-06T00:00:00\",\"2022-09-07T00:00:00\",\"2022-09-08T00:00:00\",\"2022-09-09T00:00:00\",\"2022-09-12T00:00:00\",\"2022-09-13T00:00:00\",\"2022-09-14T00:00:00\",\"2022-09-15T00:00:00\",\"2022-09-16T00:00:00\",\"2022-09-19T00:00:00\",\"2022-09-20T00:00:00\",\"2022-09-21T00:00:00\",\"2022-09-22T00:00:00\",\"2022-09-23T00:00:00\",\"2022-09-26T00:00:00\",\"2022-09-27T00:00:00\",\"2022-09-28T00:00:00\",\"2022-09-29T00:00:00\",\"2022-09-30T00:00:00\",\"2022-10-03T00:00:00\",\"2022-10-04T00:00:00\",\"2022-10-06T00:00:00\",\"2022-10-07T00:00:00\",\"2022-10-10T00:00:00\",\"2022-10-11T00:00:00\",\"2022-10-12T00:00:00\",\"2022-10-13T00:00:00\",\"2022-10-14T00:00:00\",\"2022-10-17T00:00:00\",\"2022-10-18T00:00:00\",\"2022-10-19T00:00:00\",\"2022-10-20T00:00:00\",\"2022-10-21T00:00:00\",\"2022-10-24T00:00:00\",\"2022-10-25T00:00:00\",\"2022-10-27T00:00:00\",\"2022-10-28T00:00:00\",\"2022-10-31T00:00:00\",\"2022-11-01T00:00:00\",\"2022-11-02T00:00:00\",\"2022-11-03T00:00:00\",\"2022-11-04T00:00:00\",\"2022-11-07T00:00:00\",\"2022-11-09T00:00:00\",\"2022-11-10T00:00:00\",\"2022-11-11T00:00:00\",\"2022-11-14T00:00:00\",\"2022-11-15T00:00:00\",\"2022-11-16T00:00:00\",\"2022-11-17T00:00:00\",\"2022-11-18T00:00:00\",\"2022-11-21T00:00:00\",\"2022-11-22T00:00:00\",\"2022-11-23T00:00:00\",\"2022-11-24T00:00:00\",\"2022-11-25T00:00:00\",\"2022-11-28T00:00:00\",\"2022-11-29T00:00:00\",\"2022-11-30T00:00:00\",\"2022-12-01T00:00:00\",\"2022-12-02T00:00:00\",\"2022-12-05T00:00:00\",\"2022-12-06T00:00:00\",\"2022-12-07T00:00:00\",\"2022-12-08T00:00:00\",\"2022-12-09T00:00:00\",\"2022-12-12T00:00:00\",\"2022-12-13T00:00:00\",\"2022-12-14T00:00:00\",\"2022-12-15T00:00:00\",\"2022-12-16T00:00:00\",\"2022-12-19T00:00:00\",\"2022-12-20T00:00:00\",\"2022-12-21T00:00:00\",\"2022-12-22T00:00:00\",\"2022-12-23T00:00:00\",\"2022-12-26T00:00:00\",\"2022-12-27T00:00:00\",\"2022-12-28T00:00:00\",\"2022-12-29T00:00:00\",\"2022-12-30T00:00:00\",\"2023-01-02T00:00:00\",\"2023-01-03T00:00:00\",\"2023-01-04T00:00:00\",\"2023-01-05T00:00:00\",\"2023-01-06T00:00:00\",\"2023-01-09T00:00:00\",\"2023-01-10T00:00:00\",\"2023-01-11T00:00:00\",\"2023-01-12T00:00:00\",\"2023-01-13T00:00:00\",\"2023-01-16T00:00:00\",\"2023-01-17T00:00:00\",\"2023-01-18T00:00:00\",\"2023-01-19T00:00:00\",\"2023-01-20T00:00:00\",\"2023-01-23T00:00:00\",\"2023-01-24T00:00:00\",\"2023-01-25T00:00:00\",\"2023-01-27T00:00:00\",\"2023-01-30T00:00:00\",\"2023-01-31T00:00:00\",\"2023-02-01T00:00:00\",\"2023-02-02T00:00:00\",\"2023-02-03T00:00:00\",\"2023-02-06T00:00:00\",\"2023-02-07T00:00:00\",\"2023-02-08T00:00:00\",\"2023-02-09T00:00:00\",\"2023-02-10T00:00:00\",\"2023-02-13T00:00:00\",\"2023-02-14T00:00:00\",\"2023-02-15T00:00:00\",\"2023-02-16T00:00:00\",\"2023-02-17T00:00:00\",\"2023-02-20T00:00:00\",\"2023-02-21T00:00:00\",\"2023-02-22T00:00:00\",\"2023-02-23T00:00:00\",\"2023-02-24T00:00:00\",\"2023-02-27T00:00:00\",\"2023-02-28T00:00:00\",\"2023-03-01T00:00:00\",\"2023-03-02T00:00:00\",\"2023-03-03T00:00:00\",\"2023-03-06T00:00:00\",\"2023-03-08T00:00:00\",\"2023-03-09T00:00:00\",\"2023-03-10T00:00:00\",\"2023-03-13T00:00:00\",\"2023-03-14T00:00:00\",\"2023-03-15T00:00:00\",\"2023-03-16T00:00:00\",\"2023-03-17T00:00:00\",\"2023-03-20T00:00:00\",\"2023-03-21T00:00:00\",\"2023-03-22T00:00:00\",\"2023-03-23T00:00:00\",\"2023-03-24T00:00:00\",\"2023-03-27T00:00:00\",\"2023-03-28T00:00:00\",\"2023-03-29T00:00:00\",\"2023-03-31T00:00:00\",\"2023-04-03T00:00:00\",\"2023-04-05T00:00:00\",\"2023-04-06T00:00:00\",\"2023-04-10T00:00:00\",\"2023-04-11T00:00:00\",\"2023-04-12T00:00:00\",\"2023-04-13T00:00:00\",\"2023-04-17T00:00:00\",\"2023-04-18T00:00:00\",\"2023-04-19T00:00:00\",\"2023-04-20T00:00:00\",\"2023-04-21T00:00:00\",\"2023-04-24T00:00:00\",\"2023-04-25T00:00:00\",\"2023-04-26T00:00:00\",\"2023-04-27T00:00:00\",\"2023-04-28T00:00:00\",\"2023-05-02T00:00:00\",\"2023-05-03T00:00:00\",\"2023-05-04T00:00:00\",\"2023-05-05T00:00:00\",\"2023-05-08T00:00:00\",\"2023-05-09T00:00:00\",\"2023-05-10T00:00:00\",\"2023-05-11T00:00:00\",\"2023-05-12T00:00:00\",\"2023-05-15T00:00:00\",\"2023-05-16T00:00:00\",\"2023-05-17T00:00:00\",\"2023-05-18T00:00:00\",\"2023-05-19T00:00:00\",\"2023-05-22T00:00:00\",\"2023-05-23T00:00:00\",\"2023-05-24T00:00:00\",\"2023-05-25T00:00:00\",\"2023-05-26T00:00:00\",\"2023-05-29T00:00:00\",\"2023-05-30T00:00:00\",\"2023-05-31T00:00:00\",\"2023-06-01T00:00:00\",\"2023-06-02T00:00:00\",\"2023-06-05T00:00:00\",\"2023-06-06T00:00:00\",\"2023-06-07T00:00:00\",\"2023-06-08T00:00:00\",\"2023-06-09T00:00:00\",\"2023-06-12T00:00:00\",\"2023-06-13T00:00:00\",\"2023-06-14T00:00:00\",\"2023-06-15T00:00:00\",\"2023-06-16T00:00:00\",\"2023-06-19T00:00:00\",\"2023-06-20T00:00:00\",\"2023-06-21T00:00:00\",\"2023-06-22T00:00:00\",\"2023-06-23T00:00:00\",\"2023-06-26T00:00:00\",\"2023-06-27T00:00:00\",\"2023-06-28T00:00:00\",\"2023-06-30T00:00:00\",\"2023-07-03T00:00:00\",\"2023-07-04T00:00:00\",\"2023-07-05T00:00:00\",\"2023-07-06T00:00:00\",\"2023-07-07T00:00:00\",\"2023-07-10T00:00:00\",\"2023-07-11T00:00:00\",\"2023-07-12T00:00:00\",\"2023-07-13T00:00:00\",\"2023-07-14T00:00:00\",\"2023-07-17T00:00:00\",\"2023-07-18T00:00:00\",\"2023-07-19T00:00:00\",\"2023-07-20T00:00:00\",\"2023-07-21T00:00:00\",\"2023-07-24T00:00:00\",\"2023-07-25T00:00:00\",\"2023-07-26T00:00:00\",\"2023-07-27T00:00:00\",\"2023-07-28T00:00:00\",\"2023-07-31T00:00:00\",\"2023-08-01T00:00:00\",\"2023-08-02T00:00:00\",\"2023-08-03T00:00:00\",\"2023-08-04T00:00:00\",\"2023-08-07T00:00:00\",\"2023-08-08T00:00:00\"],\"xaxis\":\"x\",\"y\":[null,-0.97249750439381,-0.5707292501522909,-0.1753655232310969,0.6935957686387662,1.4287304158276504,0.3811764271124396,1.103388850696918,0.5108719746296009,0.6877295960614926,-0.5290199311757782,-0.884795806776506,0.9582177441437301,1.7293731123692924,1.3505953826479233,1.0595531668439406,0.0311327663805816,0.24618083588656692,-0.03537116074355806,0.08917270739845495,0.7334364671648164,0.05506610997998429,0.7085929368824795,0.22170219505635025,0.7181519343531395,0.6675923198833145,0.06826699360520383,-1.1029475746944017,-1.50773300473388,0.49626821755044404,0.1561611079505143,-0.46861822192667546,0.2080255529346653,-1.4009988924553851,2.578426378902554,-1.2190795272107646,-0.01910505934481499,0.7203850071011875,-0.05774531254664206,-0.17671004916441913,0.9892512965589573,0.19439347917691308,0.5775695663245095,0.7454201929980142,-0.3669097671756161,-0.7017960667916379,-1.9384853148544656,0.521368859248672,1.1008809885230342,-0.5495005437451739,-0.4997577656902563,-1.7155677232420508,-1.7951321762256445,-0.052305085220449854,-0.874917846539458,-0.24023347691036756,1.642575596626905,-1.2109264448790458,2.291367093271912,0.33286441360573793,-0.09895331040011834,-0.425364584114718,-1.49323831999304,0.8246145339619648,-0.6380083772817624,1.0070888003887335,0.7337586960815656,1.0117285874136073,0.14468379208691928,0.2952174549244013,0.07032337856462956,0.8787356376761757,-0.41961220267050514,0.45649078749665506,0.2810605244745412,1.26722303955642,0.7395053222392978,-0.3447197631545107,-0.16673473084335422,0.3570168155688336,0.4727586225111935,-0.2516139235956394,-0.7093725904609771,1.7833173247033374,-0.11198455015547504,0.40509242609507723,0.03396111515991951,-0.357149639481924,-0.19761337135545398,-0.8067729540576885,0.463933015368867,0.12634580983039712,1.1870949889830174,0.15500019600884762,0.27008413120686026,0.297912654375021,0.7535634625419174,0.2886735334004964,-0.6187396179402005,0.026482378562620035,-0.3117513659096294,-0.4411902750398933,0.2631912360927746,-0.6058782405979346,0.002977743269738653,0.599279386467999,0.2810661073194387,-1.3150934355333654,-0.792295301794177,0.8289956688926514,-0.19081205394395617,-1.012771964355863,-0.39425027358517273,-1.768316025411787,1.1669632893506865,0.6533654614990558,-0.05405150382313817,0.377983170092433,-0.471107793689185,0.5089583355357918,0.192892762485819,-1.0399069487028845,-0.28154392892826285,-0.7375503705446151,1.3536251708490266,-1.033350475095851,-0.10299775022909463,-0.209547554088918,0.5510095918388247,-0.3438847072569362,0.8854568511824201,0.6206556323560042,-0.3165367099256078,-0.44289753051891534,0.5042276095628795,-0.0013798013043020418,-1.249297962501228,-1.6074246906178757,0.25334426073457816,0.07479862801675896,-0.25959245256645946,-0.03349392530399564,1.3835596307890219,-0.5010133160870178,-0.24261514654264627,0.8475536424681795,0.12170079483646568,-0.20649578680046465,-0.479375070002519,0.89443537049958,0.4796470794436125,0.11101336008929596,-0.5081567689351307,-0.5550518480140765,-0.10031264929920569,-1.5280363131582653,-0.2452434977984641,-0.2595429723749043,-0.41854114458053093,-0.5102715736285734,0.8492348770636093,-0.7392168719804415,1.5728598629827895,0.6655523618366965,0.24250512391459367,-0.9282249899975281,-1.0045664635585094,-1.4851035931626178,-0.6470680525861194,-0.41746837386849034,0.07924286811309411,0.6738129621978839,-0.6529243219992265,0.7010642946744028,0.25953757489405316,-0.43726933046436267,-0.7720933328590696,0.23988383407489433,-0.20016838613549082,0.7609856589321451,1.6337198944623932,0.2206297973761151,0.9138954817361267,0.23978747854371818,0.14148632219350699,0.5574768321964241,0.5083967961446945,0.08757724412713497,-0.6795512150830185,-0.26373533282438855,-0.2344283016240789,0.03234746363958152,-0.002260708945023282,0.6771973756565242,0.14568576938982503,0.24958627615121465,0.5695152810193838,0.8370013603697934,0.4575166931912511,-0.318502836487633,0.9173717607303677,-1.0232406865540389,1.0814123118324304,0.00848003817193188,0.26908205008338015,-0.09882342854272697,0.09728797753729701,0.45891205221868514,-0.6106338807060685,-0.5728269488420423,-0.2849053652701161,0.40513721791914925,0.6097761825706316,0.1834600568861644,-0.34117947119577385,0.19551116867164708,0.9726420827874671,0.5367798508963517,0.18925684396833287,-0.533701950132548,-0.25169624936233204,0.2507044360454902,0.3223787573137793,0.027699431442118616,0.6849851638528914,-0.49048192636628185,-0.381819725413457,0.20524046550352004,0.6163502439319402,0.21238341844009856,-0.36149041015322014,0.7379048352023077,-0.37475183921172883,0.3265717567498605,0.21337637466720683,-0.4539443817404343,-0.5633615236065759,0.13768299134766515,0.675190341711196,0.822107281232487,1.143527476356887,0.695709243369369,0.3438946519135566,0.04899685388621844,0.509321758125636,-0.848835445771845,0.12466303397029588,0.43139300324381846,-0.2834429471475497,0.1519230385574888,0.7765114931427508,0.7511013251041421,0.1917706853032497,0.4248282371482448,0.7361412439498949,-1.1719737128305097,-0.3679432292985618,0.04193703428323481,0.4964339187534694,-0.598637830087223,-0.07044597937843067,0.5484562836559181,-0.10251191770254131,-1.0489749274959825,-0.7420685416911321,0.6983389270114548,0.41144018676027017,-0.13497354646058168],\"yaxis\":\"y\",\"type\":\"scatter\"}],                        {\"template\":{\"data\":{\"histogram2dcontour\":[{\"type\":\"histogram2dcontour\",\"colorbar\":{\"outlinewidth\":0,\"ticks\":\"\"},\"colorscale\":[[0.0,\"#0d0887\"],[0.1111111111111111,\"#46039f\"],[0.2222222222222222,\"#7201a8\"],[0.3333333333333333,\"#9c179e\"],[0.4444444444444444,\"#bd3786\"],[0.5555555555555556,\"#d8576b\"],[0.6666666666666666,\"#ed7953\"],[0.7777777777777778,\"#fb9f3a\"],[0.8888888888888888,\"#fdca26\"],[1.0,\"#f0f921\"]]}],\"choropleth\":[{\"type\":\"choropleth\",\"colorbar\":{\"outlinewidth\":0,\"ticks\":\"\"}}],\"histogram2d\":[{\"type\":\"histogram2d\",\"colorbar\":{\"outlinewidth\":0,\"ticks\":\"\"},\"colorscale\":[[0.0,\"#0d0887\"],[0.1111111111111111,\"#46039f\"],[0.2222222222222222,\"#7201a8\"],[0.3333333333333333,\"#9c179e\"],[0.4444444444444444,\"#bd3786\"],[0.5555555555555556,\"#d8576b\"],[0.6666666666666666,\"#ed7953\"],[0.7777777777777778,\"#fb9f3a\"],[0.8888888888888888,\"#fdca26\"],[1.0,\"#f0f921\"]]}],\"heatmap\":[{\"type\":\"heatmap\",\"colorbar\":{\"outlinewidth\":0,\"ticks\":\"\"},\"colorscale\":[[0.0,\"#0d0887\"],[0.1111111111111111,\"#46039f\"],[0.2222222222222222,\"#7201a8\"],[0.3333333333333333,\"#9c179e\"],[0.4444444444444444,\"#bd3786\"],[0.5555555555555556,\"#d8576b\"],[0.6666666666666666,\"#ed7953\"],[0.7777777777777778,\"#fb9f3a\"],[0.8888888888888888,\"#fdca26\"],[1.0,\"#f0f921\"]]}],\"heatmapgl\":[{\"type\":\"heatmapgl\",\"colorbar\":{\"outlinewidth\":0,\"ticks\":\"\"},\"colorscale\":[[0.0,\"#0d0887\"],[0.1111111111111111,\"#46039f\"],[0.2222222222222222,\"#7201a8\"],[0.3333333333333333,\"#9c179e\"],[0.4444444444444444,\"#bd3786\"],[0.5555555555555556,\"#d8576b\"],[0.6666666666666666,\"#ed7953\"],[0.7777777777777778,\"#fb9f3a\"],[0.8888888888888888,\"#fdca26\"],[1.0,\"#f0f921\"]]}],\"contourcarpet\":[{\"type\":\"contourcarpet\",\"colorbar\":{\"outlinewidth\":0,\"ticks\":\"\"}}],\"contour\":[{\"type\":\"contour\",\"colorbar\":{\"outlinewidth\":0,\"ticks\":\"\"},\"colorscale\":[[0.0,\"#0d0887\"],[0.1111111111111111,\"#46039f\"],[0.2222222222222222,\"#7201a8\"],[0.3333333333333333,\"#9c179e\"],[0.4444444444444444,\"#bd3786\"],[0.5555555555555556,\"#d8576b\"],[0.6666666666666666,\"#ed7953\"],[0.7777777777777778,\"#fb9f3a\"],[0.8888888888888888,\"#fdca26\"],[1.0,\"#f0f921\"]]}],\"surface\":[{\"type\":\"surface\",\"colorbar\":{\"outlinewidth\":0,\"ticks\":\"\"},\"colorscale\":[[0.0,\"#0d0887\"],[0.1111111111111111,\"#46039f\"],[0.2222222222222222,\"#7201a8\"],[0.3333333333333333,\"#9c179e\"],[0.4444444444444444,\"#bd3786\"],[0.5555555555555556,\"#d8576b\"],[0.6666666666666666,\"#ed7953\"],[0.7777777777777778,\"#fb9f3a\"],[0.8888888888888888,\"#fdca26\"],[1.0,\"#f0f921\"]]}],\"mesh3d\":[{\"type\":\"mesh3d\",\"colorbar\":{\"outlinewidth\":0,\"ticks\":\"\"}}],\"scatter\":[{\"fillpattern\":{\"fillmode\":\"overlay\",\"size\":10,\"solidity\":0.2},\"type\":\"scatter\"}],\"parcoords\":[{\"type\":\"parcoords\",\"line\":{\"colorbar\":{\"outlinewidth\":0,\"ticks\":\"\"}}}],\"scatterpolargl\":[{\"type\":\"scatterpolargl\",\"marker\":{\"colorbar\":{\"outlinewidth\":0,\"ticks\":\"\"}}}],\"bar\":[{\"error_x\":{\"color\":\"#2a3f5f\"},\"error_y\":{\"color\":\"#2a3f5f\"},\"marker\":{\"line\":{\"color\":\"#E5ECF6\",\"width\":0.5},\"pattern\":{\"fillmode\":\"overlay\",\"size\":10,\"solidity\":0.2}},\"type\":\"bar\"}],\"scattergeo\":[{\"type\":\"scattergeo\",\"marker\":{\"colorbar\":{\"outlinewidth\":0,\"ticks\":\"\"}}}],\"scatterpolar\":[{\"type\":\"scatterpolar\",\"marker\":{\"colorbar\":{\"outlinewidth\":0,\"ticks\":\"\"}}}],\"histogram\":[{\"marker\":{\"pattern\":{\"fillmode\":\"overlay\",\"size\":10,\"solidity\":0.2}},\"type\":\"histogram\"}],\"scattergl\":[{\"type\":\"scattergl\",\"marker\":{\"colorbar\":{\"outlinewidth\":0,\"ticks\":\"\"}}}],\"scatter3d\":[{\"type\":\"scatter3d\",\"line\":{\"colorbar\":{\"outlinewidth\":0,\"ticks\":\"\"}},\"marker\":{\"colorbar\":{\"outlinewidth\":0,\"ticks\":\"\"}}}],\"scattermapbox\":[{\"type\":\"scattermapbox\",\"marker\":{\"colorbar\":{\"outlinewidth\":0,\"ticks\":\"\"}}}],\"scatterternary\":[{\"type\":\"scatterternary\",\"marker\":{\"colorbar\":{\"outlinewidth\":0,\"ticks\":\"\"}}}],\"scattercarpet\":[{\"type\":\"scattercarpet\",\"marker\":{\"colorbar\":{\"outlinewidth\":0,\"ticks\":\"\"}}}],\"carpet\":[{\"aaxis\":{\"endlinecolor\":\"#2a3f5f\",\"gridcolor\":\"white\",\"linecolor\":\"white\",\"minorgridcolor\":\"white\",\"startlinecolor\":\"#2a3f5f\"},\"baxis\":{\"endlinecolor\":\"#2a3f5f\",\"gridcolor\":\"white\",\"linecolor\":\"white\",\"minorgridcolor\":\"white\",\"startlinecolor\":\"#2a3f5f\"},\"type\":\"carpet\"}],\"table\":[{\"cells\":{\"fill\":{\"color\":\"#EBF0F8\"},\"line\":{\"color\":\"white\"}},\"header\":{\"fill\":{\"color\":\"#C8D4E3\"},\"line\":{\"color\":\"white\"}},\"type\":\"table\"}],\"barpolar\":[{\"marker\":{\"line\":{\"color\":\"#E5ECF6\",\"width\":0.5},\"pattern\":{\"fillmode\":\"overlay\",\"size\":10,\"solidity\":0.2}},\"type\":\"barpolar\"}],\"pie\":[{\"automargin\":true,\"type\":\"pie\"}]},\"layout\":{\"autotypenumbers\":\"strict\",\"colorway\":[\"#636efa\",\"#EF553B\",\"#00cc96\",\"#ab63fa\",\"#FFA15A\",\"#19d3f3\",\"#FF6692\",\"#B6E880\",\"#FF97FF\",\"#FECB52\"],\"font\":{\"color\":\"#2a3f5f\"},\"hovermode\":\"closest\",\"hoverlabel\":{\"align\":\"left\"},\"paper_bgcolor\":\"white\",\"plot_bgcolor\":\"#E5ECF6\",\"polar\":{\"bgcolor\":\"#E5ECF6\",\"angularaxis\":{\"gridcolor\":\"white\",\"linecolor\":\"white\",\"ticks\":\"\"},\"radialaxis\":{\"gridcolor\":\"white\",\"linecolor\":\"white\",\"ticks\":\"\"}},\"ternary\":{\"bgcolor\":\"#E5ECF6\",\"aaxis\":{\"gridcolor\":\"white\",\"linecolor\":\"white\",\"ticks\":\"\"},\"baxis\":{\"gridcolor\":\"white\",\"linecolor\":\"white\",\"ticks\":\"\"},\"caxis\":{\"gridcolor\":\"white\",\"linecolor\":\"white\",\"ticks\":\"\"}},\"coloraxis\":{\"colorbar\":{\"outlinewidth\":0,\"ticks\":\"\"}},\"colorscale\":{\"sequential\":[[0.0,\"#0d0887\"],[0.1111111111111111,\"#46039f\"],[0.2222222222222222,\"#7201a8\"],[0.3333333333333333,\"#9c179e\"],[0.4444444444444444,\"#bd3786\"],[0.5555555555555556,\"#d8576b\"],[0.6666666666666666,\"#ed7953\"],[0.7777777777777778,\"#fb9f3a\"],[0.8888888888888888,\"#fdca26\"],[1.0,\"#f0f921\"]],\"sequentialminus\":[[0.0,\"#0d0887\"],[0.1111111111111111,\"#46039f\"],[0.2222222222222222,\"#7201a8\"],[0.3333333333333333,\"#9c179e\"],[0.4444444444444444,\"#bd3786\"],[0.5555555555555556,\"#d8576b\"],[0.6666666666666666,\"#ed7953\"],[0.7777777777777778,\"#fb9f3a\"],[0.8888888888888888,\"#fdca26\"],[1.0,\"#f0f921\"]],\"diverging\":[[0,\"#8e0152\"],[0.1,\"#c51b7d\"],[0.2,\"#de77ae\"],[0.3,\"#f1b6da\"],[0.4,\"#fde0ef\"],[0.5,\"#f7f7f7\"],[0.6,\"#e6f5d0\"],[0.7,\"#b8e186\"],[0.8,\"#7fbc41\"],[0.9,\"#4d9221\"],[1,\"#276419\"]]},\"xaxis\":{\"gridcolor\":\"white\",\"linecolor\":\"white\",\"ticks\":\"\",\"title\":{\"standoff\":15},\"zerolinecolor\":\"white\",\"automargin\":true,\"zerolinewidth\":2},\"yaxis\":{\"gridcolor\":\"white\",\"linecolor\":\"white\",\"ticks\":\"\",\"title\":{\"standoff\":15},\"zerolinecolor\":\"white\",\"automargin\":true,\"zerolinewidth\":2},\"scene\":{\"xaxis\":{\"backgroundcolor\":\"#E5ECF6\",\"gridcolor\":\"white\",\"linecolor\":\"white\",\"showbackground\":true,\"ticks\":\"\",\"zerolinecolor\":\"white\",\"gridwidth\":2},\"yaxis\":{\"backgroundcolor\":\"#E5ECF6\",\"gridcolor\":\"white\",\"linecolor\":\"white\",\"showbackground\":true,\"ticks\":\"\",\"zerolinecolor\":\"white\",\"gridwidth\":2},\"zaxis\":{\"backgroundcolor\":\"#E5ECF6\",\"gridcolor\":\"white\",\"linecolor\":\"white\",\"showbackground\":true,\"ticks\":\"\",\"zerolinecolor\":\"white\",\"gridwidth\":2}},\"shapedefaults\":{\"line\":{\"color\":\"#2a3f5f\"}},\"annotationdefaults\":{\"arrowcolor\":\"#2a3f5f\",\"arrowhead\":0,\"arrowwidth\":1},\"geo\":{\"bgcolor\":\"white\",\"landcolor\":\"#E5ECF6\",\"subunitcolor\":\"white\",\"showland\":true,\"showlakes\":true,\"lakecolor\":\"white\"},\"title\":{\"x\":0.05},\"mapbox\":{\"style\":\"light\"}}},\"xaxis\":{\"anchor\":\"y\",\"domain\":[0.0,1.0],\"title\":{\"text\":\"Date\"}},\"yaxis\":{\"anchor\":\"x\",\"domain\":[0.0,1.0],\"title\":{\"text\":\"Returns (%)\"}},\"legend\":{\"title\":{\"text\":\"Index\"},\"tracegroupgap\":0},\"title\":{\"text\":\"Portfolio Returns vs. NSE Nifty 50 Returns\"}},                        {\"responsive\": true}                    ).then(function(){\n",
       "                            \n",
       "var gd = document.getElementById('dfbe5f00-b64b-4a29-888b-f99b65bef3a6');\n",
       "var x = new MutationObserver(function (mutations, observer) {{\n",
       "        var display = window.getComputedStyle(gd).display;\n",
       "        if (!display || display === 'none') {{\n",
       "            console.log([gd, 'removed!']);\n",
       "            Plotly.purge(gd);\n",
       "            observer.disconnect();\n",
       "        }}\n",
       "}});\n",
       "\n",
       "// Listen for the removal of the full notebook cells\n",
       "var notebookContainer = gd.closest('#notebook-container');\n",
       "if (notebookContainer) {{\n",
       "    x.observe(notebookContainer, {childList: true});\n",
       "}}\n",
       "\n",
       "// Listen for the clearing of the current output cell\n",
       "var outputEl = gd.closest('.output');\n",
       "if (outputEl) {{\n",
       "    x.observe(outputEl, {childList: true});\n",
       "}}\n",
       "\n",
       "                        })                };                });            </script>        </div>"
      ]
     },
     "metadata": {},
     "output_type": "display_data"
    },
    {
     "data": {
      "application/vnd.plotly.v1+json": {
       "config": {
        "plotlyServerURL": "https://plot.ly"
       },
       "data": [
        {
         "hovertemplate": "Index=Portfolio Value<br>Date=%{x}<br>Value=%{y}<extra></extra>",
         "legendgroup": "Portfolio Value",
         "line": {
          "color": "#636efa",
          "dash": "solid"
         },
         "marker": {
          "symbol": "circle"
         },
         "mode": "lines",
         "name": "Portfolio Value",
         "orientation": "v",
         "showlegend": true,
         "type": "scatter",
         "x": [
          "2022-07-11T00:00:00",
          "2022-07-12T00:00:00",
          "2022-07-13T00:00:00",
          "2022-07-14T00:00:00",
          "2022-07-15T00:00:00",
          "2022-07-18T00:00:00",
          "2022-07-19T00:00:00",
          "2022-07-20T00:00:00",
          "2022-07-21T00:00:00",
          "2022-07-22T00:00:00",
          "2022-07-25T00:00:00",
          "2022-07-26T00:00:00",
          "2022-07-27T00:00:00",
          "2022-07-28T00:00:00",
          "2022-07-29T00:00:00",
          "2022-08-01T00:00:00",
          "2022-08-02T00:00:00",
          "2022-08-03T00:00:00",
          "2022-08-04T00:00:00",
          "2022-08-05T00:00:00",
          "2022-08-08T00:00:00",
          "2022-08-10T00:00:00",
          "2022-08-11T00:00:00",
          "2022-08-12T00:00:00",
          "2022-08-16T00:00:00",
          "2022-08-17T00:00:00",
          "2022-08-18T00:00:00",
          "2022-08-19T00:00:00",
          "2022-08-22T00:00:00",
          "2022-08-23T00:00:00",
          "2022-08-24T00:00:00",
          "2022-08-25T00:00:00",
          "2022-08-26T00:00:00",
          "2022-08-29T00:00:00",
          "2022-08-30T00:00:00",
          "2022-09-01T00:00:00",
          "2022-09-02T00:00:00",
          "2022-09-05T00:00:00",
          "2022-09-06T00:00:00",
          "2022-09-07T00:00:00",
          "2022-09-08T00:00:00",
          "2022-09-09T00:00:00",
          "2022-09-12T00:00:00",
          "2022-09-13T00:00:00",
          "2022-09-14T00:00:00",
          "2022-09-15T00:00:00",
          "2022-09-16T00:00:00",
          "2022-09-19T00:00:00",
          "2022-09-20T00:00:00",
          "2022-09-21T00:00:00",
          "2022-09-22T00:00:00",
          "2022-09-23T00:00:00",
          "2022-09-26T00:00:00",
          "2022-09-27T00:00:00",
          "2022-09-28T00:00:00",
          "2022-09-29T00:00:00",
          "2022-09-30T00:00:00",
          "2022-10-03T00:00:00",
          "2022-10-04T00:00:00",
          "2022-10-06T00:00:00",
          "2022-10-07T00:00:00",
          "2022-10-10T00:00:00",
          "2022-10-11T00:00:00",
          "2022-10-12T00:00:00",
          "2022-10-13T00:00:00",
          "2022-10-14T00:00:00",
          "2022-10-17T00:00:00",
          "2022-10-18T00:00:00",
          "2022-10-19T00:00:00",
          "2022-10-20T00:00:00",
          "2022-10-21T00:00:00",
          "2022-10-24T00:00:00",
          "2022-10-25T00:00:00",
          "2022-10-27T00:00:00",
          "2022-10-28T00:00:00",
          "2022-10-31T00:00:00",
          "2022-11-01T00:00:00",
          "2022-11-02T00:00:00",
          "2022-11-03T00:00:00",
          "2022-11-04T00:00:00",
          "2022-11-07T00:00:00",
          "2022-11-09T00:00:00",
          "2022-11-10T00:00:00",
          "2022-11-11T00:00:00",
          "2022-11-14T00:00:00",
          "2022-11-15T00:00:00",
          "2022-11-16T00:00:00",
          "2022-11-17T00:00:00",
          "2022-11-18T00:00:00",
          "2022-11-21T00:00:00",
          "2022-11-22T00:00:00",
          "2022-11-23T00:00:00",
          "2022-11-24T00:00:00",
          "2022-11-25T00:00:00",
          "2022-11-28T00:00:00",
          "2022-11-29T00:00:00",
          "2022-11-30T00:00:00",
          "2022-12-01T00:00:00",
          "2022-12-02T00:00:00",
          "2022-12-05T00:00:00",
          "2022-12-06T00:00:00",
          "2022-12-07T00:00:00",
          "2022-12-08T00:00:00",
          "2022-12-09T00:00:00",
          "2022-12-12T00:00:00",
          "2022-12-13T00:00:00",
          "2022-12-14T00:00:00",
          "2022-12-15T00:00:00",
          "2022-12-16T00:00:00",
          "2022-12-19T00:00:00",
          "2022-12-20T00:00:00",
          "2022-12-21T00:00:00",
          "2022-12-22T00:00:00",
          "2022-12-23T00:00:00",
          "2022-12-26T00:00:00",
          "2022-12-27T00:00:00",
          "2022-12-28T00:00:00",
          "2022-12-29T00:00:00",
          "2022-12-30T00:00:00",
          "2023-01-02T00:00:00",
          "2023-01-03T00:00:00",
          "2023-01-04T00:00:00",
          "2023-01-05T00:00:00",
          "2023-01-06T00:00:00",
          "2023-01-09T00:00:00",
          "2023-01-10T00:00:00",
          "2023-01-11T00:00:00",
          "2023-01-12T00:00:00",
          "2023-01-13T00:00:00",
          "2023-01-16T00:00:00",
          "2023-01-17T00:00:00",
          "2023-01-18T00:00:00",
          "2023-01-19T00:00:00",
          "2023-01-20T00:00:00",
          "2023-01-23T00:00:00",
          "2023-01-24T00:00:00",
          "2023-01-25T00:00:00",
          "2023-01-27T00:00:00",
          "2023-01-30T00:00:00",
          "2023-01-31T00:00:00",
          "2023-02-01T00:00:00",
          "2023-02-02T00:00:00",
          "2023-02-03T00:00:00",
          "2023-02-06T00:00:00",
          "2023-02-07T00:00:00",
          "2023-02-08T00:00:00",
          "2023-02-09T00:00:00",
          "2023-02-10T00:00:00",
          "2023-02-13T00:00:00",
          "2023-02-14T00:00:00",
          "2023-02-15T00:00:00",
          "2023-02-16T00:00:00",
          "2023-02-17T00:00:00",
          "2023-02-20T00:00:00",
          "2023-02-21T00:00:00",
          "2023-02-22T00:00:00",
          "2023-02-23T00:00:00",
          "2023-02-24T00:00:00",
          "2023-02-27T00:00:00",
          "2023-02-28T00:00:00",
          "2023-03-01T00:00:00",
          "2023-03-02T00:00:00",
          "2023-03-03T00:00:00",
          "2023-03-06T00:00:00",
          "2023-03-08T00:00:00",
          "2023-03-09T00:00:00",
          "2023-03-10T00:00:00",
          "2023-03-13T00:00:00",
          "2023-03-14T00:00:00",
          "2023-03-15T00:00:00",
          "2023-03-16T00:00:00",
          "2023-03-17T00:00:00",
          "2023-03-20T00:00:00",
          "2023-03-21T00:00:00",
          "2023-03-22T00:00:00",
          "2023-03-23T00:00:00",
          "2023-03-24T00:00:00",
          "2023-03-27T00:00:00",
          "2023-03-28T00:00:00",
          "2023-03-29T00:00:00",
          "2023-03-31T00:00:00",
          "2023-04-03T00:00:00",
          "2023-04-05T00:00:00",
          "2023-04-06T00:00:00",
          "2023-04-10T00:00:00",
          "2023-04-11T00:00:00",
          "2023-04-12T00:00:00",
          "2023-04-13T00:00:00",
          "2023-04-17T00:00:00",
          "2023-04-18T00:00:00",
          "2023-04-19T00:00:00",
          "2023-04-20T00:00:00",
          "2023-04-21T00:00:00",
          "2023-04-24T00:00:00",
          "2023-04-25T00:00:00",
          "2023-04-26T00:00:00",
          "2023-04-27T00:00:00",
          "2023-04-28T00:00:00",
          "2023-05-02T00:00:00",
          "2023-05-03T00:00:00",
          "2023-05-04T00:00:00",
          "2023-05-05T00:00:00",
          "2023-05-08T00:00:00",
          "2023-05-09T00:00:00",
          "2023-05-10T00:00:00",
          "2023-05-11T00:00:00",
          "2023-05-12T00:00:00",
          "2023-05-15T00:00:00",
          "2023-05-16T00:00:00",
          "2023-05-17T00:00:00",
          "2023-05-18T00:00:00",
          "2023-05-19T00:00:00",
          "2023-05-22T00:00:00",
          "2023-05-23T00:00:00",
          "2023-05-24T00:00:00",
          "2023-05-25T00:00:00",
          "2023-05-26T00:00:00",
          "2023-05-29T00:00:00",
          "2023-05-30T00:00:00",
          "2023-05-31T00:00:00",
          "2023-06-01T00:00:00",
          "2023-06-02T00:00:00",
          "2023-06-05T00:00:00",
          "2023-06-06T00:00:00",
          "2023-06-07T00:00:00",
          "2023-06-08T00:00:00",
          "2023-06-09T00:00:00",
          "2023-06-12T00:00:00",
          "2023-06-13T00:00:00",
          "2023-06-14T00:00:00",
          "2023-06-15T00:00:00",
          "2023-06-16T00:00:00",
          "2023-06-19T00:00:00",
          "2023-06-20T00:00:00",
          "2023-06-21T00:00:00",
          "2023-06-22T00:00:00",
          "2023-06-23T00:00:00",
          "2023-06-26T00:00:00",
          "2023-06-27T00:00:00",
          "2023-06-28T00:00:00",
          "2023-06-30T00:00:00",
          "2023-07-03T00:00:00",
          "2023-07-04T00:00:00",
          "2023-07-05T00:00:00",
          "2023-07-06T00:00:00",
          "2023-07-07T00:00:00",
          "2023-07-10T00:00:00",
          "2023-07-11T00:00:00",
          "2023-07-12T00:00:00",
          "2023-07-13T00:00:00",
          "2023-07-14T00:00:00",
          "2023-07-17T00:00:00",
          "2023-07-18T00:00:00",
          "2023-07-19T00:00:00",
          "2023-07-20T00:00:00",
          "2023-07-21T00:00:00",
          "2023-07-24T00:00:00",
          "2023-07-25T00:00:00",
          "2023-07-26T00:00:00",
          "2023-07-27T00:00:00",
          "2023-07-28T00:00:00",
          "2023-07-31T00:00:00",
          "2023-08-01T00:00:00",
          "2023-08-02T00:00:00",
          "2023-08-03T00:00:00",
          "2023-08-04T00:00:00",
          "2023-08-07T00:00:00",
          "2023-08-08T00:00:00"
         ],
         "xaxis": "x",
         "y": [
          91230.00798797607,
          90384.12982177734,
          90430.36612892151,
          90720.82116222382,
          91503.59707450867,
          92349.21718788147,
          92838.20336341858,
          93319.1473121643,
          94057.48087978363,
          94328.91686153412,
          93780.25813102722,
          92690.46219444275,
          93847.31608581543,
          95037.87913703918,
          95998.70857715607,
          97072.74091148376,
          97509.03796100616,
          97476.95650959015,
          97680.00806999207,
          97255.62142848969,
          97996.03074455261,
          98250.92646217346,
          98760.74025058746,
          98487.16556453705,
          100080.96191215515,
          100707.01279354095,
          100790.80841064453,
          99666.45541286469,
          97775.4540014267,
          98617.790184021,
          99012.65790557861,
          99024.23944664001,
          99374.61114788055,
          98964.1073961258,
          100189.40942382812,
          99600.28955554962,
          99435.8182964325,
          99687.43443965912,
          99848.32993125916,
          100027.54166221619,
          100511.3196811676,
          100712.2131099701,
          101674.2777557373,
          102257.62605571747,
          102048.06293392181,
          101982.28129959106,
          99897.65941047668,
          100423.76271247864,
          101897.69450378418,
          100882.32140731812,
          101518.25911140442,
          99857.4752073288,
          97362.18346977234,
          97327.11842060089,
          97236.27345657349,
          96864.36967849731,
          97727.1391582489,
          95726.00086212158,
          97889.12816810608,
          98091.30459403992,
          98042.63831043243,
          97518.68637657166,
          95859.83688354492,
          96503.45016384125,
          95949.83137512207,
          96046.87260246277,
          96699.28580188751,
          97658.89518928528,
          97411.7531785965,
          97971.468126297,
          97773.9651889801,
          98213.72183227539,
          98282.58783149719,
          99104.57040596008,
          99621.71833610535,
          100536.64886856079,
          101399.80821609497,
          100690.09949588776,
          100722.99920845032,
          101063.98858737946,
          101436.52168083191,
          101013.48313236237,
          100081.78099250793,
          100452.3796300888,
          100614.90545463562,
          101048.9857969284,
          100555.52124881744,
          99744.7885799408,
          99375.23999404907,
          99151.4194688797,
          99526.89865398407,
          99709.75699043274,
          100419.8203086853,
          100917.34632492065,
          101070.66051578522,
          101328.53196811676,
          102418.36819648743,
          102817.19616317749,
          102475.66563034058,
          102380.71854400635,
          102081.3309135437,
          101631.7684879303,
          101746.125207901,
          101201.02691936493,
          101363.46282100677,
          101522.99936580658,
          101921.41801738739,
          101089.06587028503,
          99864.5190525055,
          100958.21127128601,
          100488.33185577393,
          99609.01158714294,
          98777.03049850464,
          96233.99090576172,
          97469.667263031,
          98188.09084892273,
          98454.67018127441,
          98596.44190788269,
          98360.68700027466,
          98453.4780883789,
          98623.8345375061,
          97941.48488044739,
          98394.28657913208,
          97561.88919639587,
          98521.02906703949,
          97706.94130897522,
          97200.76823997498,
          97195.41820430756,
          97728.96862697601,
          97285.68099308014,
          97898.13614177704,
          98143.33253479004,
          97699.0391254425,
          96945.5369644165,
          97346.93368339539,
          97389.00965690613,
          96063.11631584167,
          93804.92281913757,
          93732.51075744629,
          94368.10894966125,
          92884.03506660461,
          92299.22156047821,
          92711.67208576202,
          92452.6890001297,
          92352.14566421509,
          93318.82022094727,
          93043.178981781,
          93021.4108877182,
          92364.71860408783,
          92280.29712677002,
          93035.93342018127,
          93298.1131362915,
          92725.8244009018,
          92148.68261146545,
          91694.30965518951,
          90472.07739162445,
          89999.61009216309,
          89820.32975959778,
          88957.39022350311,
          88961.2866821289,
          89918.90497398376,
          89488.0699300766,
          90579.14475631714,
          91015.20670700073,
          91319.75551319122,
          90414.44719696045,
          89935.39586353302,
          88737.36292648315,
          88001.13757514954,
          88093.32332992554,
          88460.2247800827,
          88795.67629051208,
          88118.57202625275,
          88254.14221668243,
          88506.87395858765,
          88312.33031272888,
          87463.20238685608,
          87509.84825229645,
          86980.83268928528,
          88048.61099147797,
          88816.93103599548,
          89359.67303657532,
          89537.93879127502,
          90025.33992958069,
          90639.87428665161,
          91193.12525558472,
          91975.61811161041,
          92284.59388828278,
          92351.4089384079,
          92539.32641410828,
          92237.37251472473,
          92066.74120235443,
          91842.9956150055,
          91990.82381057739,
          92264.085231781,
          92472.77461528778,
          92819.79977226257,
          93772.12733268738,
          94202.70103263855,
          94077.86862277985,
          94885.91094970703,
          94839.2733001709,
          95560.94258213043,
          95633.981341362,
          95766.87855911255,
          95764.83225345612,
          95851.45262336731,
          96224.21841335297,
          95818.73922634125,
          95429.82608890533,
          94566.32380104065,
          94619.53892326355,
          96015.22276496887,
          96608.83364486694,
          96519.9150648117,
          96875.76755905151,
          97786.9694032669,
          98181.64023780823,
          98197.05386543274,
          98231.86902999878,
          98757.1032371521,
          99356.30755805969,
          99548.43369865417,
          100047.88783836365,
          100985.0288438797,
          100137.11789512634,
          99672.1572189331,
          99920.09973430634,
          100587.29237174988,
          100731.58305549622,
          101068.23051643372,
          101702.03830337524,
          101296.78792190552,
          101899.71117973328,
          101998.36240386963,
          101255.36672401428,
          100431.42611694336,
          101156.64797115326,
          101613.9798707962,
          101613.9798707962,
          103730.00140571594,
          103709.97084236145,
          103766.44442749023,
          104876.42168807983,
          105359.13836860657,
          104388.78154945374,
          104042.85104751587,
          104889.4517917633,
          104882.74870681763,
          104489.56288337708,
          105473.5451927185,
          105967.66272735596,
          105641.10963058472,
          105909.15295028687,
          106453.31628417969,
          105833.90200614929,
          105807.48087692261,
          106109.38859176636,
          106558.69575691223,
          106463.64588737488,
          107060.97523117065,
          107411.1079044342,
          107029.76225280762,
          106004.20415496826,
          105548.35278511047,
          105863.39527702332,
          106410.18002700806,
          106473.27505111694
         ],
         "yaxis": "y"
        },
        {
         "hovertemplate": "Index=NSE Nifty 50 Value<br>Date=%{x}<br>Value=%{y}<extra></extra>",
         "legendgroup": "NSE Nifty 50 Value",
         "line": {
          "color": "#EF553B",
          "dash": "solid"
         },
         "marker": {
          "symbol": "circle"
         },
         "mode": "lines",
         "name": "NSE Nifty 50 Value",
         "orientation": "v",
         "showlegend": true,
         "type": "scatter",
         "x": [
          "2022-07-11T00:00:00",
          "2022-07-12T00:00:00",
          "2022-07-13T00:00:00",
          "2022-07-14T00:00:00",
          "2022-07-15T00:00:00",
          "2022-07-18T00:00:00",
          "2022-07-19T00:00:00",
          "2022-07-20T00:00:00",
          "2022-07-21T00:00:00",
          "2022-07-22T00:00:00",
          "2022-07-25T00:00:00",
          "2022-07-26T00:00:00",
          "2022-07-27T00:00:00",
          "2022-07-28T00:00:00",
          "2022-07-29T00:00:00",
          "2022-08-01T00:00:00",
          "2022-08-02T00:00:00",
          "2022-08-03T00:00:00",
          "2022-08-04T00:00:00",
          "2022-08-05T00:00:00",
          "2022-08-08T00:00:00",
          "2022-08-10T00:00:00",
          "2022-08-11T00:00:00",
          "2022-08-12T00:00:00",
          "2022-08-16T00:00:00",
          "2022-08-17T00:00:00",
          "2022-08-18T00:00:00",
          "2022-08-19T00:00:00",
          "2022-08-22T00:00:00",
          "2022-08-23T00:00:00",
          "2022-08-24T00:00:00",
          "2022-08-25T00:00:00",
          "2022-08-26T00:00:00",
          "2022-08-29T00:00:00",
          "2022-08-30T00:00:00",
          "2022-09-01T00:00:00",
          "2022-09-02T00:00:00",
          "2022-09-05T00:00:00",
          "2022-09-06T00:00:00",
          "2022-09-07T00:00:00",
          "2022-09-08T00:00:00",
          "2022-09-09T00:00:00",
          "2022-09-12T00:00:00",
          "2022-09-13T00:00:00",
          "2022-09-14T00:00:00",
          "2022-09-15T00:00:00",
          "2022-09-16T00:00:00",
          "2022-09-19T00:00:00",
          "2022-09-20T00:00:00",
          "2022-09-21T00:00:00",
          "2022-09-22T00:00:00",
          "2022-09-23T00:00:00",
          "2022-09-26T00:00:00",
          "2022-09-27T00:00:00",
          "2022-09-28T00:00:00",
          "2022-09-29T00:00:00",
          "2022-09-30T00:00:00",
          "2022-10-03T00:00:00",
          "2022-10-04T00:00:00",
          "2022-10-06T00:00:00",
          "2022-10-07T00:00:00",
          "2022-10-10T00:00:00",
          "2022-10-11T00:00:00",
          "2022-10-12T00:00:00",
          "2022-10-13T00:00:00",
          "2022-10-14T00:00:00",
          "2022-10-17T00:00:00",
          "2022-10-18T00:00:00",
          "2022-10-19T00:00:00",
          "2022-10-20T00:00:00",
          "2022-10-21T00:00:00",
          "2022-10-24T00:00:00",
          "2022-10-25T00:00:00",
          "2022-10-27T00:00:00",
          "2022-10-28T00:00:00",
          "2022-10-31T00:00:00",
          "2022-11-01T00:00:00",
          "2022-11-02T00:00:00",
          "2022-11-03T00:00:00",
          "2022-11-04T00:00:00",
          "2022-11-07T00:00:00",
          "2022-11-09T00:00:00",
          "2022-11-10T00:00:00",
          "2022-11-11T00:00:00",
          "2022-11-14T00:00:00",
          "2022-11-15T00:00:00",
          "2022-11-16T00:00:00",
          "2022-11-17T00:00:00",
          "2022-11-18T00:00:00",
          "2022-11-21T00:00:00",
          "2022-11-22T00:00:00",
          "2022-11-23T00:00:00",
          "2022-11-24T00:00:00",
          "2022-11-25T00:00:00",
          "2022-11-28T00:00:00",
          "2022-11-29T00:00:00",
          "2022-11-30T00:00:00",
          "2022-12-01T00:00:00",
          "2022-12-02T00:00:00",
          "2022-12-05T00:00:00",
          "2022-12-06T00:00:00",
          "2022-12-07T00:00:00",
          "2022-12-08T00:00:00",
          "2022-12-09T00:00:00",
          "2022-12-12T00:00:00",
          "2022-12-13T00:00:00",
          "2022-12-14T00:00:00",
          "2022-12-15T00:00:00",
          "2022-12-16T00:00:00",
          "2022-12-19T00:00:00",
          "2022-12-20T00:00:00",
          "2022-12-21T00:00:00",
          "2022-12-22T00:00:00",
          "2022-12-23T00:00:00",
          "2022-12-26T00:00:00",
          "2022-12-27T00:00:00",
          "2022-12-28T00:00:00",
          "2022-12-29T00:00:00",
          "2022-12-30T00:00:00",
          "2023-01-02T00:00:00",
          "2023-01-03T00:00:00",
          "2023-01-04T00:00:00",
          "2023-01-05T00:00:00",
          "2023-01-06T00:00:00",
          "2023-01-09T00:00:00",
          "2023-01-10T00:00:00",
          "2023-01-11T00:00:00",
          "2023-01-12T00:00:00",
          "2023-01-13T00:00:00",
          "2023-01-16T00:00:00",
          "2023-01-17T00:00:00",
          "2023-01-18T00:00:00",
          "2023-01-19T00:00:00",
          "2023-01-20T00:00:00",
          "2023-01-23T00:00:00",
          "2023-01-24T00:00:00",
          "2023-01-25T00:00:00",
          "2023-01-27T00:00:00",
          "2023-01-30T00:00:00",
          "2023-01-31T00:00:00",
          "2023-02-01T00:00:00",
          "2023-02-02T00:00:00",
          "2023-02-03T00:00:00",
          "2023-02-06T00:00:00",
          "2023-02-07T00:00:00",
          "2023-02-08T00:00:00",
          "2023-02-09T00:00:00",
          "2023-02-10T00:00:00",
          "2023-02-13T00:00:00",
          "2023-02-14T00:00:00",
          "2023-02-15T00:00:00",
          "2023-02-16T00:00:00",
          "2023-02-17T00:00:00",
          "2023-02-20T00:00:00",
          "2023-02-21T00:00:00",
          "2023-02-22T00:00:00",
          "2023-02-23T00:00:00",
          "2023-02-24T00:00:00",
          "2023-02-27T00:00:00",
          "2023-02-28T00:00:00",
          "2023-03-01T00:00:00",
          "2023-03-02T00:00:00",
          "2023-03-03T00:00:00",
          "2023-03-06T00:00:00",
          "2023-03-08T00:00:00",
          "2023-03-09T00:00:00",
          "2023-03-10T00:00:00",
          "2023-03-13T00:00:00",
          "2023-03-14T00:00:00",
          "2023-03-15T00:00:00",
          "2023-03-16T00:00:00",
          "2023-03-17T00:00:00",
          "2023-03-20T00:00:00",
          "2023-03-21T00:00:00",
          "2023-03-22T00:00:00",
          "2023-03-23T00:00:00",
          "2023-03-24T00:00:00",
          "2023-03-27T00:00:00",
          "2023-03-28T00:00:00",
          "2023-03-29T00:00:00",
          "2023-03-31T00:00:00",
          "2023-04-03T00:00:00",
          "2023-04-05T00:00:00",
          "2023-04-06T00:00:00",
          "2023-04-10T00:00:00",
          "2023-04-11T00:00:00",
          "2023-04-12T00:00:00",
          "2023-04-13T00:00:00",
          "2023-04-17T00:00:00",
          "2023-04-18T00:00:00",
          "2023-04-19T00:00:00",
          "2023-04-20T00:00:00",
          "2023-04-21T00:00:00",
          "2023-04-24T00:00:00",
          "2023-04-25T00:00:00",
          "2023-04-26T00:00:00",
          "2023-04-27T00:00:00",
          "2023-04-28T00:00:00",
          "2023-05-02T00:00:00",
          "2023-05-03T00:00:00",
          "2023-05-04T00:00:00",
          "2023-05-05T00:00:00",
          "2023-05-08T00:00:00",
          "2023-05-09T00:00:00",
          "2023-05-10T00:00:00",
          "2023-05-11T00:00:00",
          "2023-05-12T00:00:00",
          "2023-05-15T00:00:00",
          "2023-05-16T00:00:00",
          "2023-05-17T00:00:00",
          "2023-05-18T00:00:00",
          "2023-05-19T00:00:00",
          "2023-05-22T00:00:00",
          "2023-05-23T00:00:00",
          "2023-05-24T00:00:00",
          "2023-05-25T00:00:00",
          "2023-05-26T00:00:00",
          "2023-05-29T00:00:00",
          "2023-05-30T00:00:00",
          "2023-05-31T00:00:00",
          "2023-06-01T00:00:00",
          "2023-06-02T00:00:00",
          "2023-06-05T00:00:00",
          "2023-06-06T00:00:00",
          "2023-06-07T00:00:00",
          "2023-06-08T00:00:00",
          "2023-06-09T00:00:00",
          "2023-06-12T00:00:00",
          "2023-06-13T00:00:00",
          "2023-06-14T00:00:00",
          "2023-06-15T00:00:00",
          "2023-06-16T00:00:00",
          "2023-06-19T00:00:00",
          "2023-06-20T00:00:00",
          "2023-06-21T00:00:00",
          "2023-06-22T00:00:00",
          "2023-06-23T00:00:00",
          "2023-06-26T00:00:00",
          "2023-06-27T00:00:00",
          "2023-06-28T00:00:00",
          "2023-06-30T00:00:00",
          "2023-07-03T00:00:00",
          "2023-07-04T00:00:00",
          "2023-07-05T00:00:00",
          "2023-07-06T00:00:00",
          "2023-07-07T00:00:00",
          "2023-07-10T00:00:00",
          "2023-07-11T00:00:00",
          "2023-07-12T00:00:00",
          "2023-07-13T00:00:00",
          "2023-07-14T00:00:00",
          "2023-07-17T00:00:00",
          "2023-07-18T00:00:00",
          "2023-07-19T00:00:00",
          "2023-07-20T00:00:00",
          "2023-07-21T00:00:00",
          "2023-07-24T00:00:00",
          "2023-07-25T00:00:00",
          "2023-07-26T00:00:00",
          "2023-07-27T00:00:00",
          "2023-07-28T00:00:00",
          "2023-07-31T00:00:00",
          "2023-08-01T00:00:00",
          "2023-08-02T00:00:00",
          "2023-08-03T00:00:00",
          "2023-08-04T00:00:00",
          "2023-08-07T00:00:00",
          "2023-08-08T00:00:00"
         ],
         "xaxis": "x",
         "y": [
          16216,
          16058.2998046875,
          15966.650390625,
          15938.650390625,
          16049.2001953125,
          16278.5,
          16340.5498046875,
          16520.849609375,
          16605.25,
          16719.44921875,
          16631,
          16483.849609375,
          16641.80078125,
          16929.599609375,
          17158.25,
          17340.05078125,
          17345.44921875,
          17388.150390625,
          17382,
          17397.5,
          17525.099609375,
          17534.75,
          17659,
          17698.150390625,
          17825.25,
          17944.25,
          17956.5,
          17758.44921875,
          17490.69921875,
          17577.5,
          17604.94921875,
          17522.44921875,
          17558.900390625,
          17312.900390625,
          17759.30078125,
          17542.80078125,
          17539.44921875,
          17665.80078125,
          17655.599609375,
          17624.400390625,
          17798.75,
          17833.349609375,
          17936.349609375,
          18070.05078125,
          18003.75,
          17877.400390625,
          17530.849609375,
          17622.25,
          17816.25,
          17718.349609375,
          17629.80078125,
          17327.349609375,
          17016.30078125,
          17007.400390625,
          16858.599609375,
          16818.099609375,
          17094.349609375,
          16887.349609375,
          17274.30078125,
          17331.80078125,
          17314.650390625,
          17241,
          16983.55078125,
          17123.599609375,
          17014.349609375,
          17185.69921875,
          17311.80078125,
          17486.94921875,
          17512.25,
          17563.94921875,
          17576.30078125,
          17730.75,
          17656.349609375,
          17736.94921875,
          17786.80078125,
          18012.19921875,
          18145.400390625,
          18082.849609375,
          18052.69921875,
          18117.150390625,
          18202.80078125,
          18157,
          18028.19921875,
          18349.69921875,
          18329.150390625,
          18403.400390625,
          18409.650390625,
          18343.900390625,
          18307.650390625,
          18159.94921875,
          18244.19921875,
          18267.25,
          18484.099609375,
          18512.75,
          18562.75,
          18618.05078125,
          18758.349609375,
          18812.5,
          18696.099609375,
          18701.05078125,
          18642.75,
          18560.5,
          18609.349609375,
          18496.599609375,
          18497.150390625,
          18608,
          18660.30078125,
          18414.900390625,
          18269,
          18420.44921875,
          18385.30078125,
          18199.099609375,
          18127.349609375,
          17806.80078125,
          18014.599609375,
          18132.30078125,
          18122.5,
          18191,
          18105.30078125,
          18197.44921875,
          18232.55078125,
          18042.94921875,
          17992.150390625,
          17859.44921875,
          18101.19921875,
          17914.150390625,
          17895.69921875,
          17858.19921875,
          17956.599609375,
          17894.849609375,
          18053.30078125,
          18165.349609375,
          18107.849609375,
          18027.650390625,
          18118.55078125,
          18118.30078125,
          17891.94921875,
          17604.349609375,
          17648.94921875,
          17662.150390625,
          17616.30078125,
          17610.400390625,
          17854.05078125,
          17764.599609375,
          17721.5,
          17871.69921875,
          17893.44921875,
          17856.5,
          17770.900390625,
          17929.849609375,
          18015.849609375,
          18035.849609375,
          17944.19921875,
          17844.599609375,
          17826.69921875,
          17554.30078125,
          17511.25,
          17465.80078125,
          17392.69921875,
          17303.94921875,
          17450.900390625,
          17321.900390625,
          17594.349609375,
          17711.44921875,
          17754.400390625,
          17589.599609375,
          17412.900390625,
          17154.30078125,
          17043.30078125,
          16972.150390625,
          16985.599609375,
          17100.05078125,
          16988.400390625,
          17107.5,
          17151.900390625,
          17076.900390625,
          16945.05078125,
          16985.69921875,
          16951.69921875,
          17080.69921875,
          17359.75,
          17398.05078125,
          17557.05078125,
          17599.150390625,
          17624.05078125,
          17722.30078125,
          17812.400390625,
          17828,
          17706.849609375,
          17660.150390625,
          17618.75,
          17624.44921875,
          17624.05078125,
          17743.400390625,
          17769.25,
          17813.599609375,
          17915.05078125,
          18065,
          18147.650390625,
          18089.849609375,
          18255.80078125,
          18069,
          18264.400390625,
          18265.94921875,
          18315.099609375,
          18297,
          18314.80078125,
          18398.849609375,
          18286.5,
          18181.75,
          18129.94921875,
          18203.400390625,
          18314.400390625,
          18348,
          18285.400390625,
          18321.150390625,
          18499.349609375,
          18598.650390625,
          18633.849609375,
          18534.400390625,
          18487.75,
          18534.099609375,
          18593.849609375,
          18599,
          18726.400390625,
          18634.55078125,
          18563.400390625,
          18601.5,
          18716.150390625,
          18755.900390625,
          18688.099609375,
          18826,
          18755.44921875,
          18816.69921875,
          18856.849609375,
          18771.25,
          18665.5,
          18691.19921875,
          18817.400390625,
          18972.099609375,
          19189.05078125,
          19322.55078125,
          19389,
          19398.5,
          19497.30078125,
          19331.80078125,
          19355.900390625,
          19439.400390625,
          19384.30078125,
          19413.75,
          19564.5,
          19711.44921875,
          19749.25,
          19833.150390625,
          19979.150390625,
          19745,
          19672.349609375,
          19680.599609375,
          19778.30078125,
          19659.900390625,
          19646.05078125,
          19753.80078125,
          19733.55078125,
          19526.55078125,
          19381.650390625,
          19517,
          19597.30078125,
          19570.849609375
         ],
         "yaxis": "y"
        }
       ],
       "layout": {
        "autosize": true,
        "legend": {
         "title": {
          "text": "Index"
         },
         "tracegroupgap": 0
        },
        "template": {
         "data": {
          "bar": [
           {
            "error_x": {
             "color": "#2a3f5f"
            },
            "error_y": {
             "color": "#2a3f5f"
            },
            "marker": {
             "line": {
              "color": "#E5ECF6",
              "width": 0.5
             },
             "pattern": {
              "fillmode": "overlay",
              "size": 10,
              "solidity": 0.2
             }
            },
            "type": "bar"
           }
          ],
          "barpolar": [
           {
            "marker": {
             "line": {
              "color": "#E5ECF6",
              "width": 0.5
             },
             "pattern": {
              "fillmode": "overlay",
              "size": 10,
              "solidity": 0.2
             }
            },
            "type": "barpolar"
           }
          ],
          "carpet": [
           {
            "aaxis": {
             "endlinecolor": "#2a3f5f",
             "gridcolor": "white",
             "linecolor": "white",
             "minorgridcolor": "white",
             "startlinecolor": "#2a3f5f"
            },
            "baxis": {
             "endlinecolor": "#2a3f5f",
             "gridcolor": "white",
             "linecolor": "white",
             "minorgridcolor": "white",
             "startlinecolor": "#2a3f5f"
            },
            "type": "carpet"
           }
          ],
          "choropleth": [
           {
            "colorbar": {
             "outlinewidth": 0,
             "ticks": ""
            },
            "type": "choropleth"
           }
          ],
          "contour": [
           {
            "colorbar": {
             "outlinewidth": 0,
             "ticks": ""
            },
            "colorscale": [
             [
              0,
              "#0d0887"
             ],
             [
              0.1111111111111111,
              "#46039f"
             ],
             [
              0.2222222222222222,
              "#7201a8"
             ],
             [
              0.3333333333333333,
              "#9c179e"
             ],
             [
              0.4444444444444444,
              "#bd3786"
             ],
             [
              0.5555555555555556,
              "#d8576b"
             ],
             [
              0.6666666666666666,
              "#ed7953"
             ],
             [
              0.7777777777777778,
              "#fb9f3a"
             ],
             [
              0.8888888888888888,
              "#fdca26"
             ],
             [
              1,
              "#f0f921"
             ]
            ],
            "type": "contour"
           }
          ],
          "contourcarpet": [
           {
            "colorbar": {
             "outlinewidth": 0,
             "ticks": ""
            },
            "type": "contourcarpet"
           }
          ],
          "heatmap": [
           {
            "colorbar": {
             "outlinewidth": 0,
             "ticks": ""
            },
            "colorscale": [
             [
              0,
              "#0d0887"
             ],
             [
              0.1111111111111111,
              "#46039f"
             ],
             [
              0.2222222222222222,
              "#7201a8"
             ],
             [
              0.3333333333333333,
              "#9c179e"
             ],
             [
              0.4444444444444444,
              "#bd3786"
             ],
             [
              0.5555555555555556,
              "#d8576b"
             ],
             [
              0.6666666666666666,
              "#ed7953"
             ],
             [
              0.7777777777777778,
              "#fb9f3a"
             ],
             [
              0.8888888888888888,
              "#fdca26"
             ],
             [
              1,
              "#f0f921"
             ]
            ],
            "type": "heatmap"
           }
          ],
          "heatmapgl": [
           {
            "colorbar": {
             "outlinewidth": 0,
             "ticks": ""
            },
            "colorscale": [
             [
              0,
              "#0d0887"
             ],
             [
              0.1111111111111111,
              "#46039f"
             ],
             [
              0.2222222222222222,
              "#7201a8"
             ],
             [
              0.3333333333333333,
              "#9c179e"
             ],
             [
              0.4444444444444444,
              "#bd3786"
             ],
             [
              0.5555555555555556,
              "#d8576b"
             ],
             [
              0.6666666666666666,
              "#ed7953"
             ],
             [
              0.7777777777777778,
              "#fb9f3a"
             ],
             [
              0.8888888888888888,
              "#fdca26"
             ],
             [
              1,
              "#f0f921"
             ]
            ],
            "type": "heatmapgl"
           }
          ],
          "histogram": [
           {
            "marker": {
             "pattern": {
              "fillmode": "overlay",
              "size": 10,
              "solidity": 0.2
             }
            },
            "type": "histogram"
           }
          ],
          "histogram2d": [
           {
            "colorbar": {
             "outlinewidth": 0,
             "ticks": ""
            },
            "colorscale": [
             [
              0,
              "#0d0887"
             ],
             [
              0.1111111111111111,
              "#46039f"
             ],
             [
              0.2222222222222222,
              "#7201a8"
             ],
             [
              0.3333333333333333,
              "#9c179e"
             ],
             [
              0.4444444444444444,
              "#bd3786"
             ],
             [
              0.5555555555555556,
              "#d8576b"
             ],
             [
              0.6666666666666666,
              "#ed7953"
             ],
             [
              0.7777777777777778,
              "#fb9f3a"
             ],
             [
              0.8888888888888888,
              "#fdca26"
             ],
             [
              1,
              "#f0f921"
             ]
            ],
            "type": "histogram2d"
           }
          ],
          "histogram2dcontour": [
           {
            "colorbar": {
             "outlinewidth": 0,
             "ticks": ""
            },
            "colorscale": [
             [
              0,
              "#0d0887"
             ],
             [
              0.1111111111111111,
              "#46039f"
             ],
             [
              0.2222222222222222,
              "#7201a8"
             ],
             [
              0.3333333333333333,
              "#9c179e"
             ],
             [
              0.4444444444444444,
              "#bd3786"
             ],
             [
              0.5555555555555556,
              "#d8576b"
             ],
             [
              0.6666666666666666,
              "#ed7953"
             ],
             [
              0.7777777777777778,
              "#fb9f3a"
             ],
             [
              0.8888888888888888,
              "#fdca26"
             ],
             [
              1,
              "#f0f921"
             ]
            ],
            "type": "histogram2dcontour"
           }
          ],
          "mesh3d": [
           {
            "colorbar": {
             "outlinewidth": 0,
             "ticks": ""
            },
            "type": "mesh3d"
           }
          ],
          "parcoords": [
           {
            "line": {
             "colorbar": {
              "outlinewidth": 0,
              "ticks": ""
             }
            },
            "type": "parcoords"
           }
          ],
          "pie": [
           {
            "automargin": true,
            "type": "pie"
           }
          ],
          "scatter": [
           {
            "fillpattern": {
             "fillmode": "overlay",
             "size": 10,
             "solidity": 0.2
            },
            "type": "scatter"
           }
          ],
          "scatter3d": [
           {
            "line": {
             "colorbar": {
              "outlinewidth": 0,
              "ticks": ""
             }
            },
            "marker": {
             "colorbar": {
              "outlinewidth": 0,
              "ticks": ""
             }
            },
            "type": "scatter3d"
           }
          ],
          "scattercarpet": [
           {
            "marker": {
             "colorbar": {
              "outlinewidth": 0,
              "ticks": ""
             }
            },
            "type": "scattercarpet"
           }
          ],
          "scattergeo": [
           {
            "marker": {
             "colorbar": {
              "outlinewidth": 0,
              "ticks": ""
             }
            },
            "type": "scattergeo"
           }
          ],
          "scattergl": [
           {
            "marker": {
             "colorbar": {
              "outlinewidth": 0,
              "ticks": ""
             }
            },
            "type": "scattergl"
           }
          ],
          "scattermapbox": [
           {
            "marker": {
             "colorbar": {
              "outlinewidth": 0,
              "ticks": ""
             }
            },
            "type": "scattermapbox"
           }
          ],
          "scatterpolar": [
           {
            "marker": {
             "colorbar": {
              "outlinewidth": 0,
              "ticks": ""
             }
            },
            "type": "scatterpolar"
           }
          ],
          "scatterpolargl": [
           {
            "marker": {
             "colorbar": {
              "outlinewidth": 0,
              "ticks": ""
             }
            },
            "type": "scatterpolargl"
           }
          ],
          "scatterternary": [
           {
            "marker": {
             "colorbar": {
              "outlinewidth": 0,
              "ticks": ""
             }
            },
            "type": "scatterternary"
           }
          ],
          "surface": [
           {
            "colorbar": {
             "outlinewidth": 0,
             "ticks": ""
            },
            "colorscale": [
             [
              0,
              "#0d0887"
             ],
             [
              0.1111111111111111,
              "#46039f"
             ],
             [
              0.2222222222222222,
              "#7201a8"
             ],
             [
              0.3333333333333333,
              "#9c179e"
             ],
             [
              0.4444444444444444,
              "#bd3786"
             ],
             [
              0.5555555555555556,
              "#d8576b"
             ],
             [
              0.6666666666666666,
              "#ed7953"
             ],
             [
              0.7777777777777778,
              "#fb9f3a"
             ],
             [
              0.8888888888888888,
              "#fdca26"
             ],
             [
              1,
              "#f0f921"
             ]
            ],
            "type": "surface"
           }
          ],
          "table": [
           {
            "cells": {
             "fill": {
              "color": "#EBF0F8"
             },
             "line": {
              "color": "white"
             }
            },
            "header": {
             "fill": {
              "color": "#C8D4E3"
             },
             "line": {
              "color": "white"
             }
            },
            "type": "table"
           }
          ]
         },
         "layout": {
          "annotationdefaults": {
           "arrowcolor": "#2a3f5f",
           "arrowhead": 0,
           "arrowwidth": 1
          },
          "autotypenumbers": "strict",
          "coloraxis": {
           "colorbar": {
            "outlinewidth": 0,
            "ticks": ""
           }
          },
          "colorscale": {
           "diverging": [
            [
             0,
             "#8e0152"
            ],
            [
             0.1,
             "#c51b7d"
            ],
            [
             0.2,
             "#de77ae"
            ],
            [
             0.3,
             "#f1b6da"
            ],
            [
             0.4,
             "#fde0ef"
            ],
            [
             0.5,
             "#f7f7f7"
            ],
            [
             0.6,
             "#e6f5d0"
            ],
            [
             0.7,
             "#b8e186"
            ],
            [
             0.8,
             "#7fbc41"
            ],
            [
             0.9,
             "#4d9221"
            ],
            [
             1,
             "#276419"
            ]
           ],
           "sequential": [
            [
             0,
             "#0d0887"
            ],
            [
             0.1111111111111111,
             "#46039f"
            ],
            [
             0.2222222222222222,
             "#7201a8"
            ],
            [
             0.3333333333333333,
             "#9c179e"
            ],
            [
             0.4444444444444444,
             "#bd3786"
            ],
            [
             0.5555555555555556,
             "#d8576b"
            ],
            [
             0.6666666666666666,
             "#ed7953"
            ],
            [
             0.7777777777777778,
             "#fb9f3a"
            ],
            [
             0.8888888888888888,
             "#fdca26"
            ],
            [
             1,
             "#f0f921"
            ]
           ],
           "sequentialminus": [
            [
             0,
             "#0d0887"
            ],
            [
             0.1111111111111111,
             "#46039f"
            ],
            [
             0.2222222222222222,
             "#7201a8"
            ],
            [
             0.3333333333333333,
             "#9c179e"
            ],
            [
             0.4444444444444444,
             "#bd3786"
            ],
            [
             0.5555555555555556,
             "#d8576b"
            ],
            [
             0.6666666666666666,
             "#ed7953"
            ],
            [
             0.7777777777777778,
             "#fb9f3a"
            ],
            [
             0.8888888888888888,
             "#fdca26"
            ],
            [
             1,
             "#f0f921"
            ]
           ]
          },
          "colorway": [
           "#636efa",
           "#EF553B",
           "#00cc96",
           "#ab63fa",
           "#FFA15A",
           "#19d3f3",
           "#FF6692",
           "#B6E880",
           "#FF97FF",
           "#FECB52"
          ],
          "font": {
           "color": "#2a3f5f"
          },
          "geo": {
           "bgcolor": "white",
           "lakecolor": "white",
           "landcolor": "#E5ECF6",
           "showlakes": true,
           "showland": true,
           "subunitcolor": "white"
          },
          "hoverlabel": {
           "align": "left"
          },
          "hovermode": "closest",
          "mapbox": {
           "style": "light"
          },
          "paper_bgcolor": "white",
          "plot_bgcolor": "#E5ECF6",
          "polar": {
           "angularaxis": {
            "gridcolor": "white",
            "linecolor": "white",
            "ticks": ""
           },
           "bgcolor": "#E5ECF6",
           "radialaxis": {
            "gridcolor": "white",
            "linecolor": "white",
            "ticks": ""
           }
          },
          "scene": {
           "xaxis": {
            "backgroundcolor": "#E5ECF6",
            "gridcolor": "white",
            "gridwidth": 2,
            "linecolor": "white",
            "showbackground": true,
            "ticks": "",
            "zerolinecolor": "white"
           },
           "yaxis": {
            "backgroundcolor": "#E5ECF6",
            "gridcolor": "white",
            "gridwidth": 2,
            "linecolor": "white",
            "showbackground": true,
            "ticks": "",
            "zerolinecolor": "white"
           },
           "zaxis": {
            "backgroundcolor": "#E5ECF6",
            "gridcolor": "white",
            "gridwidth": 2,
            "linecolor": "white",
            "showbackground": true,
            "ticks": "",
            "zerolinecolor": "white"
           }
          },
          "shapedefaults": {
           "line": {
            "color": "#2a3f5f"
           }
          },
          "ternary": {
           "aaxis": {
            "gridcolor": "white",
            "linecolor": "white",
            "ticks": ""
           },
           "baxis": {
            "gridcolor": "white",
            "linecolor": "white",
            "ticks": ""
           },
           "bgcolor": "#E5ECF6",
           "caxis": {
            "gridcolor": "white",
            "linecolor": "white",
            "ticks": ""
           }
          },
          "title": {
           "x": 0.05
          },
          "xaxis": {
           "automargin": true,
           "gridcolor": "white",
           "linecolor": "white",
           "ticks": "",
           "title": {
            "standoff": 15
           },
           "zerolinecolor": "white",
           "zerolinewidth": 2
          },
          "yaxis": {
           "automargin": true,
           "gridcolor": "white",
           "linecolor": "white",
           "ticks": "",
           "title": {
            "standoff": 15
           },
           "zerolinecolor": "white",
           "zerolinewidth": 2
          }
         }
        },
        "title": {
         "text": "Portfolio Value vs. NSE Nifty 50 Value"
        },
        "xaxis": {
         "anchor": "y",
         "autorange": true,
         "domain": [
          0,
          1
         ],
         "range": [
          "2022-07-11",
          "2023-08-08"
         ],
         "title": {
          "text": "Date"
         },
         "type": "date"
        },
        "yaxis": {
         "anchor": "x",
         "autorange": true,
         "domain": [
          0,
          1
         ],
         "range": [
          10856.847195413378,
          112492.91109964583
         ],
         "title": {
          "text": "Value"
         },
         "type": "linear"
        }
       }
      },
      "image/png": "[encoded data removed]",
      "text/html": [
       "<div>                            <div id=\"0d68537a-4b47-495d-9d96-25584d14ca13\" class=\"plotly-graph-div\" style=\"height:525px; width:100%;\"></div>            <script type=\"text/javascript\">                require([\"plotly\"], function(Plotly) {                    window.PLOTLYENV=window.PLOTLYENV || {};                                    if (document.getElementById(\"0d68537a-4b47-495d-9d96-25584d14ca13\")) {                    Plotly.newPlot(                        \"0d68537a-4b47-495d-9d96-25584d14ca13\",                        [{\"hovertemplate\":\"Index=Portfolio Value<br>Date=%{x}<br>Value=%{y}<extra></extra>\",\"legendgroup\":\"Portfolio Value\",\"line\":{\"color\":\"#636efa\",\"dash\":\"solid\"},\"marker\":{\"symbol\":\"circle\"},\"mode\":\"lines\",\"name\":\"Portfolio Value\",\"orientation\":\"v\",\"showlegend\":true,\"x\":[\"2022-07-11T00:00:00\",\"2022-07-12T00:00:00\",\"2022-07-13T00:00:00\",\"2022-07-14T00:00:00\",\"2022-07-15T00:00:00\",\"2022-07-18T00:00:00\",\"2022-07-19T00:00:00\",\"2022-07-20T00:00:00\",\"2022-07-21T00:00:00\",\"2022-07-22T00:00:00\",\"2022-07-25T00:00:00\",\"2022-07-26T00:00:00\",\"2022-07-27T00:00:00\",\"2022-07-28T00:00:00\",\"2022-07-29T00:00:00\",\"2022-08-01T00:00:00\",\"2022-08-02T00:00:00\",\"2022-08-03T00:00:00\",\"2022-08-04T00:00:00\",\"2022-08-05T00:00:00\",\"2022-08-08T00:00:00\",\"2022-08-10T00:00:00\",\"2022-08-11T00:00:00\",\"2022-08-12T00:00:00\",\"2022-08-16T00:00:00\",\"2022-08-17T00:00:00\",\"2022-08-18T00:00:00\",\"2022-08-19T00:00:00\",\"2022-08-22T00:00:00\",\"2022-08-23T00:00:00\",\"2022-08-24T00:00:00\",\"2022-08-25T00:00:00\",\"2022-08-26T00:00:00\",\"2022-08-29T00:00:00\",\"2022-08-30T00:00:00\",\"2022-09-01T00:00:00\",\"2022-09-02T00:00:00\",\"2022-09-05T00:00:00\",\"2022-09-06T00:00:00\",\"2022-09-07T00:00:00\",\"2022-09-08T00:00:00\",\"2022-09-09T00:00:00\",\"2022-09-12T00:00:00\",\"2022-09-13T00:00:00\",\"2022-09-14T00:00:00\",\"2022-09-15T00:00:00\",\"2022-09-16T00:00:00\",\"2022-09-19T00:00:00\",\"2022-09-20T00:00:00\",\"2022-09-21T00:00:00\",\"2022-09-22T00:00:00\",\"2022-09-23T00:00:00\",\"2022-09-26T00:00:00\",\"2022-09-27T00:00:00\",\"2022-09-28T00:00:00\",\"2022-09-29T00:00:00\",\"2022-09-30T00:00:00\",\"2022-10-03T00:00:00\",\"2022-10-04T00:00:00\",\"2022-10-06T00:00:00\",\"2022-10-07T00:00:00\",\"2022-10-10T00:00:00\",\"2022-10-11T00:00:00\",\"2022-10-12T00:00:00\",\"2022-10-13T00:00:00\",\"2022-10-14T00:00:00\",\"2022-10-17T00:00:00\",\"2022-10-18T00:00:00\",\"2022-10-19T00:00:00\",\"2022-10-20T00:00:00\",\"2022-10-21T00:00:00\",\"2022-10-24T00:00:00\",\"2022-10-25T00:00:00\",\"2022-10-27T00:00:00\",\"2022-10-28T00:00:00\",\"2022-10-31T00:00:00\",\"2022-11-01T00:00:00\",\"2022-11-02T00:00:00\",\"2022-11-03T00:00:00\",\"2022-11-04T00:00:00\",\"2022-11-07T00:00:00\",\"2022-11-09T00:00:00\",\"2022-11-10T00:00:00\",\"2022-11-11T00:00:00\",\"2022-11-14T00:00:00\",\"2022-11-15T00:00:00\",\"2022-11-16T00:00:00\",\"2022-11-17T00:00:00\",\"2022-11-18T00:00:00\",\"2022-11-21T00:00:00\",\"2022-11-22T00:00:00\",\"2022-11-23T00:00:00\",\"2022-11-24T00:00:00\",\"2022-11-25T00:00:00\",\"2022-11-28T00:00:00\",\"2022-11-29T00:00:00\",\"2022-11-30T00:00:00\",\"2022-12-01T00:00:00\",\"2022-12-02T00:00:00\",\"2022-12-05T00:00:00\",\"2022-12-06T00:00:00\",\"2022-12-07T00:00:00\",\"2022-12-08T00:00:00\",\"2022-12-09T00:00:00\",\"2022-12-12T00:00:00\",\"2022-12-13T00:00:00\",\"2022-12-14T00:00:00\",\"2022-12-15T00:00:00\",\"2022-12-16T00:00:00\",\"2022-12-19T00:00:00\",\"2022-12-20T00:00:00\",\"2022-12-21T00:00:00\",\"2022-12-22T00:00:00\",\"2022-12-23T00:00:00\",\"2022-12-26T00:00:00\",\"2022-12-27T00:00:00\",\"2022-12-28T00:00:00\",\"2022-12-29T00:00:00\",\"2022-12-30T00:00:00\",\"2023-01-02T00:00:00\",\"2023-01-03T00:00:00\",\"2023-01-04T00:00:00\",\"2023-01-05T00:00:00\",\"2023-01-06T00:00:00\",\"2023-01-09T00:00:00\",\"2023-01-10T00:00:00\",\"2023-01-11T00:00:00\",\"2023-01-12T00:00:00\",\"2023-01-13T00:00:00\",\"2023-01-16T00:00:00\",\"2023-01-17T00:00:00\",\"2023-01-18T00:00:00\",\"2023-01-19T00:00:00\",\"2023-01-20T00:00:00\",\"2023-01-23T00:00:00\",\"2023-01-24T00:00:00\",\"2023-01-25T00:00:00\",\"2023-01-27T00:00:00\",\"2023-01-30T00:00:00\",\"2023-01-31T00:00:00\",\"2023-02-01T00:00:00\",\"2023-02-02T00:00:00\",\"2023-02-03T00:00:00\",\"2023-02-06T00:00:00\",\"2023-02-07T00:00:00\",\"2023-02-08T00:00:00\",\"2023-02-09T00:00:00\",\"2023-02-10T00:00:00\",\"2023-02-13T00:00:00\",\"2023-02-14T00:00:00\",\"2023-02-15T00:00:00\",\"2023-02-16T00:00:00\",\"2023-02-17T00:00:00\",\"2023-02-20T00:00:00\",\"2023-02-21T00:00:00\",\"2023-02-22T00:00:00\",\"2023-02-23T00:00:00\",\"2023-02-24T00:00:00\",\"2023-02-27T00:00:00\",\"2023-02-28T00:00:00\",\"2023-03-01T00:00:00\",\"2023-03-02T00:00:00\",\"2023-03-03T00:00:00\",\"2023-03-06T00:00:00\",\"2023-03-08T00:00:00\",\"2023-03-09T00:00:00\",\"2023-03-10T00:00:00\",\"2023-03-13T00:00:00\",\"2023-03-14T00:00:00\",\"2023-03-15T00:00:00\",\"2023-03-16T00:00:00\",\"2023-03-17T00:00:00\",\"2023-03-20T00:00:00\",\"2023-03-21T00:00:00\",\"2023-03-22T00:00:00\",\"2023-03-23T00:00:00\",\"2023-03-24T00:00:00\",\"2023-03-27T00:00:00\",\"2023-03-28T00:00:00\",\"2023-03-29T00:00:00\",\"2023-03-31T00:00:00\",\"2023-04-03T00:00:00\",\"2023-04-05T00:00:00\",\"2023-04-06T00:00:00\",\"2023-04-10T00:00:00\",\"2023-04-11T00:00:00\",\"2023-04-12T00:00:00\",\"2023-04-13T00:00:00\",\"2023-04-17T00:00:00\",\"2023-04-18T00:00:00\",\"2023-04-19T00:00:00\",\"2023-04-20T00:00:00\",\"2023-04-21T00:00:00\",\"2023-04-24T00:00:00\",\"2023-04-25T00:00:00\",\"2023-04-26T00:00:00\",\"2023-04-27T00:00:00\",\"2023-04-28T00:00:00\",\"2023-05-02T00:00:00\",\"2023-05-03T00:00:00\",\"2023-05-04T00:00:00\",\"2023-05-05T00:00:00\",\"2023-05-08T00:00:00\",\"2023-05-09T00:00:00\",\"2023-05-10T00:00:00\",\"2023-05-11T00:00:00\",\"2023-05-12T00:00:00\",\"2023-05-15T00:00:00\",\"2023-05-16T00:00:00\",\"2023-05-17T00:00:00\",\"2023-05-18T00:00:00\",\"2023-05-19T00:00:00\",\"2023-05-22T00:00:00\",\"2023-05-23T00:00:00\",\"2023-05-24T00:00:00\",\"2023-05-25T00:00:00\",\"2023-05-26T00:00:00\",\"2023-05-29T00:00:00\",\"2023-05-30T00:00:00\",\"2023-05-31T00:00:00\",\"2023-06-01T00:00:00\",\"2023-06-02T00:00:00\",\"2023-06-05T00:00:00\",\"2023-06-06T00:00:00\",\"2023-06-07T00:00:00\",\"2023-06-08T00:00:00\",\"2023-06-09T00:00:00\",\"2023-06-12T00:00:00\",\"2023-06-13T00:00:00\",\"2023-06-14T00:00:00\",\"2023-06-15T00:00:00\",\"2023-06-16T00:00:00\",\"2023-06-19T00:00:00\",\"2023-06-20T00:00:00\",\"2023-06-21T00:00:00\",\"2023-06-22T00:00:00\",\"2023-06-23T00:00:00\",\"2023-06-26T00:00:00\",\"2023-06-27T00:00:00\",\"2023-06-28T00:00:00\",\"2023-06-30T00:00:00\",\"2023-07-03T00:00:00\",\"2023-07-04T00:00:00\",\"2023-07-05T00:00:00\",\"2023-07-06T00:00:00\",\"2023-07-07T00:00:00\",\"2023-07-10T00:00:00\",\"2023-07-11T00:00:00\",\"2023-07-12T00:00:00\",\"2023-07-13T00:00:00\",\"2023-07-14T00:00:00\",\"2023-07-17T00:00:00\",\"2023-07-18T00:00:00\",\"2023-07-19T00:00:00\",\"2023-07-20T00:00:00\",\"2023-07-21T00:00:00\",\"2023-07-24T00:00:00\",\"2023-07-25T00:00:00\",\"2023-07-26T00:00:00\",\"2023-07-27T00:00:00\",\"2023-07-28T00:00:00\",\"2023-07-31T00:00:00\",\"2023-08-01T00:00:00\",\"2023-08-02T00:00:00\",\"2023-08-03T00:00:00\",\"2023-08-04T00:00:00\",\"2023-08-07T00:00:00\",\"2023-08-08T00:00:00\"],\"xaxis\":\"x\",\"y\":[91230.00798797607,90384.12982177734,90430.36612892151,90720.82116222382,91503.59707450867,92349.21718788147,92838.20336341858,93319.1473121643,94057.48087978363,94328.91686153412,93780.25813102722,92690.46219444275,93847.31608581543,95037.87913703918,95998.70857715607,97072.74091148376,97509.03796100616,97476.95650959015,97680.00806999207,97255.62142848969,97996.03074455261,98250.92646217346,98760.74025058746,98487.16556453705,100080.96191215515,100707.01279354095,100790.80841064453,99666.45541286469,97775.4540014267,98617.790184021,99012.65790557861,99024.23944664001,99374.61114788055,98964.1073961258,100189.40942382812,99600.28955554962,99435.8182964325,99687.43443965912,99848.32993125916,100027.54166221619,100511.3196811676,100712.2131099701,101674.2777557373,102257.62605571747,102048.06293392181,101982.28129959106,99897.65941047668,100423.76271247864,101897.69450378418,100882.32140731812,101518.25911140442,99857.4752073288,97362.18346977234,97327.11842060089,97236.27345657349,96864.36967849731,97727.1391582489,95726.00086212158,97889.12816810608,98091.30459403992,98042.63831043243,97518.68637657166,95859.83688354492,96503.45016384125,95949.83137512207,96046.87260246277,96699.28580188751,97658.89518928528,97411.7531785965,97971.468126297,97773.9651889801,98213.72183227539,98282.58783149719,99104.57040596008,99621.71833610535,100536.64886856079,101399.80821609497,100690.09949588776,100722.99920845032,101063.98858737946,101436.52168083191,101013.48313236237,100081.78099250793,100452.3796300888,100614.90545463562,101048.9857969284,100555.52124881744,99744.7885799408,99375.23999404907,99151.4194688797,99526.89865398407,99709.75699043274,100419.8203086853,100917.34632492065,101070.66051578522,101328.53196811676,102418.36819648743,102817.19616317749,102475.66563034058,102380.71854400635,102081.3309135437,101631.7684879303,101746.125207901,101201.02691936493,101363.46282100677,101522.99936580658,101921.41801738739,101089.06587028503,99864.5190525055,100958.21127128601,100488.33185577393,99609.01158714294,98777.03049850464,96233.99090576172,97469.667263031,98188.09084892273,98454.67018127441,98596.44190788269,98360.68700027466,98453.4780883789,98623.8345375061,97941.48488044739,98394.28657913208,97561.88919639587,98521.02906703949,97706.94130897522,97200.76823997498,97195.41820430756,97728.96862697601,97285.68099308014,97898.13614177704,98143.33253479004,97699.0391254425,96945.5369644165,97346.93368339539,97389.00965690613,96063.11631584167,93804.92281913757,93732.51075744629,94368.10894966125,92884.03506660461,92299.22156047821,92711.67208576202,92452.6890001297,92352.14566421509,93318.82022094727,93043.178981781,93021.4108877182,92364.71860408783,92280.29712677002,93035.93342018127,93298.1131362915,92725.8244009018,92148.68261146545,91694.30965518951,90472.07739162445,89999.61009216309,89820.32975959778,88957.39022350311,88961.2866821289,89918.90497398376,89488.0699300766,90579.14475631714,91015.20670700073,91319.75551319122,90414.44719696045,89935.39586353302,88737.36292648315,88001.13757514954,88093.32332992554,88460.2247800827,88795.67629051208,88118.57202625275,88254.14221668243,88506.87395858765,88312.33031272888,87463.20238685608,87509.84825229645,86980.83268928528,88048.61099147797,88816.93103599548,89359.67303657532,89537.93879127502,90025.33992958069,90639.87428665161,91193.12525558472,91975.61811161041,92284.59388828278,92351.4089384079,92539.32641410828,92237.37251472473,92066.74120235443,91842.9956150055,91990.82381057739,92264.085231781,92472.77461528778,92819.79977226257,93772.12733268738,94202.70103263855,94077.86862277985,94885.91094970703,94839.2733001709,95560.94258213043,95633.981341362,95766.87855911255,95764.83225345612,95851.45262336731,96224.21841335297,95818.73922634125,95429.82608890533,94566.32380104065,94619.53892326355,96015.22276496887,96608.83364486694,96519.9150648117,96875.76755905151,97786.9694032669,98181.64023780823,98197.05386543274,98231.86902999878,98757.1032371521,99356.30755805969,99548.43369865417,100047.88783836365,100985.0288438797,100137.11789512634,99672.1572189331,99920.09973430634,100587.29237174988,100731.58305549622,101068.23051643372,101702.03830337524,101296.78792190552,101899.71117973328,101998.36240386963,101255.36672401428,100431.42611694336,101156.64797115326,101613.9798707962,101613.9798707962,103730.00140571594,103709.97084236145,103766.44442749023,104876.42168807983,105359.13836860657,104388.78154945374,104042.85104751587,104889.4517917633,104882.74870681763,104489.56288337708,105473.5451927185,105967.66272735596,105641.10963058472,105909.15295028687,106453.31628417969,105833.90200614929,105807.48087692261,106109.38859176636,106558.69575691223,106463.64588737488,107060.97523117065,107411.1079044342,107029.76225280762,106004.20415496826,105548.35278511047,105863.39527702332,106410.18002700806,106473.27505111694],\"yaxis\":\"y\",\"type\":\"scatter\"},{\"hovertemplate\":\"Index=NSE Nifty 50 Value<br>Date=%{x}<br>Value=%{y}<extra></extra>\",\"legendgroup\":\"NSE Nifty 50 Value\",\"line\":{\"color\":\"#EF553B\",\"dash\":\"solid\"},\"marker\":{\"symbol\":\"circle\"},\"mode\":\"lines\",\"name\":\"NSE Nifty 50 Value\",\"orientation\":\"v\",\"showlegend\":true,\"x\":[\"2022-07-11T00:00:00\",\"2022-07-12T00:00:00\",\"2022-07-13T00:00:00\",\"2022-07-14T00:00:00\",\"2022-07-15T00:00:00\",\"2022-07-18T00:00:00\",\"2022-07-19T00:00:00\",\"2022-07-20T00:00:00\",\"2022-07-21T00:00:00\",\"2022-07-22T00:00:00\",\"2022-07-25T00:00:00\",\"2022-07-26T00:00:00\",\"2022-07-27T00:00:00\",\"2022-07-28T00:00:00\",\"2022-07-29T00:00:00\",\"2022-08-01T00:00:00\",\"2022-08-02T00:00:00\",\"2022-08-03T00:00:00\",\"2022-08-04T00:00:00\",\"2022-08-05T00:00:00\",\"2022-08-08T00:00:00\",\"2022-08-10T00:00:00\",\"2022-08-11T00:00:00\",\"2022-08-12T00:00:00\",\"2022-08-16T00:00:00\",\"2022-08-17T00:00:00\",\"2022-08-18T00:00:00\",\"2022-08-19T00:00:00\",\"2022-08-22T00:00:00\",\"2022-08-23T00:00:00\",\"2022-08-24T00:00:00\",\"2022-08-25T00:00:00\",\"2022-08-26T00:00:00\",\"2022-08-29T00:00:00\",\"2022-08-30T00:00:00\",\"2022-09-01T00:00:00\",\"2022-09-02T00:00:00\",\"2022-09-05T00:00:00\",\"2022-09-06T00:00:00\",\"2022-09-07T00:00:00\",\"2022-09-08T00:00:00\",\"2022-09-09T00:00:00\",\"2022-09-12T00:00:00\",\"2022-09-13T00:00:00\",\"2022-09-14T00:00:00\",\"2022-09-15T00:00:00\",\"2022-09-16T00:00:00\",\"2022-09-19T00:00:00\",\"2022-09-20T00:00:00\",\"2022-09-21T00:00:00\",\"2022-09-22T00:00:00\",\"2022-09-23T00:00:00\",\"2022-09-26T00:00:00\",\"2022-09-27T00:00:00\",\"2022-09-28T00:00:00\",\"2022-09-29T00:00:00\",\"2022-09-30T00:00:00\",\"2022-10-03T00:00:00\",\"2022-10-04T00:00:00\",\"2022-10-06T00:00:00\",\"2022-10-07T00:00:00\",\"2022-10-10T00:00:00\",\"2022-10-11T00:00:00\",\"2022-10-12T00:00:00\",\"2022-10-13T00:00:00\",\"2022-10-14T00:00:00\",\"2022-10-17T00:00:00\",\"2022-10-18T00:00:00\",\"2022-10-19T00:00:00\",\"2022-10-20T00:00:00\",\"2022-10-21T00:00:00\",\"2022-10-24T00:00:00\",\"2022-10-25T00:00:00\",\"2022-10-27T00:00:00\",\"2022-10-28T00:00:00\",\"2022-10-31T00:00:00\",\"2022-11-01T00:00:00\",\"2022-11-02T00:00:00\",\"2022-11-03T00:00:00\",\"2022-11-04T00:00:00\",\"2022-11-07T00:00:00\",\"2022-11-09T00:00:00\",\"2022-11-10T00:00:00\",\"2022-11-11T00:00:00\",\"2022-11-14T00:00:00\",\"2022-11-15T00:00:00\",\"2022-11-16T00:00:00\",\"2022-11-17T00:00:00\",\"2022-11-18T00:00:00\",\"2022-11-21T00:00:00\",\"2022-11-22T00:00:00\",\"2022-11-23T00:00:00\",\"2022-11-24T00:00:00\",\"2022-11-25T00:00:00\",\"2022-11-28T00:00:00\",\"2022-11-29T00:00:00\",\"2022-11-30T00:00:00\",\"2022-12-01T00:00:00\",\"2022-12-02T00:00:00\",\"2022-12-05T00:00:00\",\"2022-12-06T00:00:00\",\"2022-12-07T00:00:00\",\"2022-12-08T00:00:00\",\"2022-12-09T00:00:00\",\"2022-12-12T00:00:00\",\"2022-12-13T00:00:00\",\"2022-12-14T00:00:00\",\"2022-12-15T00:00:00\",\"2022-12-16T00:00:00\",\"2022-12-19T00:00:00\",\"2022-12-20T00:00:00\",\"2022-12-21T00:00:00\",\"2022-12-22T00:00:00\",\"2022-12-23T00:00:00\",\"2022-12-26T00:00:00\",\"2022-12-27T00:00:00\",\"2022-12-28T00:00:00\",\"2022-12-29T00:00:00\",\"2022-12-30T00:00:00\",\"2023-01-02T00:00:00\",\"2023-01-03T00:00:00\",\"2023-01-04T00:00:00\",\"2023-01-05T00:00:00\",\"2023-01-06T00:00:00\",\"2023-01-09T00:00:00\",\"2023-01-10T00:00:00\",\"2023-01-11T00:00:00\",\"2023-01-12T00:00:00\",\"2023-01-13T00:00:00\",\"2023-01-16T00:00:00\",\"2023-01-17T00:00:00\",\"2023-01-18T00:00:00\",\"2023-01-19T00:00:00\",\"2023-01-20T00:00:00\",\"2023-01-23T00:00:00\",\"2023-01-24T00:00:00\",\"2023-01-25T00:00:00\",\"2023-01-27T00:00:00\",\"2023-01-30T00:00:00\",\"2023-01-31T00:00:00\",\"2023-02-01T00:00:00\",\"2023-02-02T00:00:00\",\"2023-02-03T00:00:00\",\"2023-02-06T00:00:00\",\"2023-02-07T00:00:00\",\"2023-02-08T00:00:00\",\"2023-02-09T00:00:00\",\"2023-02-10T00:00:00\",\"2023-02-13T00:00:00\",\"2023-02-14T00:00:00\",\"2023-02-15T00:00:00\",\"2023-02-16T00:00:00\",\"2023-02-17T00:00:00\",\"2023-02-20T00:00:00\",\"2023-02-21T00:00:00\",\"2023-02-22T00:00:00\",\"2023-02-23T00:00:00\",\"2023-02-24T00:00:00\",\"2023-02-27T00:00:00\",\"2023-02-28T00:00:00\",\"2023-03-01T00:00:00\",\"2023-03-02T00:00:00\",\"2023-03-03T00:00:00\",\"2023-03-06T00:00:00\",\"2023-03-08T00:00:00\",\"2023-03-09T00:00:00\",\"2023-03-10T00:00:00\",\"2023-03-13T00:00:00\",\"2023-03-14T00:00:00\",\"2023-03-15T00:00:00\",\"2023-03-16T00:00:00\",\"2023-03-17T00:00:00\",\"2023-03-20T00:00:00\",\"2023-03-21T00:00:00\",\"2023-03-22T00:00:00\",\"2023-03-23T00:00:00\",\"2023-03-24T00:00:00\",\"2023-03-27T00:00:00\",\"2023-03-28T00:00:00\",\"2023-03-29T00:00:00\",\"2023-03-31T00:00:00\",\"2023-04-03T00:00:00\",\"2023-04-05T00:00:00\",\"2023-04-06T00:00:00\",\"2023-04-10T00:00:00\",\"2023-04-11T00:00:00\",\"2023-04-12T00:00:00\",\"2023-04-13T00:00:00\",\"2023-04-17T00:00:00\",\"2023-04-18T00:00:00\",\"2023-04-19T00:00:00\",\"2023-04-20T00:00:00\",\"2023-04-21T00:00:00\",\"2023-04-24T00:00:00\",\"2023-04-25T00:00:00\",\"2023-04-26T00:00:00\",\"2023-04-27T00:00:00\",\"2023-04-28T00:00:00\",\"2023-05-02T00:00:00\",\"2023-05-03T00:00:00\",\"2023-05-04T00:00:00\",\"2023-05-05T00:00:00\",\"2023-05-08T00:00:00\",\"2023-05-09T00:00:00\",\"2023-05-10T00:00:00\",\"2023-05-11T00:00:00\",\"2023-05-12T00:00:00\",\"2023-05-15T00:00:00\",\"2023-05-16T00:00:00\",\"2023-05-17T00:00:00\",\"2023-05-18T00:00:00\",\"2023-05-19T00:00:00\",\"2023-05-22T00:00:00\",\"2023-05-23T00:00:00\",\"2023-05-24T00:00:00\",\"2023-05-25T00:00:00\",\"2023-05-26T00:00:00\",\"2023-05-29T00:00:00\",\"2023-05-30T00:00:00\",\"2023-05-31T00:00:00\",\"2023-06-01T00:00:00\",\"2023-06-02T00:00:00\",\"2023-06-05T00:00:00\",\"2023-06-06T00:00:00\",\"2023-06-07T00:00:00\",\"2023-06-08T00:00:00\",\"2023-06-09T00:00:00\",\"2023-06-12T00:00:00\",\"2023-06-13T00:00:00\",\"2023-06-14T00:00:00\",\"2023-06-15T00:00:00\",\"2023-06-16T00:00:00\",\"2023-06-19T00:00:00\",\"2023-06-20T00:00:00\",\"2023-06-21T00:00:00\",\"2023-06-22T00:00:00\",\"2023-06-23T00:00:00\",\"2023-06-26T00:00:00\",\"2023-06-27T00:00:00\",\"2023-06-28T00:00:00\",\"2023-06-30T00:00:00\",\"2023-07-03T00:00:00\",\"2023-07-04T00:00:00\",\"2023-07-05T00:00:00\",\"2023-07-06T00:00:00\",\"2023-07-07T00:00:00\",\"2023-07-10T00:00:00\",\"2023-07-11T00:00:00\",\"2023-07-12T00:00:00\",\"2023-07-13T00:00:00\",\"2023-07-14T00:00:00\",\"2023-07-17T00:00:00\",\"2023-07-18T00:00:00\",\"2023-07-19T00:00:00\",\"2023-07-20T00:00:00\",\"2023-07-21T00:00:00\",\"2023-07-24T00:00:00\",\"2023-07-25T00:00:00\",\"2023-07-26T00:00:00\",\"2023-07-27T00:00:00\",\"2023-07-28T00:00:00\",\"2023-07-31T00:00:00\",\"2023-08-01T00:00:00\",\"2023-08-02T00:00:00\",\"2023-08-03T00:00:00\",\"2023-08-04T00:00:00\",\"2023-08-07T00:00:00\",\"2023-08-08T00:00:00\"],\"xaxis\":\"x\",\"y\":[16216.0,16058.2998046875,15966.650390625,15938.650390625,16049.2001953125,16278.5,16340.5498046875,16520.849609375,16605.25,16719.44921875,16631.0,16483.849609375,16641.80078125,16929.599609375,17158.25,17340.05078125,17345.44921875,17388.150390625,17382.0,17397.5,17525.099609375,17534.75,17659.0,17698.150390625,17825.25,17944.25,17956.5,17758.44921875,17490.69921875,17577.5,17604.94921875,17522.44921875,17558.900390625,17312.900390625,17759.30078125,17542.80078125,17539.44921875,17665.80078125,17655.599609375,17624.400390625,17798.75,17833.349609375,17936.349609375,18070.05078125,18003.75,17877.400390625,17530.849609375,17622.25,17816.25,17718.349609375,17629.80078125,17327.349609375,17016.30078125,17007.400390625,16858.599609375,16818.099609375,17094.349609375,16887.349609375,17274.30078125,17331.80078125,17314.650390625,17241.0,16983.55078125,17123.599609375,17014.349609375,17185.69921875,17311.80078125,17486.94921875,17512.25,17563.94921875,17576.30078125,17730.75,17656.349609375,17736.94921875,17786.80078125,18012.19921875,18145.400390625,18082.849609375,18052.69921875,18117.150390625,18202.80078125,18157.0,18028.19921875,18349.69921875,18329.150390625,18403.400390625,18409.650390625,18343.900390625,18307.650390625,18159.94921875,18244.19921875,18267.25,18484.099609375,18512.75,18562.75,18618.05078125,18758.349609375,18812.5,18696.099609375,18701.05078125,18642.75,18560.5,18609.349609375,18496.599609375,18497.150390625,18608.0,18660.30078125,18414.900390625,18269.0,18420.44921875,18385.30078125,18199.099609375,18127.349609375,17806.80078125,18014.599609375,18132.30078125,18122.5,18191.0,18105.30078125,18197.44921875,18232.55078125,18042.94921875,17992.150390625,17859.44921875,18101.19921875,17914.150390625,17895.69921875,17858.19921875,17956.599609375,17894.849609375,18053.30078125,18165.349609375,18107.849609375,18027.650390625,18118.55078125,18118.30078125,17891.94921875,17604.349609375,17648.94921875,17662.150390625,17616.30078125,17610.400390625,17854.05078125,17764.599609375,17721.5,17871.69921875,17893.44921875,17856.5,17770.900390625,17929.849609375,18015.849609375,18035.849609375,17944.19921875,17844.599609375,17826.69921875,17554.30078125,17511.25,17465.80078125,17392.69921875,17303.94921875,17450.900390625,17321.900390625,17594.349609375,17711.44921875,17754.400390625,17589.599609375,17412.900390625,17154.30078125,17043.30078125,16972.150390625,16985.599609375,17100.05078125,16988.400390625,17107.5,17151.900390625,17076.900390625,16945.05078125,16985.69921875,16951.69921875,17080.69921875,17359.75,17398.05078125,17557.05078125,17599.150390625,17624.05078125,17722.30078125,17812.400390625,17828.0,17706.849609375,17660.150390625,17618.75,17624.44921875,17624.05078125,17743.400390625,17769.25,17813.599609375,17915.05078125,18065.0,18147.650390625,18089.849609375,18255.80078125,18069.0,18264.400390625,18265.94921875,18315.099609375,18297.0,18314.80078125,18398.849609375,18286.5,18181.75,18129.94921875,18203.400390625,18314.400390625,18348.0,18285.400390625,18321.150390625,18499.349609375,18598.650390625,18633.849609375,18534.400390625,18487.75,18534.099609375,18593.849609375,18599.0,18726.400390625,18634.55078125,18563.400390625,18601.5,18716.150390625,18755.900390625,18688.099609375,18826.0,18755.44921875,18816.69921875,18856.849609375,18771.25,18665.5,18691.19921875,18817.400390625,18972.099609375,19189.05078125,19322.55078125,19389.0,19398.5,19497.30078125,19331.80078125,19355.900390625,19439.400390625,19384.30078125,19413.75,19564.5,19711.44921875,19749.25,19833.150390625,19979.150390625,19745.0,19672.349609375,19680.599609375,19778.30078125,19659.900390625,19646.05078125,19753.80078125,19733.55078125,19526.55078125,19381.650390625,19517.0,19597.30078125,19570.849609375],\"yaxis\":\"y\",\"type\":\"scatter\"}],                        {\"template\":{\"data\":{\"histogram2dcontour\":[{\"type\":\"histogram2dcontour\",\"colorbar\":{\"outlinewidth\":0,\"ticks\":\"\"},\"colorscale\":[[0.0,\"#0d0887\"],[0.1111111111111111,\"#46039f\"],[0.2222222222222222,\"#7201a8\"],[0.3333333333333333,\"#9c179e\"],[0.4444444444444444,\"#bd3786\"],[0.5555555555555556,\"#d8576b\"],[0.6666666666666666,\"#ed7953\"],[0.7777777777777778,\"#fb9f3a\"],[0.8888888888888888,\"#fdca26\"],[1.0,\"#f0f921\"]]}],\"choropleth\":[{\"type\":\"choropleth\",\"colorbar\":{\"outlinewidth\":0,\"ticks\":\"\"}}],\"histogram2d\":[{\"type\":\"histogram2d\",\"colorbar\":{\"outlinewidth\":0,\"ticks\":\"\"},\"colorscale\":[[0.0,\"#0d0887\"],[0.1111111111111111,\"#46039f\"],[0.2222222222222222,\"#7201a8\"],[0.3333333333333333,\"#9c179e\"],[0.4444444444444444,\"#bd3786\"],[0.5555555555555556,\"#d8576b\"],[0.6666666666666666,\"#ed7953\"],[0.7777777777777778,\"#fb9f3a\"],[0.8888888888888888,\"#fdca26\"],[1.0,\"#f0f921\"]]}],\"heatmap\":[{\"type\":\"heatmap\",\"colorbar\":{\"outlinewidth\":0,\"ticks\":\"\"},\"colorscale\":[[0.0,\"#0d0887\"],[0.1111111111111111,\"#46039f\"],[0.2222222222222222,\"#7201a8\"],[0.3333333333333333,\"#9c179e\"],[0.4444444444444444,\"#bd3786\"],[0.5555555555555556,\"#d8576b\"],[0.6666666666666666,\"#ed7953\"],[0.7777777777777778,\"#fb9f3a\"],[0.8888888888888888,\"#fdca26\"],[1.0,\"#f0f921\"]]}],\"heatmapgl\":[{\"type\":\"heatmapgl\",\"colorbar\":{\"outlinewidth\":0,\"ticks\":\"\"},\"colorscale\":[[0.0,\"#0d0887\"],[0.1111111111111111,\"#46039f\"],[0.2222222222222222,\"#7201a8\"],[0.3333333333333333,\"#9c179e\"],[0.4444444444444444,\"#bd3786\"],[0.5555555555555556,\"#d8576b\"],[0.6666666666666666,\"#ed7953\"],[0.7777777777777778,\"#fb9f3a\"],[0.8888888888888888,\"#fdca26\"],[1.0,\"#f0f921\"]]}],\"contourcarpet\":[{\"type\":\"contourcarpet\",\"colorbar\":{\"outlinewidth\":0,\"ticks\":\"\"}}],\"contour\":[{\"type\":\"contour\",\"colorbar\":{\"outlinewidth\":0,\"ticks\":\"\"},\"colorscale\":[[0.0,\"#0d0887\"],[0.1111111111111111,\"#46039f\"],[0.2222222222222222,\"#7201a8\"],[0.3333333333333333,\"#9c179e\"],[0.4444444444444444,\"#bd3786\"],[0.5555555555555556,\"#d8576b\"],[0.6666666666666666,\"#ed7953\"],[0.7777777777777778,\"#fb9f3a\"],[0.8888888888888888,\"#fdca26\"],[1.0,\"#f0f921\"]]}],\"surface\":[{\"type\":\"surface\",\"colorbar\":{\"outlinewidth\":0,\"ticks\":\"\"},\"colorscale\":[[0.0,\"#0d0887\"],[0.1111111111111111,\"#46039f\"],[0.2222222222222222,\"#7201a8\"],[0.3333333333333333,\"#9c179e\"],[0.4444444444444444,\"#bd3786\"],[0.5555555555555556,\"#d8576b\"],[0.6666666666666666,\"#ed7953\"],[0.7777777777777778,\"#fb9f3a\"],[0.8888888888888888,\"#fdca26\"],[1.0,\"#f0f921\"]]}],\"mesh3d\":[{\"type\":\"mesh3d\",\"colorbar\":{\"outlinewidth\":0,\"ticks\":\"\"}}],\"scatter\":[{\"fillpattern\":{\"fillmode\":\"overlay\",\"size\":10,\"solidity\":0.2},\"type\":\"scatter\"}],\"parcoords\":[{\"type\":\"parcoords\",\"line\":{\"colorbar\":{\"outlinewidth\":0,\"ticks\":\"\"}}}],\"scatterpolargl\":[{\"type\":\"scatterpolargl\",\"marker\":{\"colorbar\":{\"outlinewidth\":0,\"ticks\":\"\"}}}],\"bar\":[{\"error_x\":{\"color\":\"#2a3f5f\"},\"error_y\":{\"color\":\"#2a3f5f\"},\"marker\":{\"line\":{\"color\":\"#E5ECF6\",\"width\":0.5},\"pattern\":{\"fillmode\":\"overlay\",\"size\":10,\"solidity\":0.2}},\"type\":\"bar\"}],\"scattergeo\":[{\"type\":\"scattergeo\",\"marker\":{\"colorbar\":{\"outlinewidth\":0,\"ticks\":\"\"}}}],\"scatterpolar\":[{\"type\":\"scatterpolar\",\"marker\":{\"colorbar\":{\"outlinewidth\":0,\"ticks\":\"\"}}}],\"histogram\":[{\"marker\":{\"pattern\":{\"fillmode\":\"overlay\",\"size\":10,\"solidity\":0.2}},\"type\":\"histogram\"}],\"scattergl\":[{\"type\":\"scattergl\",\"marker\":{\"colorbar\":{\"outlinewidth\":0,\"ticks\":\"\"}}}],\"scatter3d\":[{\"type\":\"scatter3d\",\"line\":{\"colorbar\":{\"outlinewidth\":0,\"ticks\":\"\"}},\"marker\":{\"colorbar\":{\"outlinewidth\":0,\"ticks\":\"\"}}}],\"scattermapbox\":[{\"type\":\"scattermapbox\",\"marker\":{\"colorbar\":{\"outlinewidth\":0,\"ticks\":\"\"}}}],\"scatterternary\":[{\"type\":\"scatterternary\",\"marker\":{\"colorbar\":{\"outlinewidth\":0,\"ticks\":\"\"}}}],\"scattercarpet\":[{\"type\":\"scattercarpet\",\"marker\":{\"colorbar\":{\"outlinewidth\":0,\"ticks\":\"\"}}}],\"carpet\":[{\"aaxis\":{\"endlinecolor\":\"#2a3f5f\",\"gridcolor\":\"white\",\"linecolor\":\"white\",\"minorgridcolor\":\"white\",\"startlinecolor\":\"#2a3f5f\"},\"baxis\":{\"endlinecolor\":\"#2a3f5f\",\"gridcolor\":\"white\",\"linecolor\":\"white\",\"minorgridcolor\":\"white\",\"startlinecolor\":\"#2a3f5f\"},\"type\":\"carpet\"}],\"table\":[{\"cells\":{\"fill\":{\"color\":\"#EBF0F8\"},\"line\":{\"color\":\"white\"}},\"header\":{\"fill\":{\"color\":\"#C8D4E3\"},\"line\":{\"color\":\"white\"}},\"type\":\"table\"}],\"barpolar\":[{\"marker\":{\"line\":{\"color\":\"#E5ECF6\",\"width\":0.5},\"pattern\":{\"fillmode\":\"overlay\",\"size\":10,\"solidity\":0.2}},\"type\":\"barpolar\"}],\"pie\":[{\"automargin\":true,\"type\":\"pie\"}]},\"layout\":{\"autotypenumbers\":\"strict\",\"colorway\":[\"#636efa\",\"#EF553B\",\"#00cc96\",\"#ab63fa\",\"#FFA15A\",\"#19d3f3\",\"#FF6692\",\"#B6E880\",\"#FF97FF\",\"#FECB52\"],\"font\":{\"color\":\"#2a3f5f\"},\"hovermode\":\"closest\",\"hoverlabel\":{\"align\":\"left\"},\"paper_bgcolor\":\"white\",\"plot_bgcolor\":\"#E5ECF6\",\"polar\":{\"bgcolor\":\"#E5ECF6\",\"angularaxis\":{\"gridcolor\":\"white\",\"linecolor\":\"white\",\"ticks\":\"\"},\"radialaxis\":{\"gridcolor\":\"white\",\"linecolor\":\"white\",\"ticks\":\"\"}},\"ternary\":{\"bgcolor\":\"#E5ECF6\",\"aaxis\":{\"gridcolor\":\"white\",\"linecolor\":\"white\",\"ticks\":\"\"},\"baxis\":{\"gridcolor\":\"white\",\"linecolor\":\"white\",\"ticks\":\"\"},\"caxis\":{\"gridcolor\":\"white\",\"linecolor\":\"white\",\"ticks\":\"\"}},\"coloraxis\":{\"colorbar\":{\"outlinewidth\":0,\"ticks\":\"\"}},\"colorscale\":{\"sequential\":[[0.0,\"#0d0887\"],[0.1111111111111111,\"#46039f\"],[0.2222222222222222,\"#7201a8\"],[0.3333333333333333,\"#9c179e\"],[0.4444444444444444,\"#bd3786\"],[0.5555555555555556,\"#d8576b\"],[0.6666666666666666,\"#ed7953\"],[0.7777777777777778,\"#fb9f3a\"],[0.8888888888888888,\"#fdca26\"],[1.0,\"#f0f921\"]],\"sequentialminus\":[[0.0,\"#0d0887\"],[0.1111111111111111,\"#46039f\"],[0.2222222222222222,\"#7201a8\"],[0.3333333333333333,\"#9c179e\"],[0.4444444444444444,\"#bd3786\"],[0.5555555555555556,\"#d8576b\"],[0.6666666666666666,\"#ed7953\"],[0.7777777777777778,\"#fb9f3a\"],[0.8888888888888888,\"#fdca26\"],[1.0,\"#f0f921\"]],\"diverging\":[[0,\"#8e0152\"],[0.1,\"#c51b7d\"],[0.2,\"#de77ae\"],[0.3,\"#f1b6da\"],[0.4,\"#fde0ef\"],[0.5,\"#f7f7f7\"],[0.6,\"#e6f5d0\"],[0.7,\"#b8e186\"],[0.8,\"#7fbc41\"],[0.9,\"#4d9221\"],[1,\"#276419\"]]},\"xaxis\":{\"gridcolor\":\"white\",\"linecolor\":\"white\",\"ticks\":\"\",\"title\":{\"standoff\":15},\"zerolinecolor\":\"white\",\"automargin\":true,\"zerolinewidth\":2},\"yaxis\":{\"gridcolor\":\"white\",\"linecolor\":\"white\",\"ticks\":\"\",\"title\":{\"standoff\":15},\"zerolinecolor\":\"white\",\"automargin\":true,\"zerolinewidth\":2},\"scene\":{\"xaxis\":{\"backgroundcolor\":\"#E5ECF6\",\"gridcolor\":\"white\",\"linecolor\":\"white\",\"showbackground\":true,\"ticks\":\"\",\"zerolinecolor\":\"white\",\"gridwidth\":2},\"yaxis\":{\"backgroundcolor\":\"#E5ECF6\",\"gridcolor\":\"white\",\"linecolor\":\"white\",\"showbackground\":true,\"ticks\":\"\",\"zerolinecolor\":\"white\",\"gridwidth\":2},\"zaxis\":{\"backgroundcolor\":\"#E5ECF6\",\"gridcolor\":\"white\",\"linecolor\":\"white\",\"showbackground\":true,\"ticks\":\"\",\"zerolinecolor\":\"white\",\"gridwidth\":2}},\"shapedefaults\":{\"line\":{\"color\":\"#2a3f5f\"}},\"annotationdefaults\":{\"arrowcolor\":\"#2a3f5f\",\"arrowhead\":0,\"arrowwidth\":1},\"geo\":{\"bgcolor\":\"white\",\"landcolor\":\"#E5ECF6\",\"subunitcolor\":\"white\",\"showland\":true,\"showlakes\":true,\"lakecolor\":\"white\"},\"title\":{\"x\":0.05},\"mapbox\":{\"style\":\"light\"}}},\"xaxis\":{\"anchor\":\"y\",\"domain\":[0.0,1.0],\"title\":{\"text\":\"Date\"}},\"yaxis\":{\"anchor\":\"x\",\"domain\":[0.0,1.0],\"title\":{\"text\":\"Value\"}},\"legend\":{\"title\":{\"text\":\"Index\"},\"tracegroupgap\":0},\"title\":{\"text\":\"Portfolio Value vs. NSE Nifty 50 Value\"}},                        {\"responsive\": true}                    ).then(function(){\n",
       "                            \n",
       "var gd = document.getElementById('0d68537a-4b47-495d-9d96-25584d14ca13');\n",
       "var x = new MutationObserver(function (mutations, observer) {{\n",
       "        var display = window.getComputedStyle(gd).display;\n",
       "        if (!display || display === 'none') {{\n",
       "            console.log([gd, 'removed!']);\n",
       "            Plotly.purge(gd);\n",
       "            observer.disconnect();\n",
       "        }}\n",
       "}});\n",
       "\n",
       "// Listen for the removal of the full notebook cells\n",
       "var notebookContainer = gd.closest('#notebook-container');\n",
       "if (notebookContainer) {{\n",
       "    x.observe(notebookContainer, {childList: true});\n",
       "}}\n",
       "\n",
       "// Listen for the clearing of the current output cell\n",
       "var outputEl = gd.closest('.output');\n",
       "if (outputEl) {{\n",
       "    x.observe(outputEl, {childList: true});\n",
       "}}\n",
       "\n",
       "                        })                };                });            </script>        </div>"
      ]
     },
     "metadata": {},
     "output_type": "display_data"
    }
   ],
   "source": [
    "# Create a new dataframe for visualization (returns)\n",
    "visualization_data_returns = pd.DataFrame({\n",
    "    \"Date\": data.index,\n",
    "    \"Portfolio Returns (in %)\": data[\"portfolio\"].pct_change() * 100,\n",
    "    \"NSE Nifty 50 Returns (in %)\": data[market_symbol].pct_change() * 100\n",
    "})\n",
    "\n",
    "\n",
    "\n",
    "# Create a new dataframe for visualization (returns)\n",
    "visualization_data_returns = pd.DataFrame({\n",
    "    \"Date\": data.index,\n",
    "    \"Portfolio Returns (in %)\": data[\"portfolio\"].pct_change() * 100,\n",
    "    \"NSE Nifty 50 Returns (in %)\": data[market_symbol].pct_change() * 100\n",
    "})\n",
    "\n",
    "# Plot using Plotly for interactivity (returns)\n",
    "fig_returns = px.line(visualization_data_returns, x=\"Date\", y=[\"Portfolio Returns (in %)\", \"NSE Nifty 50 Returns (in %)\"],\n",
    "                      labels={\"value\": \"Returns (%)\", \"variable\": \"Index\"},\n",
    "                      title=\"Portfolio Returns vs. NSE Nifty 50 Returns\")\n",
    "fig_returns.show()\n",
    "\n",
    "# Create a new dataframe for visualization (values)\n",
    "visualization_data_values = pd.DataFrame({\n",
    "    \"Date\": data.index,\n",
    "    \"Portfolio Value\": data[\"portfolio\"],\n",
    "    \"NSE Nifty 50 Value\": data[market_symbol]\n",
    "})\n",
    "\n",
    "# Plot using Plotly for interactivity (values)\n",
    "fig_values = px.line(visualization_data_values, x=\"Date\", y=[\"Portfolio Value\", \"NSE Nifty 50 Value\"],\n",
    "                     labels={\"value\": \"Value\", \"variable\": \"Index\"},\n",
    "                     title=\"Portfolio Value vs. NSE Nifty 50 Value\")\n",
    "fig_values.show()"
   ]
  },
  {
   "cell_type": "code",
   "execution_count": 62,
   "id": "8a086e6a-cba0-4bd2-a5a4-765dfc161337",
   "metadata": {},
   "outputs": [
    {
     "data": {
      "text/plain": [
       "[0.47396551414480775, -0.6424439884581775, 0.7266730273484378]"
      ]
     },
     "execution_count": 62,
     "metadata": {},
     "output_type": "execute_result"
    }
   ],
   "source": [
    "adj_betas[:3]"
   ]
  },
  {
   "cell_type": "code",
   "execution_count": 66,
   "id": "dea7b41b-da9a-4fe2-b745-82ca3e00b60c",
   "metadata": {},
   "outputs": [
    {
     "data": {
      "text/plain": [
       "1.2848675803835057"
      ]
     },
     "execution_count": 66,
     "metadata": {},
     "output_type": "execute_result"
    }
   ],
   "source": [
    "weight=np.array([1,1,2])\n",
    "weight.T @ adj_betas[:3]"
   ]
  },
  {
   "cell_type": "code",
   "execution_count": null,
   "id": "f1604069-d2e7-404c-8517-c33a7ef06d4a",
   "metadata": {},
   "outputs": [],
   "source": []
  },
  {
   "cell_type": "code",
   "execution_count": null,
   "id": "24a27081-91b8-4356-a751-654555bd9ee7",
   "metadata": {},
   "outputs": [],
   "source": []
  },
  {
   "cell_type": "code",
   "execution_count": null,
   "id": "4075ffb0-3deb-4cc2-a5f5-bea73c20d83e",
   "metadata": {},
   "outputs": [],
   "source": []
  }
 ],
 "metadata": {
  "kernelspec": {
   "display_name": "Python 3 (ipykernel)",
   "language": "python",
   "name": "python3"
  },
  "language_info": {
   "codemirror_mode": {
    "name": "ipython",
    "version": 3
   },
   "file_extension": ".py",
   "mimetype": "text/x-python",
   "name": "python",
   "nbconvert_exporter": "python",
   "pygments_lexer": "ipython3",
   "version": "3.10.9"
  }
 },
 "nbformat": 4,
 "nbformat_minor": 5
}
