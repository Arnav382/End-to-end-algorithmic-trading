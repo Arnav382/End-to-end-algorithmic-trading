{
 "cells": [
  {
   "cell_type": "code",
   "execution_count": 1,
   "id": "f2d21903-8a12-417c-bba1-48cbccbbcab7",
   "metadata": {},
   "outputs": [],
   "source": [
    "from yahoofinancials import YahooFinancials\n",
    "import pandas as pd\n",
    "import datetime as dt"
   ]
  },
  {
   "cell_type": "code",
   "execution_count": 4,
   "id": "48f0b902-cccd-41da-9807-8590186941cd",
   "metadata": {},
   "outputs": [],
   "source": [
    "stocks=[\"IGL.NS\",\"BSOFT.NS\",\"KARURVYSYA.BO\",\"SBICARD.NS\",\"FINCABLES.NS\",\"CAMLINFINE.NS\",\"CANBK.NS\",\"KNRCON.BO\",\"^BSESN\"]\n",
    "\n",
    "# close_prices=pd.DataFrame()\n",
    "end_date=dt.date.today().strftime('%Y-%m-%d')\n",
    "start_date=(dt.date.today()-dt.timedelta(182)).strftime('%Y-%m-%d')\n",
    "# ticker=stocks[0]\n",
    "# yf=YahooFinancials(ticker)\n",
    "# dat=yf.get_historical_price_data(start_date,end_date,\"daily\")\n",
    "# ohlv=dat[ticker][\"prices\"]\n",
    "# df=pd.DataFrame(ohlv)[{\"formatted_date\",\"adjclose\"}]\n",
    "# df.set_index(\"formatted_date\",inplace=True)\n",
    "# df.dropna(inplace=True)\n",
    "# close_prices[ticker]=df[\"adjclose\"]"
   ]
  },
  {
   "cell_type": "code",
   "execution_count": 6,
   "id": "bace598d-27bc-4b0d-962d-02a2915e14cc",
   "metadata": {},
   "outputs": [],
   "source": [
    "## looping through all the shares in the stocks list\n",
    "close_prices={}\n",
    "for ticker in stocks:\n",
    "    yf=YahooFinancials(ticker)\n",
    "    dat=yf.get_historical_price_data(start_date,end_date,\"daily\")\n",
    "    ohlv=dat[ticker][\"prices\"]\n",
    "    df=pd.DataFrame(ohlv)[{\"formatted_date\",\"adjclose\"}]\n",
    "    df.set_index(\"formatted_date\",inplace=True)\n",
    "    df.dropna(inplace=True)\n",
    "    close_prices[ticker]=df[\"adjclose\"]"
   ]
  },
  {
   "cell_type": "code",
   "execution_count": 8,
   "id": "db9e7691-956e-49e2-b002-8a0d09af6bff",
   "metadata": {},
   "outputs": [
    {
     "data": {
      "text/plain": [
       "formatted_date\n",
       "2022-05-02    345.815765\n",
       "2022-05-04    342.459290\n",
       "2022-05-05    343.100952\n",
       "2022-05-06    344.483063\n",
       "2022-05-09    349.813934\n",
       "                 ...    \n",
       "2022-10-21    381.750000\n",
       "2022-10-24    383.350006\n",
       "2022-10-25    407.649994\n",
       "2022-10-27    425.549988\n",
       "2022-10-28    422.500000\n",
       "Name: adjclose, Length: 124, dtype: float64"
      ]
     },
     "execution_count": 8,
     "metadata": {},
     "output_type": "execute_result"
    }
   ],
   "source": [
    "close_prices[\"IGL.NS\"]"
   ]
  },
  {
   "cell_type": "code",
   "execution_count": null,
   "id": "5dea99bb-4d36-47a5-aff4-82804e9b6fab",
   "metadata": {},
   "outputs": [],
   "source": []
  }
 ],
 "metadata": {
  "kernelspec": {
   "display_name": "Python 3 (ipykernel)",
   "language": "python",
   "name": "python3"
  },
  "language_info": {
   "codemirror_mode": {
    "name": "ipython",
    "version": 3
   },
   "file_extension": ".py",
   "mimetype": "text/x-python",
   "name": "python",
   "nbconvert_exporter": "python",
   "pygments_lexer": "ipython3",
   "version": "3.10.9"
  }
 },
 "nbformat": 4,
 "nbformat_minor": 5
}
