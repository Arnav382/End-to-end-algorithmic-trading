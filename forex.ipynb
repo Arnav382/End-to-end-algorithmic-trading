{
 "cells": [
  {
   "cell_type": "code",
   "execution_count": 27,
   "id": "d58ad125-530d-4944-ae60-9be06a6f7253",
   "metadata": {},
   "outputs": [],
   "source": [
    "import yfinance as yf\n",
    "import pandas as pd\n",
    "import numpy as np\n",
    "import plotly.express as px"
   ]
  },
  {
   "cell_type": "markdown",
   "id": "81261d8c-89e7-4b76-aa8e-4771eb728ead",
   "metadata": {},
   "source": [
    "### USD/X -> X/JPY -> JPY/USD (X -> variable currency)"
   ]
  },
  {
   "cell_type": "code",
   "execution_count": 51,
   "id": "17f4d1cc-6c71-457d-8108-e40b9d3c1a67",
   "metadata": {},
   "outputs": [
    {
     "name": "stdout",
     "output_type": "stream",
     "text": [
      "[*********************100%***********************]  1 of 1 completed\n",
      "[*********************100%***********************]  1 of 1 completed\n",
      "[*********************100%***********************]  1 of 1 completed\n"
     ]
    }
   ],
   "source": [
    "v_1=\"USDGBP=X\"\n",
    "v_2=\"GBPJPY=X\"\n",
    "v_3=\"JPYUSD=X\"\n",
    "period='5d'\n",
    "interval='1m'\n",
    "\n",
    "data_1=yf.download(usd_cad,period=period,interval=interval)\n",
    "data_2=yf.download(cad_jpy,period=period,interval=interval)\n",
    "data_3=yf.download(jpy_usd,period=period,interval=interval)"
   ]
  },
  {
   "cell_type": "code",
   "execution_count": 52,
   "id": "09343ae9-3d4f-4861-8845-f2d0ce1b1b88",
   "metadata": {},
   "outputs": [],
   "source": [
    "composite_value=data_1[\"Close\"]*data_2[\"Close\"]*data_3[\"Close\"]\n",
    "composite_value=composite_value.dropna()"
   ]
  },
  {
   "cell_type": "code",
   "execution_count": 53,
   "id": "7cbb8a82-a097-4d74-b5c6-b2ce10e7a042",
   "metadata": {},
   "outputs": [
    {
     "data": {
      "text/plain": [
       "0.1041423474396952"
      ]
     },
     "execution_count": 53,
     "metadata": {},
     "output_type": "execute_result"
    }
   ],
   "source": [
    "100*(composite_value.max()-composite_value.min())"
   ]
  },
  {
   "cell_type": "code",
   "execution_count": 54,
   "id": "4d141265-2129-4c7e-867c-0dc3bc0a3b3e",
   "metadata": {},
   "outputs": [
    {
     "data": {
      "text/plain": [
       "Timestamp('2023-08-22 13:39:00+0100', tz='Europe/London')"
      ]
     },
     "execution_count": 54,
     "metadata": {},
     "output_type": "execute_result"
    }
   ],
   "source": [
    "composite_value.idxmax()"
   ]
  },
  {
   "cell_type": "code",
   "execution_count": 55,
   "id": "3266ef61-49a8-4ef9-9d55-b40feefa8044",
   "metadata": {},
   "outputs": [
    {
     "data": {
      "text/plain": [
       "Timestamp('2023-08-22 22:21:00+0100', tz='Europe/London')"
      ]
     },
     "execution_count": 55,
     "metadata": {},
     "output_type": "execute_result"
    }
   ],
   "source": [
    "composite_value.idxmin()"
   ]
  },
  {
   "cell_type": "code",
   "execution_count": 57,
   "id": "a038a6b4-0151-4c88-952b-4c62a6a2eaff",
   "metadata": {},
   "outputs": [
    {
     "data": {
      "text/plain": [
       "array([0.99990867, 0.99991226, 0.9999334 , ..., 0.99998651, 0.99960831,\n",
       "       0.99995463])"
      ]
     },
     "execution_count": 57,
     "metadata": {},
     "output_type": "execute_result"
    }
   ],
   "source": []
  },
  {
   "cell_type": "code",
   "execution_count": null,
   "id": "1281c779-08ef-4ad9-ae5c-6c9c8974bf2a",
   "metadata": {},
   "outputs": [],
   "source": []
  }
 ],
 "metadata": {
  "kernelspec": {
   "display_name": "Python 3 (ipykernel)",
   "language": "python",
   "name": "python3"
  },
  "language_info": {
   "codemirror_mode": {
    "name": "ipython",
    "version": 3
   },
   "file_extension": ".py",
   "mimetype": "text/x-python",
   "name": "python",
   "nbconvert_exporter": "python",
   "pygments_lexer": "ipython3",
   "version": "3.10.9"
  }
 },
 "nbformat": 4,
 "nbformat_minor": 5
}
