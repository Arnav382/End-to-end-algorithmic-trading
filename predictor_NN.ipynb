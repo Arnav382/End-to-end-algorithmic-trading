{
 "cells": [
  {
   "cell_type": "code",
   "execution_count": 1,
   "id": "411cb840-5f3a-47ba-8249-33fd5765fddd",
   "metadata": {},
   "outputs": [],
   "source": [
    "import pandas as pd\n",
    "import yfinance as yf\n",
    "import numpy as np\n",
    "import matplotlib.pyplot as plt\n",
    "import pandas as pd\n",
    "from sklearn.metrics import mean_squared_error"
   ]
  },
  {
   "cell_type": "code",
   "execution_count": null,
   "id": "23d259c4-0340-46ce-a9e1-ec7b76b3f512",
   "metadata": {},
   "outputs": [],
   "source": []
  },
  {
   "cell_type": "code",
   "execution_count": 2,
   "id": "06cb2899-3e12-42bb-a812-1c4a019ff0b4",
   "metadata": {},
   "outputs": [
    {
     "name": "stdout",
     "output_type": "stream",
     "text": [
      "[*********************100%***********************]  1 of 1 completed\n"
     ]
    }
   ],
   "source": [
    "stocks=[\"^NSEI\"]\n",
    "ohclv_data={}\n",
    "for ticker in stocks:\n",
    "    temp=yf.download(ticker,period='5y',interval='1mo')\n",
    "    temp.dropna(how='any',inplace=True)\n",
    "    ohclv_data[ticker]=temp   "
   ]
  },
  {
   "cell_type": "code",
   "execution_count": 3,
   "id": "1d1d1ed3-5645-4e04-9edd-a344a3436eb3",
   "metadata": {},
   "outputs": [
    {
     "data": {
      "text/plain": [
       "Date\n",
       "2018-09-01    10930.450195\n",
       "2018-10-01    10386.599609\n",
       "2018-11-01    10876.750000\n",
       "2018-12-01    10862.549805\n",
       "2019-01-01    10830.950195\n",
       "2019-02-01    10792.500000\n",
       "2019-03-01    11623.900391\n",
       "2019-04-01    11748.150391\n",
       "2019-05-01    11922.799805\n",
       "2019-06-01    11788.849609\n",
       "2019-07-01    11118.000000\n",
       "2019-08-01    11023.250000\n",
       "2019-09-01    11474.450195\n",
       "2019-10-01    11877.450195\n",
       "2019-11-01    12056.049805\n",
       "2019-12-01    12168.450195\n",
       "2020-01-01    11962.099609\n",
       "2020-02-01    11201.750000\n",
       "2020-03-01     8597.750000\n",
       "2020-04-01     9859.900391\n",
       "2020-05-01     9580.299805\n",
       "2020-06-01    10302.099609\n",
       "2020-07-01    11073.450195\n",
       "2020-08-01    11387.500000\n",
       "2020-09-01    11247.549805\n",
       "2020-10-01    11642.400391\n",
       "2020-11-01    12968.950195\n",
       "2020-12-01    13981.750000\n",
       "2021-01-01    13634.599609\n",
       "2021-02-01    14529.150391\n",
       "2021-03-01    14690.700195\n",
       "2021-04-01    14631.099609\n",
       "2021-05-01    15582.799805\n",
       "2021-06-01    15721.500000\n",
       "2021-07-01    15763.049805\n",
       "2021-08-01    17132.199219\n",
       "2021-09-01    17618.150391\n",
       "2021-10-01    17671.650391\n",
       "2021-11-01    16983.199219\n",
       "2021-12-01    17354.050781\n",
       "2022-01-01    17339.849609\n",
       "2022-02-01    16793.900391\n",
       "2022-03-01    17464.750000\n",
       "2022-04-01    17102.550781\n",
       "2022-05-01    16584.550781\n",
       "2022-06-01    15780.250000\n",
       "2022-07-01    17158.250000\n",
       "2022-08-01    17759.300781\n",
       "2022-09-01    17094.349609\n",
       "2022-10-01    18012.199219\n",
       "2022-11-01    18758.349609\n",
       "2022-12-01    18105.300781\n",
       "2023-01-01    17662.150391\n",
       "2023-02-01    17303.949219\n",
       "2023-03-01    17359.750000\n",
       "2023-04-01    18065.000000\n",
       "2023-05-01    18534.400391\n",
       "2023-06-01    19189.050781\n",
       "2023-07-01    19753.800781\n",
       "2023-08-01    19543.099609\n",
       "Name: Close, dtype: float64"
      ]
     },
     "execution_count": 3,
     "metadata": {},
     "output_type": "execute_result"
    }
   ],
   "source": [
    "df=ohclv_data[\"^NSEI\"]\n",
    "# df=ohclv_data[\"SBIN.NS\"]\n",
    "df1=df[\"Close\"]\n",
    "df1"
   ]
  },
  {
   "cell_type": "markdown",
   "id": "c159f64e-0a57-46bf-9d7e-e4c77d6cfc56",
   "metadata": {},
   "source": [
    "## building the forecasting model using LSTM"
   ]
  },
  {
   "cell_type": "code",
   "execution_count": 4,
   "id": "60eba2b8-054c-4330-8a46-6adf2adebd0c",
   "metadata": {},
   "outputs": [
    {
     "ename": "ModuleNotFoundError",
     "evalue": "No module named 'tensorflow'",
     "output_type": "error",
     "traceback": [
      "\u001b[0;31m---------------------------------------------------------------------------\u001b[0m",
      "\u001b[0;31mModuleNotFoundError\u001b[0m                       Traceback (most recent call last)",
      "Cell \u001b[0;32mIn[4], line 3\u001b[0m\n\u001b[1;32m      1\u001b[0m \u001b[38;5;28;01mimport\u001b[39;00m \u001b[38;5;21;01mnumpy\u001b[39;00m \u001b[38;5;28;01mas\u001b[39;00m \u001b[38;5;21;01mnp\u001b[39;00m\n\u001b[1;32m      2\u001b[0m \u001b[38;5;28;01mimport\u001b[39;00m \u001b[38;5;21;01mpandas\u001b[39;00m \u001b[38;5;28;01mas\u001b[39;00m \u001b[38;5;21;01mpd\u001b[39;00m\n\u001b[0;32m----> 3\u001b[0m \u001b[38;5;28;01mimport\u001b[39;00m \u001b[38;5;21;01mtensorflow\u001b[39;00m \u001b[38;5;28;01mas\u001b[39;00m \u001b[38;5;21;01mtf\u001b[39;00m\n\u001b[1;32m      4\u001b[0m \u001b[38;5;28;01mfrom\u001b[39;00m \u001b[38;5;21;01msklearn\u001b[39;00m\u001b[38;5;21;01m.\u001b[39;00m\u001b[38;5;21;01mpreprocessing\u001b[39;00m \u001b[38;5;28;01mimport\u001b[39;00m MinMaxScaler\n\u001b[1;32m      6\u001b[0m \u001b[38;5;66;03m# Load the stock market data\u001b[39;00m\n",
      "\u001b[0;31mModuleNotFoundError\u001b[0m: No module named 'tensorflow'"
     ]
    }
   ],
   "source": [
    "import numpy as np\n",
    "import pandas as pd\n",
    "import tensorflow as tf\n",
    "from sklearn.preprocessing import MinMaxScaler\n",
    "\n",
    "# Load the stock market data\n",
    "data = df[1000:] # Replace 'stock_data.csv' with your dataset\n",
    "\n",
    "# Preprocess the data\n",
    "scaler = MinMaxScaler(feature_range=(0, 1))\n",
    "scaled_data = scaler.fit_transform(data['Close'].values.reshape(-1, 1))\n",
    "\n",
    "# Define the number of previous periods and future periods\n",
    "num_periods = 20\n",
    "future_periods = 4\n",
    "\n",
    "# Prepare the data for training\n",
    "train_data = scaled_data[:-num_periods]\n",
    "X_train = []\n",
    "y_train = []\n",
    "for i in range(num_periods, len(train_data)):\n",
    "    X_train.append(train_data[i - num_periods:i, 0])\n",
    "    y_train.append(train_data[i, 0])\n",
    "X_train, y_train = np.array(X_train), np.array(y_train)\n",
    "X_train = np.reshape(X_train, (X_train.shape[0], X_train.shape[1], 1))\n",
    "\n",
    "# Build and train the LSTM model\n",
    "model = tf.keras.Sequential()\n",
    "model.add(tf.keras.layers.LSTM(units=50, return_sequences=True, input_shape=(X_train.shape[1], 1)))\n",
    "model.add(tf.keras.layers.LSTM(units=50,return_sequences=True))\n",
    "model.add(tf.keras.layers.LSTM(units=50))\n",
    "model.add(tf.keras.layers.Dense(units=1))\n",
    "optim=tf.keras.optimizers.RMSprop(learning_rate=3e-4)\n",
    "model.compile(optimizer=optim, loss='mean_squared_error')\n",
    "history=model.fit(X_train, y_train, epochs=60, batch_size=32)\n",
    "\n",
    "# Plot the loss curve\n",
    "plt.plot(history.history['loss'])\n",
    "plt.title('Model Loss')\n",
    "plt.xlabel('Epoch')\n",
    "plt.ylabel('Loss')\n",
    "plt.show()"
   ]
  },
  {
   "cell_type": "code",
   "execution_count": null,
   "id": "73d4c196-db22-4ee3-8651-a116d1128d4c",
   "metadata": {},
   "outputs": [],
   "source": [
    "# Prepare the data for making future predictions\n",
    "last_periods = scaled_data[-num_periods:]\n",
    "X_future = np.array([last_periods])\n",
    "X_future = np.reshape(X_future, (X_future.shape[0], X_future.shape[1], 1))\n",
    "\n",
    "# Make predictions for the future periods\n",
    "predicted_future = []\n",
    "for _ in range(future_periods):\n",
    "    prediction = model.predict(X_future)\n",
    "    predicted_future.append(prediction[0, 0])\n",
    "    X_future = np.concatenate((X_future[:, 1:, :], prediction.reshape(1, 1, 1)), axis=1)\n",
    "\n",
    "predicted_future = np.array(predicted_future)\n",
    "predicted_future = np.reshape(predicted_future, (predicted_future.shape[0], 1))\n",
    "predicted_future = scaler.inverse_transform(predicted_future)\n",
    "\n",
    "# Plot the historical and predicted data\n",
    "historical_data = scaler.inverse_transform(scaled_data)\n",
    "future_periods_index = np.arange(len(historical_data), len(historical_data) + future_periods)\n",
    "\n",
    "plt.figure(figsize=(10, 6))\n",
    "plt.plot(historical_data, label='Historical Data')\n",
    "plt.plot(future_periods_index, predicted_future, label='Predicted Future')\n",
    "plt.title('Stock Market Predictions')\n",
    "plt.xlabel('Period')\n",
    "plt.ylabel('Closing Price')\n",
    "plt.legend()\n",
    "plt.show()"
   ]
  },
  {
   "cell_type": "code",
   "execution_count": null,
   "id": "0637455b-0e2c-47cb-a69c-75a0fc3b906a",
   "metadata": {},
   "outputs": [],
   "source": [
    "predicted_future\n"
   ]
  },
  {
   "cell_type": "code",
   "execution_count": null,
   "id": "c3fbc85e-c4d8-412c-ab4e-95a6d40f1ac3",
   "metadata": {},
   "outputs": [],
   "source": [
    "# Plot the historical and predicted data\n",
    "historical_data = scaler.inverse_transform(scaled_data)\n",
    "future_periods_index = np.arange(len(historical_data), len(historical_data) + future_periods)\n",
    "\n",
    "plt.figure(figsize=(10, 6))\n",
    "plt.plot(historical_data, label='Historical Data')\n",
    "plt.plot(future_periods_index, predicted_future, label='Predicted Future')\n",
    "plt.title('Stock Market Predictions')\n",
    "plt.xlabel('Period')\n",
    "plt.ylabel('Closing Price')\n",
    "plt.legend()\n",
    "plt.show()"
   ]
  },
  {
   "cell_type": "code",
   "execution_count": null,
   "id": "21b7c1cb-c344-441a-b45a-e71eb92e6c51",
   "metadata": {},
   "outputs": [],
   "source": []
  },
  {
   "cell_type": "code",
   "execution_count": null,
   "id": "b57e9dfc-9742-40f0-a91b-093154ebb22f",
   "metadata": {},
   "outputs": [],
   "source": []
  }
 ],
 "metadata": {
  "kernelspec": {
   "display_name": "Python 3 (ipykernel)",
   "language": "python",
   "name": "python3"
  },
  "language_info": {
   "codemirror_mode": {
    "name": "ipython",
    "version": 3
   },
   "file_extension": ".py",
   "mimetype": "text/x-python",
   "name": "python",
   "nbconvert_exporter": "python",
   "pygments_lexer": "ipython3",
   "version": "3.10.9"
  }
 },
 "nbformat": 4,
 "nbformat_minor": 5
}
