{
 "cells": [
  {
   "cell_type": "code",
   "execution_count": 6,
   "id": "b85749aa-c043-4953-809f-263be324bd17",
   "metadata": {},
   "outputs": [],
   "source": [
    "import yfinance as yf\n",
    "import datetime as dt\n",
    "import pandas as pd"
   ]
  },
  {
   "cell_type": "code",
   "execution_count": 7,
   "id": "a6ef1312-6eda-48e9-82db-93faa183053c",
   "metadata": {},
   "outputs": [],
   "source": [
    "stocks=[\"HDFCBANK.NS\",\"AXISBANK.NS\",\"HINDALCO.NS\"]\n",
    "start=dt.datetime.today()-dt.timedelta(30)\n",
    "end=dt.datetime.today()"
   ]
  },
  {
   "cell_type": "code",
   "execution_count": 9,
   "id": "03a375e7-4350-427a-b40d-01b29ee7b173",
   "metadata": {},
   "outputs": [
    {
     "name": "stdout",
     "output_type": "stream",
     "text": [
      "[*********************100%***********************]  1 of 1 completed\n",
      "[*********************100%***********************]  1 of 1 completed\n",
      "[*********************100%***********************]  1 of 1 completed\n"
     ]
    }
   ],
   "source": [
    "cl_price=pd.DataFrame()\n",
    "for ticker in stocks:\n",
    "    cl_price[ticker]=yf.download(ticker,start,end)[\"Adj Close\"]"
   ]
  },
  {
   "cell_type": "code",
   "execution_count": 11,
   "id": "a814b584-3420-48d7-9221-35617d8c5758",
   "metadata": {},
   "outputs": [
    {
     "name": "stdout",
     "output_type": "stream",
     "text": [
      "[*********************100%***********************]  1 of 1 completed\n",
      "[*********************100%***********************]  1 of 1 completed\n",
      "[*********************100%***********************]  1 of 1 completed\n"
     ]
    }
   ],
   "source": [
    "ohclv_data={}\n",
    "for ticker in stocks:\n",
    "    ohclv_data[ticker]=yf.download(ticker,start,end)"
   ]
  }
 ],
 "metadata": {
  "kernelspec": {
   "display_name": "Python 3 (ipykernel)",
   "language": "python",
   "name": "python3"
  },
  "language_info": {
   "codemirror_mode": {
    "name": "ipython",
    "version": 3
   },
   "file_extension": ".py",
   "mimetype": "text/x-python",
   "name": "python",
   "nbconvert_exporter": "python",
   "pygments_lexer": "ipython3",
   "version": "3.10.9"
  }
 },
 "nbformat": 4,
 "nbformat_minor": 5
}
